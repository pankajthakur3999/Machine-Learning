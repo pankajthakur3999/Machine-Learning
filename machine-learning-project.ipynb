{
 "cells": [
  {
   "cell_type": "markdown",
   "metadata": {
    "id": "t9RixEGk-EB3"
   },
   "source": [
    "# **Predicting Walmart Sales using Machine Learning**\n",
    "![](https://i.imgur.com/al16kv3.png)"
   ]
  },
  {
   "cell_type": "markdown",
   "metadata": {
    "id": "Kg4Iqc33wQAG"
   },
   "source": [
    "Walmart is an American Retail, Wholesale and E-commerce business. Sam Walton founded Walmart in 1962 in Rogers, Arkansas. His goal was to help people \"Save Money and Live Better\" which continues to be Walmart's guiding mission with \"Every Day Low Prices(EDLC)\" and great service.\n",
    "\n",
    "In this notebook we will explore Supervised Machine Learning methods.\n",
    "\n",
    "\n",
    "- Download the Dataset\n",
    "- Exploratory data analysis and visualization\n",
    "- Splitting a dataset into training, validation & test sets\n",
    "- Filling/imputing missing values in numeric columns\n",
    "- Encoding categorical columns as one-hot vectors\n",
    "- Training a logistic regression model using Scikit-learn\n",
    "- Evaluating a model using a validation set and test set\n",
    "- Saving a model to disk and loading it back"
   ]
  },
  {
   "cell_type": "code",
   "execution_count": 1,
   "metadata": {
    "executionInfo": {
     "elapsed": 9631,
     "status": "ok",
     "timestamp": 1667806945520,
     "user": {
      "displayName": "Pankaj Thakur",
      "userId": "05146800060821315169"
     },
     "user_tz": -330
    },
    "id": "bJZOyxqAUwaP"
   },
   "outputs": [],
   "source": [
    "!pip install jovian --upgrade --quiet"
   ]
  },
  {
   "cell_type": "code",
   "execution_count": 2,
   "metadata": {
    "executionInfo": {
     "elapsed": 24,
     "status": "ok",
     "timestamp": 1667806945523,
     "user": {
      "displayName": "Pankaj Thakur",
      "userId": "05146800060821315169"
     },
     "user_tz": -330
    },
    "id": "Kb4xtwNAUwaQ"
   },
   "outputs": [],
   "source": [
    "import jovian"
   ]
  },
  {
   "cell_type": "code",
   "execution_count": 3,
   "metadata": {
    "colab": {
     "base_uri": "https://localhost:8080/",
     "height": 122
    },
    "executionInfo": {
     "elapsed": 16437,
     "status": "ok",
     "timestamp": 1667806966571,
     "user": {
      "displayName": "Pankaj Thakur",
      "userId": "05146800060821315169"
     },
     "user_tz": -330
    },
    "id": "-XCuMwCGUwaR",
    "outputId": "83f76a83-786a-4e61-bb19-54412928f5d7"
   },
   "outputs": [
    {
     "data": {
      "application/javascript": [
       "window.require && require([\"base/js/namespace\"],function(Jupyter){Jupyter.notebook.save_checkpoint()})"
      ],
      "text/plain": [
       "<IPython.core.display.Javascript object>"
      ]
     },
     "metadata": {},
     "output_type": "display_data"
    },
    {
     "name": "stdout",
     "output_type": "stream",
     "text": [
      "[jovian] Updating notebook \"pankajthakur3999/machine-learning-project\" on https://jovian.ai\u001b[0m\n",
      "[jovian] Committed successfully! https://jovian.ai/pankajthakur3999/machine-learning-project\u001b[0m\n"
     ]
    },
    {
     "data": {
      "text/plain": [
       "'https://jovian.ai/pankajthakur3999/machine-learning-project'"
      ]
     },
     "execution_count": 3,
     "metadata": {},
     "output_type": "execute_result"
    }
   ],
   "source": [
    "# Execute this to save new versions of the notebook\n",
    "jovian.commit(project=\"machine-learning-project\")"
   ]
  },
  {
   "cell_type": "markdown",
   "metadata": {
    "id": "MvPonBQ-VIOP"
   },
   "source": [
    "Dataset url = https://www.kaggle.com/competitions/walmart-recruiting-store-sales-forecasting/data"
   ]
  },
  {
   "cell_type": "markdown",
   "metadata": {
    "id": "kgRNBftHWamd"
   },
   "source": [
    "## 1. Download the Dataset\n",
    "\n",
    "- Install required libraries\n",
    "- Download data from Kaggle\n",
    "- View dataset files\n",
    "- Load training set with Pandas\n",
    "- Load test set with Pandas"
   ]
  },
  {
   "cell_type": "markdown",
   "metadata": {
    "id": "apk-35bdWe28"
   },
   "source": [
    "### Install Required Libraries"
   ]
  },
  {
   "cell_type": "code",
   "execution_count": null,
   "metadata": {
    "id": "gR3VPOkCWcV7"
   },
   "outputs": [],
   "source": [
    "!pip install numpy pandas opendatasets scikit-learn --quiet"
   ]
  },
  {
   "cell_type": "markdown",
   "metadata": {
    "id": "0Zy9aWRKx8dE"
   },
   "source": [
    "### Download data from Kaggle"
   ]
  },
  {
   "cell_type": "code",
   "execution_count": null,
   "metadata": {
    "id": "RVbkuVw8Ww91"
   },
   "outputs": [],
   "source": [
    "import opendatasets as od"
   ]
  },
  {
   "cell_type": "code",
   "execution_count": null,
   "metadata": {
    "id": "GojGQe3mW4E-"
   },
   "outputs": [],
   "source": [
    "dataset_url = 'https://www.kaggle.com/competitions/walmart-recruiting-store-sales-forecasting/data'"
   ]
  },
  {
   "cell_type": "code",
   "execution_count": null,
   "metadata": {
    "colab": {
     "base_uri": "https://localhost:8080/"
    },
    "executionInfo": {
     "elapsed": 124,
     "status": "ok",
     "timestamp": 1667758218433,
     "user": {
      "displayName": "Pankaj Thakur",
      "userId": "05146800060821315169"
     },
     "user_tz": -330
    },
    "id": "noAGs8SbW9eS",
    "outputId": "7915ce5d-4bf6-4f52-bd72-98b59a047512"
   },
   "outputs": [
    {
     "name": "stdout",
     "output_type": "stream",
     "text": [
      "Skipping, found downloaded files in \"./walmart-recruiting-store-sales-forecasting\" (use force=True to force download)\n",
      "CPU times: user 896 µs, sys: 0 ns, total: 896 µs\n",
      "Wall time: 694 µs\n"
     ]
    }
   ],
   "source": [
    "%%time\n",
    "od.download(dataset_url)"
   ]
  },
  {
   "cell_type": "code",
   "execution_count": null,
   "metadata": {
    "id": "D51WTEzmW_Uu"
   },
   "outputs": [],
   "source": [
    "data_dir = './walmart-recruiting-store-sales-forecasting'"
   ]
  },
  {
   "cell_type": "markdown",
   "metadata": {
    "id": "it23txyrXOo8"
   },
   "source": [
    "### View Dataset Files"
   ]
  },
  {
   "cell_type": "code",
   "execution_count": null,
   "metadata": {
    "id": "f2Sc0cFNYjoL"
   },
   "outputs": [],
   "source": [
    "import pandas as pd\n",
    "from zipfile import ZipFile\n",
    "import os"
   ]
  },
  {
   "cell_type": "code",
   "execution_count": null,
   "metadata": {
    "colab": {
     "base_uri": "https://localhost:8080/"
    },
    "executionInfo": {
     "elapsed": 120,
     "status": "ok",
     "timestamp": 1667758218438,
     "user": {
      "displayName": "Pankaj Thakur",
      "userId": "05146800060821315169"
     },
     "user_tz": -330
    },
    "id": "Mi_VGcwQXQoP",
    "outputId": "bacce986-8ae9-454d-ac55-87fee2cb050c"
   },
   "outputs": [
    {
     "name": "stdout",
     "output_type": "stream",
     "text": [
      "total 8.0K\n",
      "drwxr-xr-x 1 root root 4.0K Oct 28 13:37 sample_data\n",
      "drwxr-xr-x 2 root root 4.0K Nov  6 17:36 walmart-recruiting-store-sales-forecasting\n"
     ]
    }
   ],
   "source": [
    "!ls -lh"
   ]
  },
  {
   "cell_type": "code",
   "execution_count": null,
   "metadata": {
    "colab": {
     "base_uri": "https://localhost:8080/"
    },
    "executionInfo": {
     "elapsed": 106,
     "status": "ok",
     "timestamp": 1667758218440,
     "user": {
      "displayName": "Pankaj Thakur",
      "userId": "05146800060821315169"
     },
     "user_tz": -330
    },
    "id": "j-KYXN4pXVcB",
    "outputId": "6073bdcb-687a-4c69-dcee-80b48df2dcca"
   },
   "outputs": [
    {
     "data": {
      "text/plain": [
       "['features.csv.zip',\n",
       " 'sampleSubmission.csv',\n",
       " 'train.csv',\n",
       " 'train.csv.zip',\n",
       " 'sampleSubmission.csv.zip',\n",
       " 'test.csv',\n",
       " 'test.csv.zip',\n",
       " 'features.csv',\n",
       " 'stores.csv']"
      ]
     },
     "execution_count": 12,
     "metadata": {},
     "output_type": "execute_result"
    }
   ],
   "source": [
    "os.listdir(data_dir)"
   ]
  },
  {
   "cell_type": "markdown",
   "metadata": {
    "id": "GlSeqqNKxTHz"
   },
   "source": [
    "#### Extracting dateset"
   ]
  },
  {
   "cell_type": "code",
   "execution_count": null,
   "metadata": {
    "id": "2e1USCZRZoY3"
   },
   "outputs": [],
   "source": [
    "# Helper function to unzip many \".zip\" files in a directory\n",
    "\n",
    "from zipfile import ZipFile\n",
    "\n",
    "def unzip_files(path):\n",
    "    \n",
    "    # Get list of files in the directory\n",
    "    files = os.listdir(path)\n",
    "    \n",
    "    for file in files:                                   #For each file in the directory\n",
    "        \n",
    "        if file.endswith(\".zip\"):                        # if it is a \".zip\" file\n",
    "            file_path = path+\"/\"+file                    # get location of the file\n",
    "            \n",
    "            with ZipFile(file_path,\"r\") as zip_file:     #Open the \".zip\" file in read mode\n",
    "                zip_file.extractall(path)                #extract all files in \".zip\" in the location\n",
    "    \n",
    "    return     "
   ]
  },
  {
   "cell_type": "code",
   "execution_count": null,
   "metadata": {
    "colab": {
     "base_uri": "https://localhost:8080/"
    },
    "executionInfo": {
     "elapsed": 96,
     "status": "ok",
     "timestamp": 1667758218443,
     "user": {
      "displayName": "Pankaj Thakur",
      "userId": "05146800060821315169"
     },
     "user_tz": -330
    },
    "id": "0apeaHpoZzkN",
    "outputId": "05f630ff-73b2-415f-cfbc-9bcb9e2ff0ce"
   },
   "outputs": [
    {
     "data": {
      "text/plain": [
       "['features.csv.zip',\n",
       " 'sampleSubmission.csv',\n",
       " 'train.csv',\n",
       " 'train.csv.zip',\n",
       " 'sampleSubmission.csv.zip',\n",
       " 'test.csv',\n",
       " 'test.csv.zip',\n",
       " 'features.csv',\n",
       " 'stores.csv']"
      ]
     },
     "execution_count": 14,
     "metadata": {},
     "output_type": "execute_result"
    }
   ],
   "source": [
    "#unzip all \".zip\" files\n",
    "unzip_files(data_dir)\n",
    "\n",
    "os.listdir(\"walmart-recruiting-store-sales-forecasting\")"
   ]
  },
  {
   "cell_type": "code",
   "execution_count": null,
   "metadata": {
    "colab": {
     "base_uri": "https://localhost:8080/"
    },
    "executionInfo": {
     "elapsed": 85,
     "status": "ok",
     "timestamp": 1667758218445,
     "user": {
      "displayName": "Pankaj Thakur",
      "userId": "05146800060821315169"
     },
     "user_tz": -330
    },
    "id": "cOSZAIpxZ8EL",
    "outputId": "09e06077-b6ae-42ff-c895-dae249c97ae6"
   },
   "outputs": [
    {
     "data": {
      "text/plain": [
       "['./walmart-recruiting-store-sales-forecasting/sampleSubmission.csv',\n",
       " './walmart-recruiting-store-sales-forecasting/train.csv',\n",
       " './walmart-recruiting-store-sales-forecasting/test.csv',\n",
       " './walmart-recruiting-store-sales-forecasting/features.csv',\n",
       " './walmart-recruiting-store-sales-forecasting/stores.csv']"
      ]
     },
     "execution_count": 15,
     "metadata": {},
     "output_type": "execute_result"
    }
   ],
   "source": [
    "import glob\n",
    "\n",
    "glob.glob(data_dir+\"/\"+\"*.csv\")"
   ]
  },
  {
   "cell_type": "code",
   "execution_count": null,
   "metadata": {
    "id": "LmQUx8VJmyEr"
   },
   "outputs": [],
   "source": [
    "train_df = pd.read_csv('./walmart-recruiting-store-sales-forecasting/train.csv')\n",
    "test_df = pd.read_csv('./walmart-recruiting-store-sales-forecasting/test.csv')\n",
    "stores_df = pd.read_csv('./walmart-recruiting-store-sales-forecasting/stores.csv')\n",
    "features_df = pd.read_csv('./walmart-recruiting-store-sales-forecasting/features.csv')\n",
    "submission_df = pd.read_csv('./walmart-recruiting-store-sales-forecasting/sampleSubmission.csv')"
   ]
  },
  {
   "cell_type": "markdown",
   "metadata": {
    "id": "6ssJkQuAyMsL"
   },
   "source": [
    "### Load training set with Pandas"
   ]
  },
  {
   "cell_type": "code",
   "execution_count": null,
   "metadata": {
    "colab": {
     "base_uri": "https://localhost:8080/",
     "height": 424
    },
    "executionInfo": {
     "elapsed": 76,
     "status": "ok",
     "timestamp": 1667758218448,
     "user": {
      "displayName": "Pankaj Thakur",
      "userId": "05146800060821315169"
     },
     "user_tz": -330
    },
    "id": "H9RQKbNkm0xD",
    "outputId": "2ab3db30-b62c-4d3d-e015-45dad2185185"
   },
   "outputs": [
    {
     "data": {
      "text/html": [
       "\n",
       "  <div id=\"df-ef7ff105-aa9d-45cd-95ed-93d6f284de5f\">\n",
       "    <div class=\"colab-df-container\">\n",
       "      <div>\n",
       "<style scoped>\n",
       "    .dataframe tbody tr th:only-of-type {\n",
       "        vertical-align: middle;\n",
       "    }\n",
       "\n",
       "    .dataframe tbody tr th {\n",
       "        vertical-align: top;\n",
       "    }\n",
       "\n",
       "    .dataframe thead th {\n",
       "        text-align: right;\n",
       "    }\n",
       "</style>\n",
       "<table border=\"1\" class=\"dataframe\">\n",
       "  <thead>\n",
       "    <tr style=\"text-align: right;\">\n",
       "      <th></th>\n",
       "      <th>Store</th>\n",
       "      <th>Dept</th>\n",
       "      <th>Date</th>\n",
       "      <th>Weekly_Sales</th>\n",
       "      <th>IsHoliday</th>\n",
       "    </tr>\n",
       "  </thead>\n",
       "  <tbody>\n",
       "    <tr>\n",
       "      <th>0</th>\n",
       "      <td>1</td>\n",
       "      <td>1</td>\n",
       "      <td>2010-02-05</td>\n",
       "      <td>24924.50</td>\n",
       "      <td>False</td>\n",
       "    </tr>\n",
       "    <tr>\n",
       "      <th>1</th>\n",
       "      <td>1</td>\n",
       "      <td>1</td>\n",
       "      <td>2010-02-12</td>\n",
       "      <td>46039.49</td>\n",
       "      <td>True</td>\n",
       "    </tr>\n",
       "    <tr>\n",
       "      <th>2</th>\n",
       "      <td>1</td>\n",
       "      <td>1</td>\n",
       "      <td>2010-02-19</td>\n",
       "      <td>41595.55</td>\n",
       "      <td>False</td>\n",
       "    </tr>\n",
       "    <tr>\n",
       "      <th>3</th>\n",
       "      <td>1</td>\n",
       "      <td>1</td>\n",
       "      <td>2010-02-26</td>\n",
       "      <td>19403.54</td>\n",
       "      <td>False</td>\n",
       "    </tr>\n",
       "    <tr>\n",
       "      <th>4</th>\n",
       "      <td>1</td>\n",
       "      <td>1</td>\n",
       "      <td>2010-03-05</td>\n",
       "      <td>21827.90</td>\n",
       "      <td>False</td>\n",
       "    </tr>\n",
       "    <tr>\n",
       "      <th>...</th>\n",
       "      <td>...</td>\n",
       "      <td>...</td>\n",
       "      <td>...</td>\n",
       "      <td>...</td>\n",
       "      <td>...</td>\n",
       "    </tr>\n",
       "    <tr>\n",
       "      <th>421565</th>\n",
       "      <td>45</td>\n",
       "      <td>98</td>\n",
       "      <td>2012-09-28</td>\n",
       "      <td>508.37</td>\n",
       "      <td>False</td>\n",
       "    </tr>\n",
       "    <tr>\n",
       "      <th>421566</th>\n",
       "      <td>45</td>\n",
       "      <td>98</td>\n",
       "      <td>2012-10-05</td>\n",
       "      <td>628.10</td>\n",
       "      <td>False</td>\n",
       "    </tr>\n",
       "    <tr>\n",
       "      <th>421567</th>\n",
       "      <td>45</td>\n",
       "      <td>98</td>\n",
       "      <td>2012-10-12</td>\n",
       "      <td>1061.02</td>\n",
       "      <td>False</td>\n",
       "    </tr>\n",
       "    <tr>\n",
       "      <th>421568</th>\n",
       "      <td>45</td>\n",
       "      <td>98</td>\n",
       "      <td>2012-10-19</td>\n",
       "      <td>760.01</td>\n",
       "      <td>False</td>\n",
       "    </tr>\n",
       "    <tr>\n",
       "      <th>421569</th>\n",
       "      <td>45</td>\n",
       "      <td>98</td>\n",
       "      <td>2012-10-26</td>\n",
       "      <td>1076.80</td>\n",
       "      <td>False</td>\n",
       "    </tr>\n",
       "  </tbody>\n",
       "</table>\n",
       "<p>421570 rows × 5 columns</p>\n",
       "</div>\n",
       "      <button class=\"colab-df-convert\" onclick=\"convertToInteractive('df-ef7ff105-aa9d-45cd-95ed-93d6f284de5f')\"\n",
       "              title=\"Convert this dataframe to an interactive table.\"\n",
       "              style=\"display:none;\">\n",
       "        \n",
       "  <svg xmlns=\"http://www.w3.org/2000/svg\" height=\"24px\"viewBox=\"0 0 24 24\"\n",
       "       width=\"24px\">\n",
       "    <path d=\"M0 0h24v24H0V0z\" fill=\"none\"/>\n",
       "    <path d=\"M18.56 5.44l.94 2.06.94-2.06 2.06-.94-2.06-.94-.94-2.06-.94 2.06-2.06.94zm-11 1L8.5 8.5l.94-2.06 2.06-.94-2.06-.94L8.5 2.5l-.94 2.06-2.06.94zm10 10l.94 2.06.94-2.06 2.06-.94-2.06-.94-.94-2.06-.94 2.06-2.06.94z\"/><path d=\"M17.41 7.96l-1.37-1.37c-.4-.4-.92-.59-1.43-.59-.52 0-1.04.2-1.43.59L10.3 9.45l-7.72 7.72c-.78.78-.78 2.05 0 2.83L4 21.41c.39.39.9.59 1.41.59.51 0 1.02-.2 1.41-.59l7.78-7.78 2.81-2.81c.8-.78.8-2.07 0-2.86zM5.41 20L4 18.59l7.72-7.72 1.47 1.35L5.41 20z\"/>\n",
       "  </svg>\n",
       "      </button>\n",
       "      \n",
       "  <style>\n",
       "    .colab-df-container {\n",
       "      display:flex;\n",
       "      flex-wrap:wrap;\n",
       "      gap: 12px;\n",
       "    }\n",
       "\n",
       "    .colab-df-convert {\n",
       "      background-color: #E8F0FE;\n",
       "      border: none;\n",
       "      border-radius: 50%;\n",
       "      cursor: pointer;\n",
       "      display: none;\n",
       "      fill: #1967D2;\n",
       "      height: 32px;\n",
       "      padding: 0 0 0 0;\n",
       "      width: 32px;\n",
       "    }\n",
       "\n",
       "    .colab-df-convert:hover {\n",
       "      background-color: #E2EBFA;\n",
       "      box-shadow: 0px 1px 2px rgba(60, 64, 67, 0.3), 0px 1px 3px 1px rgba(60, 64, 67, 0.15);\n",
       "      fill: #174EA6;\n",
       "    }\n",
       "\n",
       "    [theme=dark] .colab-df-convert {\n",
       "      background-color: #3B4455;\n",
       "      fill: #D2E3FC;\n",
       "    }\n",
       "\n",
       "    [theme=dark] .colab-df-convert:hover {\n",
       "      background-color: #434B5C;\n",
       "      box-shadow: 0px 1px 3px 1px rgba(0, 0, 0, 0.15);\n",
       "      filter: drop-shadow(0px 1px 2px rgba(0, 0, 0, 0.3));\n",
       "      fill: #FFFFFF;\n",
       "    }\n",
       "  </style>\n",
       "\n",
       "      <script>\n",
       "        const buttonEl =\n",
       "          document.querySelector('#df-ef7ff105-aa9d-45cd-95ed-93d6f284de5f button.colab-df-convert');\n",
       "        buttonEl.style.display =\n",
       "          google.colab.kernel.accessAllowed ? 'block' : 'none';\n",
       "\n",
       "        async function convertToInteractive(key) {\n",
       "          const element = document.querySelector('#df-ef7ff105-aa9d-45cd-95ed-93d6f284de5f');\n",
       "          const dataTable =\n",
       "            await google.colab.kernel.invokeFunction('convertToInteractive',\n",
       "                                                     [key], {});\n",
       "          if (!dataTable) return;\n",
       "\n",
       "          const docLinkHtml = 'Like what you see? Visit the ' +\n",
       "            '<a target=\"_blank\" href=https://colab.research.google.com/notebooks/data_table.ipynb>data table notebook</a>'\n",
       "            + ' to learn more about interactive tables.';\n",
       "          element.innerHTML = '';\n",
       "          dataTable['output_type'] = 'display_data';\n",
       "          await google.colab.output.renderOutput(dataTable, element);\n",
       "          const docLink = document.createElement('div');\n",
       "          docLink.innerHTML = docLinkHtml;\n",
       "          element.appendChild(docLink);\n",
       "        }\n",
       "      </script>\n",
       "    </div>\n",
       "  </div>\n",
       "  "
      ],
      "text/plain": [
       "        Store  Dept        Date  Weekly_Sales  IsHoliday\n",
       "0           1     1  2010-02-05      24924.50      False\n",
       "1           1     1  2010-02-12      46039.49       True\n",
       "2           1     1  2010-02-19      41595.55      False\n",
       "3           1     1  2010-02-26      19403.54      False\n",
       "4           1     1  2010-03-05      21827.90      False\n",
       "...       ...   ...         ...           ...        ...\n",
       "421565     45    98  2012-09-28        508.37      False\n",
       "421566     45    98  2012-10-05        628.10      False\n",
       "421567     45    98  2012-10-12       1061.02      False\n",
       "421568     45    98  2012-10-19        760.01      False\n",
       "421569     45    98  2012-10-26       1076.80      False\n",
       "\n",
       "[421570 rows x 5 columns]"
      ]
     },
     "execution_count": 17,
     "metadata": {},
     "output_type": "execute_result"
    }
   ],
   "source": [
    "train_df"
   ]
  },
  {
   "cell_type": "code",
   "execution_count": null,
   "metadata": {
    "colab": {
     "base_uri": "https://localhost:8080/"
    },
    "executionInfo": {
     "elapsed": 74,
     "status": "ok",
     "timestamp": 1667758218450,
     "user": {
      "displayName": "Pankaj Thakur",
      "userId": "05146800060821315169"
     },
     "user_tz": -330
    },
    "id": "6H5RaCAayOqq",
    "outputId": "9774c504-5e69-4113-ef2a-a5acf9e996a5"
   },
   "outputs": [
    {
     "name": "stdout",
     "output_type": "stream",
     "text": [
      "<class 'pandas.core.frame.DataFrame'>\n",
      "RangeIndex: 421570 entries, 0 to 421569\n",
      "Data columns (total 5 columns):\n",
      " #   Column        Non-Null Count   Dtype  \n",
      "---  ------        --------------   -----  \n",
      " 0   Store         421570 non-null  int64  \n",
      " 1   Dept          421570 non-null  int64  \n",
      " 2   Date          421570 non-null  object \n",
      " 3   Weekly_Sales  421570 non-null  float64\n",
      " 4   IsHoliday     421570 non-null  bool   \n",
      "dtypes: bool(1), float64(1), int64(2), object(1)\n",
      "memory usage: 13.3+ MB\n"
     ]
    }
   ],
   "source": [
    "train_df.info()"
   ]
  },
  {
   "cell_type": "code",
   "execution_count": null,
   "metadata": {
    "colab": {
     "base_uri": "https://localhost:8080/",
     "height": 143
    },
    "executionInfo": {
     "elapsed": 63,
     "status": "ok",
     "timestamp": 1667758218451,
     "user": {
      "displayName": "Pankaj Thakur",
      "userId": "05146800060821315169"
     },
     "user_tz": -330
    },
    "id": "c_A7RPpPyX6s",
    "outputId": "4caaf713-04a4-43f8-dd19-36e826b95923"
   },
   "outputs": [
    {
     "data": {
      "text/html": [
       "\n",
       "  <div id=\"df-1219394c-eda8-4ec2-9611-5afb71312355\">\n",
       "    <div class=\"colab-df-container\">\n",
       "      <div>\n",
       "<style scoped>\n",
       "    .dataframe tbody tr th:only-of-type {\n",
       "        vertical-align: middle;\n",
       "    }\n",
       "\n",
       "    .dataframe tbody tr th {\n",
       "        vertical-align: top;\n",
       "    }\n",
       "\n",
       "    .dataframe thead th {\n",
       "        text-align: right;\n",
       "    }\n",
       "</style>\n",
       "<table border=\"1\" class=\"dataframe\">\n",
       "  <thead>\n",
       "    <tr style=\"text-align: right;\">\n",
       "      <th></th>\n",
       "      <th>count</th>\n",
       "      <th>mean</th>\n",
       "      <th>std</th>\n",
       "      <th>min</th>\n",
       "      <th>25%</th>\n",
       "      <th>50%</th>\n",
       "      <th>75%</th>\n",
       "      <th>max</th>\n",
       "    </tr>\n",
       "  </thead>\n",
       "  <tbody>\n",
       "    <tr>\n",
       "      <th>Store</th>\n",
       "      <td>421570.0</td>\n",
       "      <td>22.200546</td>\n",
       "      <td>12.785297</td>\n",
       "      <td>1.00</td>\n",
       "      <td>11.00</td>\n",
       "      <td>22.00</td>\n",
       "      <td>33.0000</td>\n",
       "      <td>45.00</td>\n",
       "    </tr>\n",
       "    <tr>\n",
       "      <th>Dept</th>\n",
       "      <td>421570.0</td>\n",
       "      <td>44.260317</td>\n",
       "      <td>30.492054</td>\n",
       "      <td>1.00</td>\n",
       "      <td>18.00</td>\n",
       "      <td>37.00</td>\n",
       "      <td>74.0000</td>\n",
       "      <td>99.00</td>\n",
       "    </tr>\n",
       "    <tr>\n",
       "      <th>Weekly_Sales</th>\n",
       "      <td>421570.0</td>\n",
       "      <td>15981.258123</td>\n",
       "      <td>22711.183519</td>\n",
       "      <td>-4988.94</td>\n",
       "      <td>2079.65</td>\n",
       "      <td>7612.03</td>\n",
       "      <td>20205.8525</td>\n",
       "      <td>693099.36</td>\n",
       "    </tr>\n",
       "  </tbody>\n",
       "</table>\n",
       "</div>\n",
       "      <button class=\"colab-df-convert\" onclick=\"convertToInteractive('df-1219394c-eda8-4ec2-9611-5afb71312355')\"\n",
       "              title=\"Convert this dataframe to an interactive table.\"\n",
       "              style=\"display:none;\">\n",
       "        \n",
       "  <svg xmlns=\"http://www.w3.org/2000/svg\" height=\"24px\"viewBox=\"0 0 24 24\"\n",
       "       width=\"24px\">\n",
       "    <path d=\"M0 0h24v24H0V0z\" fill=\"none\"/>\n",
       "    <path d=\"M18.56 5.44l.94 2.06.94-2.06 2.06-.94-2.06-.94-.94-2.06-.94 2.06-2.06.94zm-11 1L8.5 8.5l.94-2.06 2.06-.94-2.06-.94L8.5 2.5l-.94 2.06-2.06.94zm10 10l.94 2.06.94-2.06 2.06-.94-2.06-.94-.94-2.06-.94 2.06-2.06.94z\"/><path d=\"M17.41 7.96l-1.37-1.37c-.4-.4-.92-.59-1.43-.59-.52 0-1.04.2-1.43.59L10.3 9.45l-7.72 7.72c-.78.78-.78 2.05 0 2.83L4 21.41c.39.39.9.59 1.41.59.51 0 1.02-.2 1.41-.59l7.78-7.78 2.81-2.81c.8-.78.8-2.07 0-2.86zM5.41 20L4 18.59l7.72-7.72 1.47 1.35L5.41 20z\"/>\n",
       "  </svg>\n",
       "      </button>\n",
       "      \n",
       "  <style>\n",
       "    .colab-df-container {\n",
       "      display:flex;\n",
       "      flex-wrap:wrap;\n",
       "      gap: 12px;\n",
       "    }\n",
       "\n",
       "    .colab-df-convert {\n",
       "      background-color: #E8F0FE;\n",
       "      border: none;\n",
       "      border-radius: 50%;\n",
       "      cursor: pointer;\n",
       "      display: none;\n",
       "      fill: #1967D2;\n",
       "      height: 32px;\n",
       "      padding: 0 0 0 0;\n",
       "      width: 32px;\n",
       "    }\n",
       "\n",
       "    .colab-df-convert:hover {\n",
       "      background-color: #E2EBFA;\n",
       "      box-shadow: 0px 1px 2px rgba(60, 64, 67, 0.3), 0px 1px 3px 1px rgba(60, 64, 67, 0.15);\n",
       "      fill: #174EA6;\n",
       "    }\n",
       "\n",
       "    [theme=dark] .colab-df-convert {\n",
       "      background-color: #3B4455;\n",
       "      fill: #D2E3FC;\n",
       "    }\n",
       "\n",
       "    [theme=dark] .colab-df-convert:hover {\n",
       "      background-color: #434B5C;\n",
       "      box-shadow: 0px 1px 3px 1px rgba(0, 0, 0, 0.15);\n",
       "      filter: drop-shadow(0px 1px 2px rgba(0, 0, 0, 0.3));\n",
       "      fill: #FFFFFF;\n",
       "    }\n",
       "  </style>\n",
       "\n",
       "      <script>\n",
       "        const buttonEl =\n",
       "          document.querySelector('#df-1219394c-eda8-4ec2-9611-5afb71312355 button.colab-df-convert');\n",
       "        buttonEl.style.display =\n",
       "          google.colab.kernel.accessAllowed ? 'block' : 'none';\n",
       "\n",
       "        async function convertToInteractive(key) {\n",
       "          const element = document.querySelector('#df-1219394c-eda8-4ec2-9611-5afb71312355');\n",
       "          const dataTable =\n",
       "            await google.colab.kernel.invokeFunction('convertToInteractive',\n",
       "                                                     [key], {});\n",
       "          if (!dataTable) return;\n",
       "\n",
       "          const docLinkHtml = 'Like what you see? Visit the ' +\n",
       "            '<a target=\"_blank\" href=https://colab.research.google.com/notebooks/data_table.ipynb>data table notebook</a>'\n",
       "            + ' to learn more about interactive tables.';\n",
       "          element.innerHTML = '';\n",
       "          dataTable['output_type'] = 'display_data';\n",
       "          await google.colab.output.renderOutput(dataTable, element);\n",
       "          const docLink = document.createElement('div');\n",
       "          docLink.innerHTML = docLinkHtml;\n",
       "          element.appendChild(docLink);\n",
       "        }\n",
       "      </script>\n",
       "    </div>\n",
       "  </div>\n",
       "  "
      ],
      "text/plain": [
       "                 count          mean           std      min      25%      50%  \\\n",
       "Store         421570.0     22.200546     12.785297     1.00    11.00    22.00   \n",
       "Dept          421570.0     44.260317     30.492054     1.00    18.00    37.00   \n",
       "Weekly_Sales  421570.0  15981.258123  22711.183519 -4988.94  2079.65  7612.03   \n",
       "\n",
       "                     75%        max  \n",
       "Store            33.0000      45.00  \n",
       "Dept             74.0000      99.00  \n",
       "Weekly_Sales  20205.8525  693099.36  "
      ]
     },
     "execution_count": 19,
     "metadata": {},
     "output_type": "execute_result"
    }
   ],
   "source": [
    "train_df.describe().transpose()"
   ]
  },
  {
   "cell_type": "code",
   "execution_count": null,
   "metadata": {
    "colab": {
     "base_uri": "https://localhost:8080/",
     "height": 206
    },
    "executionInfo": {
     "elapsed": 904,
     "status": "ok",
     "timestamp": 1667758219296,
     "user": {
      "displayName": "Pankaj Thakur",
      "userId": "05146800060821315169"
     },
     "user_tz": -330
    },
    "id": "CwDVOlK9ykCT",
    "outputId": "6eb2d5b0-6df0-4406-e0a3-29da083202fd"
   },
   "outputs": [
    {
     "data": {
      "text/html": [
       "\n",
       "  <div id=\"df-fb771974-45e9-4a82-a271-01c6931608b8\">\n",
       "    <div class=\"colab-df-container\">\n",
       "      <div>\n",
       "<style scoped>\n",
       "    .dataframe tbody tr th:only-of-type {\n",
       "        vertical-align: middle;\n",
       "    }\n",
       "\n",
       "    .dataframe tbody tr th {\n",
       "        vertical-align: top;\n",
       "    }\n",
       "\n",
       "    .dataframe thead th {\n",
       "        text-align: right;\n",
       "    }\n",
       "</style>\n",
       "<table border=\"1\" class=\"dataframe\">\n",
       "  <thead>\n",
       "    <tr style=\"text-align: right;\">\n",
       "      <th></th>\n",
       "      <th>count</th>\n",
       "      <th>unique</th>\n",
       "      <th>top</th>\n",
       "      <th>freq</th>\n",
       "    </tr>\n",
       "  </thead>\n",
       "  <tbody>\n",
       "    <tr>\n",
       "      <th>Store</th>\n",
       "      <td>421570</td>\n",
       "      <td>45</td>\n",
       "      <td>13</td>\n",
       "      <td>10474</td>\n",
       "    </tr>\n",
       "    <tr>\n",
       "      <th>Dept</th>\n",
       "      <td>421570</td>\n",
       "      <td>81</td>\n",
       "      <td>1</td>\n",
       "      <td>6435</td>\n",
       "    </tr>\n",
       "    <tr>\n",
       "      <th>Date</th>\n",
       "      <td>421570</td>\n",
       "      <td>143</td>\n",
       "      <td>2011-12-23</td>\n",
       "      <td>3027</td>\n",
       "    </tr>\n",
       "    <tr>\n",
       "      <th>Weekly_Sales</th>\n",
       "      <td>421570.0</td>\n",
       "      <td>359464.0</td>\n",
       "      <td>10.0</td>\n",
       "      <td>353.0</td>\n",
       "    </tr>\n",
       "    <tr>\n",
       "      <th>IsHoliday</th>\n",
       "      <td>421570</td>\n",
       "      <td>2</td>\n",
       "      <td>False</td>\n",
       "      <td>391909</td>\n",
       "    </tr>\n",
       "  </tbody>\n",
       "</table>\n",
       "</div>\n",
       "      <button class=\"colab-df-convert\" onclick=\"convertToInteractive('df-fb771974-45e9-4a82-a271-01c6931608b8')\"\n",
       "              title=\"Convert this dataframe to an interactive table.\"\n",
       "              style=\"display:none;\">\n",
       "        \n",
       "  <svg xmlns=\"http://www.w3.org/2000/svg\" height=\"24px\"viewBox=\"0 0 24 24\"\n",
       "       width=\"24px\">\n",
       "    <path d=\"M0 0h24v24H0V0z\" fill=\"none\"/>\n",
       "    <path d=\"M18.56 5.44l.94 2.06.94-2.06 2.06-.94-2.06-.94-.94-2.06-.94 2.06-2.06.94zm-11 1L8.5 8.5l.94-2.06 2.06-.94-2.06-.94L8.5 2.5l-.94 2.06-2.06.94zm10 10l.94 2.06.94-2.06 2.06-.94-2.06-.94-.94-2.06-.94 2.06-2.06.94z\"/><path d=\"M17.41 7.96l-1.37-1.37c-.4-.4-.92-.59-1.43-.59-.52 0-1.04.2-1.43.59L10.3 9.45l-7.72 7.72c-.78.78-.78 2.05 0 2.83L4 21.41c.39.39.9.59 1.41.59.51 0 1.02-.2 1.41-.59l7.78-7.78 2.81-2.81c.8-.78.8-2.07 0-2.86zM5.41 20L4 18.59l7.72-7.72 1.47 1.35L5.41 20z\"/>\n",
       "  </svg>\n",
       "      </button>\n",
       "      \n",
       "  <style>\n",
       "    .colab-df-container {\n",
       "      display:flex;\n",
       "      flex-wrap:wrap;\n",
       "      gap: 12px;\n",
       "    }\n",
       "\n",
       "    .colab-df-convert {\n",
       "      background-color: #E8F0FE;\n",
       "      border: none;\n",
       "      border-radius: 50%;\n",
       "      cursor: pointer;\n",
       "      display: none;\n",
       "      fill: #1967D2;\n",
       "      height: 32px;\n",
       "      padding: 0 0 0 0;\n",
       "      width: 32px;\n",
       "    }\n",
       "\n",
       "    .colab-df-convert:hover {\n",
       "      background-color: #E2EBFA;\n",
       "      box-shadow: 0px 1px 2px rgba(60, 64, 67, 0.3), 0px 1px 3px 1px rgba(60, 64, 67, 0.15);\n",
       "      fill: #174EA6;\n",
       "    }\n",
       "\n",
       "    [theme=dark] .colab-df-convert {\n",
       "      background-color: #3B4455;\n",
       "      fill: #D2E3FC;\n",
       "    }\n",
       "\n",
       "    [theme=dark] .colab-df-convert:hover {\n",
       "      background-color: #434B5C;\n",
       "      box-shadow: 0px 1px 3px 1px rgba(0, 0, 0, 0.15);\n",
       "      filter: drop-shadow(0px 1px 2px rgba(0, 0, 0, 0.3));\n",
       "      fill: #FFFFFF;\n",
       "    }\n",
       "  </style>\n",
       "\n",
       "      <script>\n",
       "        const buttonEl =\n",
       "          document.querySelector('#df-fb771974-45e9-4a82-a271-01c6931608b8 button.colab-df-convert');\n",
       "        buttonEl.style.display =\n",
       "          google.colab.kernel.accessAllowed ? 'block' : 'none';\n",
       "\n",
       "        async function convertToInteractive(key) {\n",
       "          const element = document.querySelector('#df-fb771974-45e9-4a82-a271-01c6931608b8');\n",
       "          const dataTable =\n",
       "            await google.colab.kernel.invokeFunction('convertToInteractive',\n",
       "                                                     [key], {});\n",
       "          if (!dataTable) return;\n",
       "\n",
       "          const docLinkHtml = 'Like what you see? Visit the ' +\n",
       "            '<a target=\"_blank\" href=https://colab.research.google.com/notebooks/data_table.ipynb>data table notebook</a>'\n",
       "            + ' to learn more about interactive tables.';\n",
       "          element.innerHTML = '';\n",
       "          dataTable['output_type'] = 'display_data';\n",
       "          await google.colab.output.renderOutput(dataTable, element);\n",
       "          const docLink = document.createElement('div');\n",
       "          docLink.innerHTML = docLinkHtml;\n",
       "          element.appendChild(docLink);\n",
       "        }\n",
       "      </script>\n",
       "    </div>\n",
       "  </div>\n",
       "  "
      ],
      "text/plain": [
       "                 count    unique         top    freq\n",
       "Store           421570        45          13   10474\n",
       "Dept            421570        81           1    6435\n",
       "Date            421570       143  2011-12-23    3027\n",
       "Weekly_Sales  421570.0  359464.0        10.0   353.0\n",
       "IsHoliday       421570         2       False  391909"
      ]
     },
     "execution_count": 20,
     "metadata": {},
     "output_type": "execute_result"
    }
   ],
   "source": [
    "train_df.astype('object').describe().transpose()"
   ]
  },
  {
   "cell_type": "code",
   "execution_count": null,
   "metadata": {
    "colab": {
     "base_uri": "https://localhost:8080/"
    },
    "executionInfo": {
     "elapsed": 72,
     "status": "ok",
     "timestamp": 1667758219299,
     "user": {
      "displayName": "Pankaj Thakur",
      "userId": "05146800060821315169"
     },
     "user_tz": -330
    },
    "id": "48XEc9fJyo6i",
    "outputId": "91413709-7881-49cc-e33d-fe98793bae6f"
   },
   "outputs": [
    {
     "data": {
      "text/plain": [
       "Store           0\n",
       "Dept            0\n",
       "Date            0\n",
       "Weekly_Sales    0\n",
       "IsHoliday       0\n",
       "dtype: int64"
      ]
     },
     "execution_count": 21,
     "metadata": {},
     "output_type": "execute_result"
    }
   ],
   "source": [
    "train_df.isna().sum()"
   ]
  },
  {
   "cell_type": "markdown",
   "metadata": {
    "id": "894y-SZKyrhi"
   },
   "source": [
    "Observations about training data:\n",
    "\n",
    "- There is 421570 rows and 5 columns\n",
    "- No missing data\n",
    "- `Store` ranges from 1 to 45\n",
    "- `Dept` ranges from 1 to 99\n",
    "- `Weekly_Sales` ranges from -4988.94 to \t693099.36."
   ]
  },
  {
   "cell_type": "markdown",
   "metadata": {
    "id": "0QkjU-dV1PJ5"
   },
   "source": [
    "### Test Set"
   ]
  },
  {
   "cell_type": "code",
   "execution_count": null,
   "metadata": {
    "colab": {
     "base_uri": "https://localhost:8080/",
     "height": 424
    },
    "executionInfo": {
     "elapsed": 61,
     "status": "ok",
     "timestamp": 1667758219301,
     "user": {
      "displayName": "Pankaj Thakur",
      "userId": "05146800060821315169"
     },
     "user_tz": -330
    },
    "id": "puT4hkpi1dQQ",
    "outputId": "7065fbb6-765e-4c98-dabe-9c32252f7723"
   },
   "outputs": [
    {
     "data": {
      "text/html": [
       "\n",
       "  <div id=\"df-208cc4c3-eca3-4bc7-82c3-86e39725029e\">\n",
       "    <div class=\"colab-df-container\">\n",
       "      <div>\n",
       "<style scoped>\n",
       "    .dataframe tbody tr th:only-of-type {\n",
       "        vertical-align: middle;\n",
       "    }\n",
       "\n",
       "    .dataframe tbody tr th {\n",
       "        vertical-align: top;\n",
       "    }\n",
       "\n",
       "    .dataframe thead th {\n",
       "        text-align: right;\n",
       "    }\n",
       "</style>\n",
       "<table border=\"1\" class=\"dataframe\">\n",
       "  <thead>\n",
       "    <tr style=\"text-align: right;\">\n",
       "      <th></th>\n",
       "      <th>Store</th>\n",
       "      <th>Dept</th>\n",
       "      <th>Date</th>\n",
       "      <th>IsHoliday</th>\n",
       "    </tr>\n",
       "  </thead>\n",
       "  <tbody>\n",
       "    <tr>\n",
       "      <th>0</th>\n",
       "      <td>1</td>\n",
       "      <td>1</td>\n",
       "      <td>2012-11-02</td>\n",
       "      <td>False</td>\n",
       "    </tr>\n",
       "    <tr>\n",
       "      <th>1</th>\n",
       "      <td>1</td>\n",
       "      <td>1</td>\n",
       "      <td>2012-11-09</td>\n",
       "      <td>False</td>\n",
       "    </tr>\n",
       "    <tr>\n",
       "      <th>2</th>\n",
       "      <td>1</td>\n",
       "      <td>1</td>\n",
       "      <td>2012-11-16</td>\n",
       "      <td>False</td>\n",
       "    </tr>\n",
       "    <tr>\n",
       "      <th>3</th>\n",
       "      <td>1</td>\n",
       "      <td>1</td>\n",
       "      <td>2012-11-23</td>\n",
       "      <td>True</td>\n",
       "    </tr>\n",
       "    <tr>\n",
       "      <th>4</th>\n",
       "      <td>1</td>\n",
       "      <td>1</td>\n",
       "      <td>2012-11-30</td>\n",
       "      <td>False</td>\n",
       "    </tr>\n",
       "    <tr>\n",
       "      <th>...</th>\n",
       "      <td>...</td>\n",
       "      <td>...</td>\n",
       "      <td>...</td>\n",
       "      <td>...</td>\n",
       "    </tr>\n",
       "    <tr>\n",
       "      <th>115059</th>\n",
       "      <td>45</td>\n",
       "      <td>98</td>\n",
       "      <td>2013-06-28</td>\n",
       "      <td>False</td>\n",
       "    </tr>\n",
       "    <tr>\n",
       "      <th>115060</th>\n",
       "      <td>45</td>\n",
       "      <td>98</td>\n",
       "      <td>2013-07-05</td>\n",
       "      <td>False</td>\n",
       "    </tr>\n",
       "    <tr>\n",
       "      <th>115061</th>\n",
       "      <td>45</td>\n",
       "      <td>98</td>\n",
       "      <td>2013-07-12</td>\n",
       "      <td>False</td>\n",
       "    </tr>\n",
       "    <tr>\n",
       "      <th>115062</th>\n",
       "      <td>45</td>\n",
       "      <td>98</td>\n",
       "      <td>2013-07-19</td>\n",
       "      <td>False</td>\n",
       "    </tr>\n",
       "    <tr>\n",
       "      <th>115063</th>\n",
       "      <td>45</td>\n",
       "      <td>98</td>\n",
       "      <td>2013-07-26</td>\n",
       "      <td>False</td>\n",
       "    </tr>\n",
       "  </tbody>\n",
       "</table>\n",
       "<p>115064 rows × 4 columns</p>\n",
       "</div>\n",
       "      <button class=\"colab-df-convert\" onclick=\"convertToInteractive('df-208cc4c3-eca3-4bc7-82c3-86e39725029e')\"\n",
       "              title=\"Convert this dataframe to an interactive table.\"\n",
       "              style=\"display:none;\">\n",
       "        \n",
       "  <svg xmlns=\"http://www.w3.org/2000/svg\" height=\"24px\"viewBox=\"0 0 24 24\"\n",
       "       width=\"24px\">\n",
       "    <path d=\"M0 0h24v24H0V0z\" fill=\"none\"/>\n",
       "    <path d=\"M18.56 5.44l.94 2.06.94-2.06 2.06-.94-2.06-.94-.94-2.06-.94 2.06-2.06.94zm-11 1L8.5 8.5l.94-2.06 2.06-.94-2.06-.94L8.5 2.5l-.94 2.06-2.06.94zm10 10l.94 2.06.94-2.06 2.06-.94-2.06-.94-.94-2.06-.94 2.06-2.06.94z\"/><path d=\"M17.41 7.96l-1.37-1.37c-.4-.4-.92-.59-1.43-.59-.52 0-1.04.2-1.43.59L10.3 9.45l-7.72 7.72c-.78.78-.78 2.05 0 2.83L4 21.41c.39.39.9.59 1.41.59.51 0 1.02-.2 1.41-.59l7.78-7.78 2.81-2.81c.8-.78.8-2.07 0-2.86zM5.41 20L4 18.59l7.72-7.72 1.47 1.35L5.41 20z\"/>\n",
       "  </svg>\n",
       "      </button>\n",
       "      \n",
       "  <style>\n",
       "    .colab-df-container {\n",
       "      display:flex;\n",
       "      flex-wrap:wrap;\n",
       "      gap: 12px;\n",
       "    }\n",
       "\n",
       "    .colab-df-convert {\n",
       "      background-color: #E8F0FE;\n",
       "      border: none;\n",
       "      border-radius: 50%;\n",
       "      cursor: pointer;\n",
       "      display: none;\n",
       "      fill: #1967D2;\n",
       "      height: 32px;\n",
       "      padding: 0 0 0 0;\n",
       "      width: 32px;\n",
       "    }\n",
       "\n",
       "    .colab-df-convert:hover {\n",
       "      background-color: #E2EBFA;\n",
       "      box-shadow: 0px 1px 2px rgba(60, 64, 67, 0.3), 0px 1px 3px 1px rgba(60, 64, 67, 0.15);\n",
       "      fill: #174EA6;\n",
       "    }\n",
       "\n",
       "    [theme=dark] .colab-df-convert {\n",
       "      background-color: #3B4455;\n",
       "      fill: #D2E3FC;\n",
       "    }\n",
       "\n",
       "    [theme=dark] .colab-df-convert:hover {\n",
       "      background-color: #434B5C;\n",
       "      box-shadow: 0px 1px 3px 1px rgba(0, 0, 0, 0.15);\n",
       "      filter: drop-shadow(0px 1px 2px rgba(0, 0, 0, 0.3));\n",
       "      fill: #FFFFFF;\n",
       "    }\n",
       "  </style>\n",
       "\n",
       "      <script>\n",
       "        const buttonEl =\n",
       "          document.querySelector('#df-208cc4c3-eca3-4bc7-82c3-86e39725029e button.colab-df-convert');\n",
       "        buttonEl.style.display =\n",
       "          google.colab.kernel.accessAllowed ? 'block' : 'none';\n",
       "\n",
       "        async function convertToInteractive(key) {\n",
       "          const element = document.querySelector('#df-208cc4c3-eca3-4bc7-82c3-86e39725029e');\n",
       "          const dataTable =\n",
       "            await google.colab.kernel.invokeFunction('convertToInteractive',\n",
       "                                                     [key], {});\n",
       "          if (!dataTable) return;\n",
       "\n",
       "          const docLinkHtml = 'Like what you see? Visit the ' +\n",
       "            '<a target=\"_blank\" href=https://colab.research.google.com/notebooks/data_table.ipynb>data table notebook</a>'\n",
       "            + ' to learn more about interactive tables.';\n",
       "          element.innerHTML = '';\n",
       "          dataTable['output_type'] = 'display_data';\n",
       "          await google.colab.output.renderOutput(dataTable, element);\n",
       "          const docLink = document.createElement('div');\n",
       "          docLink.innerHTML = docLinkHtml;\n",
       "          element.appendChild(docLink);\n",
       "        }\n",
       "      </script>\n",
       "    </div>\n",
       "  </div>\n",
       "  "
      ],
      "text/plain": [
       "        Store  Dept        Date  IsHoliday\n",
       "0           1     1  2012-11-02      False\n",
       "1           1     1  2012-11-09      False\n",
       "2           1     1  2012-11-16      False\n",
       "3           1     1  2012-11-23       True\n",
       "4           1     1  2012-11-30      False\n",
       "...       ...   ...         ...        ...\n",
       "115059     45    98  2013-06-28      False\n",
       "115060     45    98  2013-07-05      False\n",
       "115061     45    98  2013-07-12      False\n",
       "115062     45    98  2013-07-19      False\n",
       "115063     45    98  2013-07-26      False\n",
       "\n",
       "[115064 rows x 4 columns]"
      ]
     },
     "execution_count": 22,
     "metadata": {},
     "output_type": "execute_result"
    }
   ],
   "source": [
    "test_df"
   ]
  },
  {
   "cell_type": "code",
   "execution_count": null,
   "metadata": {
    "colab": {
     "base_uri": "https://localhost:8080/"
    },
    "executionInfo": {
     "elapsed": 58,
     "status": "ok",
     "timestamp": 1667758219303,
     "user": {
      "displayName": "Pankaj Thakur",
      "userId": "05146800060821315169"
     },
     "user_tz": -330
    },
    "id": "5doXbBFD1RmJ",
    "outputId": "6b5e8b22-966e-4b0f-eaf5-ea9590e5c3fd"
   },
   "outputs": [
    {
     "name": "stdout",
     "output_type": "stream",
     "text": [
      "<class 'pandas.core.frame.DataFrame'>\n",
      "RangeIndex: 115064 entries, 0 to 115063\n",
      "Data columns (total 4 columns):\n",
      " #   Column     Non-Null Count   Dtype \n",
      "---  ------     --------------   ----- \n",
      " 0   Store      115064 non-null  int64 \n",
      " 1   Dept       115064 non-null  int64 \n",
      " 2   Date       115064 non-null  object\n",
      " 3   IsHoliday  115064 non-null  bool  \n",
      "dtypes: bool(1), int64(2), object(1)\n",
      "memory usage: 2.7+ MB\n"
     ]
    }
   ],
   "source": [
    "test_df.info()"
   ]
  },
  {
   "cell_type": "code",
   "execution_count": null,
   "metadata": {
    "colab": {
     "base_uri": "https://localhost:8080/",
     "height": 300
    },
    "executionInfo": {
     "elapsed": 44,
     "status": "ok",
     "timestamp": 1667758219305,
     "user": {
      "displayName": "Pankaj Thakur",
      "userId": "05146800060821315169"
     },
     "user_tz": -330
    },
    "id": "BtR0opNu1T4T",
    "outputId": "ca0f5a10-9def-411c-ded3-ac536a447e07"
   },
   "outputs": [
    {
     "data": {
      "text/html": [
       "\n",
       "  <div id=\"df-7efa0a17-d56c-4864-9604-3554350226c2\">\n",
       "    <div class=\"colab-df-container\">\n",
       "      <div>\n",
       "<style scoped>\n",
       "    .dataframe tbody tr th:only-of-type {\n",
       "        vertical-align: middle;\n",
       "    }\n",
       "\n",
       "    .dataframe tbody tr th {\n",
       "        vertical-align: top;\n",
       "    }\n",
       "\n",
       "    .dataframe thead th {\n",
       "        text-align: right;\n",
       "    }\n",
       "</style>\n",
       "<table border=\"1\" class=\"dataframe\">\n",
       "  <thead>\n",
       "    <tr style=\"text-align: right;\">\n",
       "      <th></th>\n",
       "      <th>Store</th>\n",
       "      <th>Dept</th>\n",
       "    </tr>\n",
       "  </thead>\n",
       "  <tbody>\n",
       "    <tr>\n",
       "      <th>count</th>\n",
       "      <td>115064.000000</td>\n",
       "      <td>115064.000000</td>\n",
       "    </tr>\n",
       "    <tr>\n",
       "      <th>mean</th>\n",
       "      <td>22.238207</td>\n",
       "      <td>44.339524</td>\n",
       "    </tr>\n",
       "    <tr>\n",
       "      <th>std</th>\n",
       "      <td>12.809930</td>\n",
       "      <td>30.656410</td>\n",
       "    </tr>\n",
       "    <tr>\n",
       "      <th>min</th>\n",
       "      <td>1.000000</td>\n",
       "      <td>1.000000</td>\n",
       "    </tr>\n",
       "    <tr>\n",
       "      <th>25%</th>\n",
       "      <td>11.000000</td>\n",
       "      <td>18.000000</td>\n",
       "    </tr>\n",
       "    <tr>\n",
       "      <th>50%</th>\n",
       "      <td>22.000000</td>\n",
       "      <td>37.000000</td>\n",
       "    </tr>\n",
       "    <tr>\n",
       "      <th>75%</th>\n",
       "      <td>33.000000</td>\n",
       "      <td>74.000000</td>\n",
       "    </tr>\n",
       "    <tr>\n",
       "      <th>max</th>\n",
       "      <td>45.000000</td>\n",
       "      <td>99.000000</td>\n",
       "    </tr>\n",
       "  </tbody>\n",
       "</table>\n",
       "</div>\n",
       "      <button class=\"colab-df-convert\" onclick=\"convertToInteractive('df-7efa0a17-d56c-4864-9604-3554350226c2')\"\n",
       "              title=\"Convert this dataframe to an interactive table.\"\n",
       "              style=\"display:none;\">\n",
       "        \n",
       "  <svg xmlns=\"http://www.w3.org/2000/svg\" height=\"24px\"viewBox=\"0 0 24 24\"\n",
       "       width=\"24px\">\n",
       "    <path d=\"M0 0h24v24H0V0z\" fill=\"none\"/>\n",
       "    <path d=\"M18.56 5.44l.94 2.06.94-2.06 2.06-.94-2.06-.94-.94-2.06-.94 2.06-2.06.94zm-11 1L8.5 8.5l.94-2.06 2.06-.94-2.06-.94L8.5 2.5l-.94 2.06-2.06.94zm10 10l.94 2.06.94-2.06 2.06-.94-2.06-.94-.94-2.06-.94 2.06-2.06.94z\"/><path d=\"M17.41 7.96l-1.37-1.37c-.4-.4-.92-.59-1.43-.59-.52 0-1.04.2-1.43.59L10.3 9.45l-7.72 7.72c-.78.78-.78 2.05 0 2.83L4 21.41c.39.39.9.59 1.41.59.51 0 1.02-.2 1.41-.59l7.78-7.78 2.81-2.81c.8-.78.8-2.07 0-2.86zM5.41 20L4 18.59l7.72-7.72 1.47 1.35L5.41 20z\"/>\n",
       "  </svg>\n",
       "      </button>\n",
       "      \n",
       "  <style>\n",
       "    .colab-df-container {\n",
       "      display:flex;\n",
       "      flex-wrap:wrap;\n",
       "      gap: 12px;\n",
       "    }\n",
       "\n",
       "    .colab-df-convert {\n",
       "      background-color: #E8F0FE;\n",
       "      border: none;\n",
       "      border-radius: 50%;\n",
       "      cursor: pointer;\n",
       "      display: none;\n",
       "      fill: #1967D2;\n",
       "      height: 32px;\n",
       "      padding: 0 0 0 0;\n",
       "      width: 32px;\n",
       "    }\n",
       "\n",
       "    .colab-df-convert:hover {\n",
       "      background-color: #E2EBFA;\n",
       "      box-shadow: 0px 1px 2px rgba(60, 64, 67, 0.3), 0px 1px 3px 1px rgba(60, 64, 67, 0.15);\n",
       "      fill: #174EA6;\n",
       "    }\n",
       "\n",
       "    [theme=dark] .colab-df-convert {\n",
       "      background-color: #3B4455;\n",
       "      fill: #D2E3FC;\n",
       "    }\n",
       "\n",
       "    [theme=dark] .colab-df-convert:hover {\n",
       "      background-color: #434B5C;\n",
       "      box-shadow: 0px 1px 3px 1px rgba(0, 0, 0, 0.15);\n",
       "      filter: drop-shadow(0px 1px 2px rgba(0, 0, 0, 0.3));\n",
       "      fill: #FFFFFF;\n",
       "    }\n",
       "  </style>\n",
       "\n",
       "      <script>\n",
       "        const buttonEl =\n",
       "          document.querySelector('#df-7efa0a17-d56c-4864-9604-3554350226c2 button.colab-df-convert');\n",
       "        buttonEl.style.display =\n",
       "          google.colab.kernel.accessAllowed ? 'block' : 'none';\n",
       "\n",
       "        async function convertToInteractive(key) {\n",
       "          const element = document.querySelector('#df-7efa0a17-d56c-4864-9604-3554350226c2');\n",
       "          const dataTable =\n",
       "            await google.colab.kernel.invokeFunction('convertToInteractive',\n",
       "                                                     [key], {});\n",
       "          if (!dataTable) return;\n",
       "\n",
       "          const docLinkHtml = 'Like what you see? Visit the ' +\n",
       "            '<a target=\"_blank\" href=https://colab.research.google.com/notebooks/data_table.ipynb>data table notebook</a>'\n",
       "            + ' to learn more about interactive tables.';\n",
       "          element.innerHTML = '';\n",
       "          dataTable['output_type'] = 'display_data';\n",
       "          await google.colab.output.renderOutput(dataTable, element);\n",
       "          const docLink = document.createElement('div');\n",
       "          docLink.innerHTML = docLinkHtml;\n",
       "          element.appendChild(docLink);\n",
       "        }\n",
       "      </script>\n",
       "    </div>\n",
       "  </div>\n",
       "  "
      ],
      "text/plain": [
       "               Store           Dept\n",
       "count  115064.000000  115064.000000\n",
       "mean       22.238207      44.339524\n",
       "std        12.809930      30.656410\n",
       "min         1.000000       1.000000\n",
       "25%        11.000000      18.000000\n",
       "50%        22.000000      37.000000\n",
       "75%        33.000000      74.000000\n",
       "max        45.000000      99.000000"
      ]
     },
     "execution_count": 24,
     "metadata": {},
     "output_type": "execute_result"
    }
   ],
   "source": [
    "test_df.describe()"
   ]
  },
  {
   "cell_type": "markdown",
   "metadata": {
    "id": "nVy1QSzP1ZVR"
   },
   "source": [
    "Some observations about the test set:\n",
    "\n",
    "- There is 115064 rows and 4 columns\n",
    "- `Store` ranges from 1 to 45\n",
    "- `Dept` ranges from 1 to 99\n"
   ]
  },
  {
   "cell_type": "code",
   "execution_count": null,
   "metadata": {
    "colab": {
     "base_uri": "https://localhost:8080/",
     "height": 424
    },
    "executionInfo": {
     "elapsed": 18,
     "status": "ok",
     "timestamp": 1667758219776,
     "user": {
      "displayName": "Pankaj Thakur",
      "userId": "05146800060821315169"
     },
     "user_tz": -330
    },
    "id": "6HL0PHgWm5FB",
    "outputId": "dbbb0542-7563-41a1-a685-a01d4f0c9a0e"
   },
   "outputs": [
    {
     "data": {
      "text/html": [
       "\n",
       "  <div id=\"df-ec397d06-b0b0-497d-b1d5-7fd1aef67e8d\">\n",
       "    <div class=\"colab-df-container\">\n",
       "      <div>\n",
       "<style scoped>\n",
       "    .dataframe tbody tr th:only-of-type {\n",
       "        vertical-align: middle;\n",
       "    }\n",
       "\n",
       "    .dataframe tbody tr th {\n",
       "        vertical-align: top;\n",
       "    }\n",
       "\n",
       "    .dataframe thead th {\n",
       "        text-align: right;\n",
       "    }\n",
       "</style>\n",
       "<table border=\"1\" class=\"dataframe\">\n",
       "  <thead>\n",
       "    <tr style=\"text-align: right;\">\n",
       "      <th></th>\n",
       "      <th>Store</th>\n",
       "      <th>Date</th>\n",
       "      <th>Temperature</th>\n",
       "      <th>Fuel_Price</th>\n",
       "      <th>MarkDown1</th>\n",
       "      <th>MarkDown2</th>\n",
       "      <th>MarkDown3</th>\n",
       "      <th>MarkDown4</th>\n",
       "      <th>MarkDown5</th>\n",
       "      <th>CPI</th>\n",
       "      <th>Unemployment</th>\n",
       "      <th>IsHoliday</th>\n",
       "    </tr>\n",
       "  </thead>\n",
       "  <tbody>\n",
       "    <tr>\n",
       "      <th>0</th>\n",
       "      <td>1</td>\n",
       "      <td>2010-02-05</td>\n",
       "      <td>42.31</td>\n",
       "      <td>2.572</td>\n",
       "      <td>NaN</td>\n",
       "      <td>NaN</td>\n",
       "      <td>NaN</td>\n",
       "      <td>NaN</td>\n",
       "      <td>NaN</td>\n",
       "      <td>211.096358</td>\n",
       "      <td>8.106</td>\n",
       "      <td>False</td>\n",
       "    </tr>\n",
       "    <tr>\n",
       "      <th>1</th>\n",
       "      <td>1</td>\n",
       "      <td>2010-02-12</td>\n",
       "      <td>38.51</td>\n",
       "      <td>2.548</td>\n",
       "      <td>NaN</td>\n",
       "      <td>NaN</td>\n",
       "      <td>NaN</td>\n",
       "      <td>NaN</td>\n",
       "      <td>NaN</td>\n",
       "      <td>211.242170</td>\n",
       "      <td>8.106</td>\n",
       "      <td>True</td>\n",
       "    </tr>\n",
       "    <tr>\n",
       "      <th>2</th>\n",
       "      <td>1</td>\n",
       "      <td>2010-02-19</td>\n",
       "      <td>39.93</td>\n",
       "      <td>2.514</td>\n",
       "      <td>NaN</td>\n",
       "      <td>NaN</td>\n",
       "      <td>NaN</td>\n",
       "      <td>NaN</td>\n",
       "      <td>NaN</td>\n",
       "      <td>211.289143</td>\n",
       "      <td>8.106</td>\n",
       "      <td>False</td>\n",
       "    </tr>\n",
       "    <tr>\n",
       "      <th>3</th>\n",
       "      <td>1</td>\n",
       "      <td>2010-02-26</td>\n",
       "      <td>46.63</td>\n",
       "      <td>2.561</td>\n",
       "      <td>NaN</td>\n",
       "      <td>NaN</td>\n",
       "      <td>NaN</td>\n",
       "      <td>NaN</td>\n",
       "      <td>NaN</td>\n",
       "      <td>211.319643</td>\n",
       "      <td>8.106</td>\n",
       "      <td>False</td>\n",
       "    </tr>\n",
       "    <tr>\n",
       "      <th>4</th>\n",
       "      <td>1</td>\n",
       "      <td>2010-03-05</td>\n",
       "      <td>46.50</td>\n",
       "      <td>2.625</td>\n",
       "      <td>NaN</td>\n",
       "      <td>NaN</td>\n",
       "      <td>NaN</td>\n",
       "      <td>NaN</td>\n",
       "      <td>NaN</td>\n",
       "      <td>211.350143</td>\n",
       "      <td>8.106</td>\n",
       "      <td>False</td>\n",
       "    </tr>\n",
       "    <tr>\n",
       "      <th>...</th>\n",
       "      <td>...</td>\n",
       "      <td>...</td>\n",
       "      <td>...</td>\n",
       "      <td>...</td>\n",
       "      <td>...</td>\n",
       "      <td>...</td>\n",
       "      <td>...</td>\n",
       "      <td>...</td>\n",
       "      <td>...</td>\n",
       "      <td>...</td>\n",
       "      <td>...</td>\n",
       "      <td>...</td>\n",
       "    </tr>\n",
       "    <tr>\n",
       "      <th>8185</th>\n",
       "      <td>45</td>\n",
       "      <td>2013-06-28</td>\n",
       "      <td>76.05</td>\n",
       "      <td>3.639</td>\n",
       "      <td>4842.29</td>\n",
       "      <td>975.03</td>\n",
       "      <td>3.00</td>\n",
       "      <td>2449.97</td>\n",
       "      <td>3169.69</td>\n",
       "      <td>NaN</td>\n",
       "      <td>NaN</td>\n",
       "      <td>False</td>\n",
       "    </tr>\n",
       "    <tr>\n",
       "      <th>8186</th>\n",
       "      <td>45</td>\n",
       "      <td>2013-07-05</td>\n",
       "      <td>77.50</td>\n",
       "      <td>3.614</td>\n",
       "      <td>9090.48</td>\n",
       "      <td>2268.58</td>\n",
       "      <td>582.74</td>\n",
       "      <td>5797.47</td>\n",
       "      <td>1514.93</td>\n",
       "      <td>NaN</td>\n",
       "      <td>NaN</td>\n",
       "      <td>False</td>\n",
       "    </tr>\n",
       "    <tr>\n",
       "      <th>8187</th>\n",
       "      <td>45</td>\n",
       "      <td>2013-07-12</td>\n",
       "      <td>79.37</td>\n",
       "      <td>3.614</td>\n",
       "      <td>3789.94</td>\n",
       "      <td>1827.31</td>\n",
       "      <td>85.72</td>\n",
       "      <td>744.84</td>\n",
       "      <td>2150.36</td>\n",
       "      <td>NaN</td>\n",
       "      <td>NaN</td>\n",
       "      <td>False</td>\n",
       "    </tr>\n",
       "    <tr>\n",
       "      <th>8188</th>\n",
       "      <td>45</td>\n",
       "      <td>2013-07-19</td>\n",
       "      <td>82.84</td>\n",
       "      <td>3.737</td>\n",
       "      <td>2961.49</td>\n",
       "      <td>1047.07</td>\n",
       "      <td>204.19</td>\n",
       "      <td>363.00</td>\n",
       "      <td>1059.46</td>\n",
       "      <td>NaN</td>\n",
       "      <td>NaN</td>\n",
       "      <td>False</td>\n",
       "    </tr>\n",
       "    <tr>\n",
       "      <th>8189</th>\n",
       "      <td>45</td>\n",
       "      <td>2013-07-26</td>\n",
       "      <td>76.06</td>\n",
       "      <td>3.804</td>\n",
       "      <td>212.02</td>\n",
       "      <td>851.73</td>\n",
       "      <td>2.06</td>\n",
       "      <td>10.88</td>\n",
       "      <td>1864.57</td>\n",
       "      <td>NaN</td>\n",
       "      <td>NaN</td>\n",
       "      <td>False</td>\n",
       "    </tr>\n",
       "  </tbody>\n",
       "</table>\n",
       "<p>8190 rows × 12 columns</p>\n",
       "</div>\n",
       "      <button class=\"colab-df-convert\" onclick=\"convertToInteractive('df-ec397d06-b0b0-497d-b1d5-7fd1aef67e8d')\"\n",
       "              title=\"Convert this dataframe to an interactive table.\"\n",
       "              style=\"display:none;\">\n",
       "        \n",
       "  <svg xmlns=\"http://www.w3.org/2000/svg\" height=\"24px\"viewBox=\"0 0 24 24\"\n",
       "       width=\"24px\">\n",
       "    <path d=\"M0 0h24v24H0V0z\" fill=\"none\"/>\n",
       "    <path d=\"M18.56 5.44l.94 2.06.94-2.06 2.06-.94-2.06-.94-.94-2.06-.94 2.06-2.06.94zm-11 1L8.5 8.5l.94-2.06 2.06-.94-2.06-.94L8.5 2.5l-.94 2.06-2.06.94zm10 10l.94 2.06.94-2.06 2.06-.94-2.06-.94-.94-2.06-.94 2.06-2.06.94z\"/><path d=\"M17.41 7.96l-1.37-1.37c-.4-.4-.92-.59-1.43-.59-.52 0-1.04.2-1.43.59L10.3 9.45l-7.72 7.72c-.78.78-.78 2.05 0 2.83L4 21.41c.39.39.9.59 1.41.59.51 0 1.02-.2 1.41-.59l7.78-7.78 2.81-2.81c.8-.78.8-2.07 0-2.86zM5.41 20L4 18.59l7.72-7.72 1.47 1.35L5.41 20z\"/>\n",
       "  </svg>\n",
       "      </button>\n",
       "      \n",
       "  <style>\n",
       "    .colab-df-container {\n",
       "      display:flex;\n",
       "      flex-wrap:wrap;\n",
       "      gap: 12px;\n",
       "    }\n",
       "\n",
       "    .colab-df-convert {\n",
       "      background-color: #E8F0FE;\n",
       "      border: none;\n",
       "      border-radius: 50%;\n",
       "      cursor: pointer;\n",
       "      display: none;\n",
       "      fill: #1967D2;\n",
       "      height: 32px;\n",
       "      padding: 0 0 0 0;\n",
       "      width: 32px;\n",
       "    }\n",
       "\n",
       "    .colab-df-convert:hover {\n",
       "      background-color: #E2EBFA;\n",
       "      box-shadow: 0px 1px 2px rgba(60, 64, 67, 0.3), 0px 1px 3px 1px rgba(60, 64, 67, 0.15);\n",
       "      fill: #174EA6;\n",
       "    }\n",
       "\n",
       "    [theme=dark] .colab-df-convert {\n",
       "      background-color: #3B4455;\n",
       "      fill: #D2E3FC;\n",
       "    }\n",
       "\n",
       "    [theme=dark] .colab-df-convert:hover {\n",
       "      background-color: #434B5C;\n",
       "      box-shadow: 0px 1px 3px 1px rgba(0, 0, 0, 0.15);\n",
       "      filter: drop-shadow(0px 1px 2px rgba(0, 0, 0, 0.3));\n",
       "      fill: #FFFFFF;\n",
       "    }\n",
       "  </style>\n",
       "\n",
       "      <script>\n",
       "        const buttonEl =\n",
       "          document.querySelector('#df-ec397d06-b0b0-497d-b1d5-7fd1aef67e8d button.colab-df-convert');\n",
       "        buttonEl.style.display =\n",
       "          google.colab.kernel.accessAllowed ? 'block' : 'none';\n",
       "\n",
       "        async function convertToInteractive(key) {\n",
       "          const element = document.querySelector('#df-ec397d06-b0b0-497d-b1d5-7fd1aef67e8d');\n",
       "          const dataTable =\n",
       "            await google.colab.kernel.invokeFunction('convertToInteractive',\n",
       "                                                     [key], {});\n",
       "          if (!dataTable) return;\n",
       "\n",
       "          const docLinkHtml = 'Like what you see? Visit the ' +\n",
       "            '<a target=\"_blank\" href=https://colab.research.google.com/notebooks/data_table.ipynb>data table notebook</a>'\n",
       "            + ' to learn more about interactive tables.';\n",
       "          element.innerHTML = '';\n",
       "          dataTable['output_type'] = 'display_data';\n",
       "          await google.colab.output.renderOutput(dataTable, element);\n",
       "          const docLink = document.createElement('div');\n",
       "          docLink.innerHTML = docLinkHtml;\n",
       "          element.appendChild(docLink);\n",
       "        }\n",
       "      </script>\n",
       "    </div>\n",
       "  </div>\n",
       "  "
      ],
      "text/plain": [
       "      Store        Date  Temperature  Fuel_Price  MarkDown1  MarkDown2  \\\n",
       "0         1  2010-02-05        42.31       2.572        NaN        NaN   \n",
       "1         1  2010-02-12        38.51       2.548        NaN        NaN   \n",
       "2         1  2010-02-19        39.93       2.514        NaN        NaN   \n",
       "3         1  2010-02-26        46.63       2.561        NaN        NaN   \n",
       "4         1  2010-03-05        46.50       2.625        NaN        NaN   \n",
       "...     ...         ...          ...         ...        ...        ...   \n",
       "8185     45  2013-06-28        76.05       3.639    4842.29     975.03   \n",
       "8186     45  2013-07-05        77.50       3.614    9090.48    2268.58   \n",
       "8187     45  2013-07-12        79.37       3.614    3789.94    1827.31   \n",
       "8188     45  2013-07-19        82.84       3.737    2961.49    1047.07   \n",
       "8189     45  2013-07-26        76.06       3.804     212.02     851.73   \n",
       "\n",
       "      MarkDown3  MarkDown4  MarkDown5         CPI  Unemployment  IsHoliday  \n",
       "0           NaN        NaN        NaN  211.096358         8.106      False  \n",
       "1           NaN        NaN        NaN  211.242170         8.106       True  \n",
       "2           NaN        NaN        NaN  211.289143         8.106      False  \n",
       "3           NaN        NaN        NaN  211.319643         8.106      False  \n",
       "4           NaN        NaN        NaN  211.350143         8.106      False  \n",
       "...         ...        ...        ...         ...           ...        ...  \n",
       "8185       3.00    2449.97    3169.69         NaN           NaN      False  \n",
       "8186     582.74    5797.47    1514.93         NaN           NaN      False  \n",
       "8187      85.72     744.84    2150.36         NaN           NaN      False  \n",
       "8188     204.19     363.00    1059.46         NaN           NaN      False  \n",
       "8189       2.06      10.88    1864.57         NaN           NaN      False  \n",
       "\n",
       "[8190 rows x 12 columns]"
      ]
     },
     "execution_count": 25,
     "metadata": {},
     "output_type": "execute_result"
    }
   ],
   "source": [
    "features_df"
   ]
  },
  {
   "cell_type": "code",
   "execution_count": null,
   "metadata": {
    "colab": {
     "base_uri": "https://localhost:8080/",
     "height": 1000
    },
    "executionInfo": {
     "elapsed": 18,
     "status": "ok",
     "timestamp": 1667758219778,
     "user": {
      "displayName": "Pankaj Thakur",
      "userId": "05146800060821315169"
     },
     "user_tz": -330
    },
    "id": "o0oaLmHxm8Ph",
    "outputId": "ea307bb0-4786-40a5-e6dd-ac96a783da7c"
   },
   "outputs": [
    {
     "data": {
      "text/html": [
       "\n",
       "  <div id=\"df-a0d5241b-b9b3-438a-a85f-8cf0821f25ec\">\n",
       "    <div class=\"colab-df-container\">\n",
       "      <div>\n",
       "<style scoped>\n",
       "    .dataframe tbody tr th:only-of-type {\n",
       "        vertical-align: middle;\n",
       "    }\n",
       "\n",
       "    .dataframe tbody tr th {\n",
       "        vertical-align: top;\n",
       "    }\n",
       "\n",
       "    .dataframe thead th {\n",
       "        text-align: right;\n",
       "    }\n",
       "</style>\n",
       "<table border=\"1\" class=\"dataframe\">\n",
       "  <thead>\n",
       "    <tr style=\"text-align: right;\">\n",
       "      <th></th>\n",
       "      <th>Store</th>\n",
       "      <th>Type</th>\n",
       "      <th>Size</th>\n",
       "    </tr>\n",
       "  </thead>\n",
       "  <tbody>\n",
       "    <tr>\n",
       "      <th>0</th>\n",
       "      <td>1</td>\n",
       "      <td>A</td>\n",
       "      <td>151315</td>\n",
       "    </tr>\n",
       "    <tr>\n",
       "      <th>1</th>\n",
       "      <td>2</td>\n",
       "      <td>A</td>\n",
       "      <td>202307</td>\n",
       "    </tr>\n",
       "    <tr>\n",
       "      <th>2</th>\n",
       "      <td>3</td>\n",
       "      <td>B</td>\n",
       "      <td>37392</td>\n",
       "    </tr>\n",
       "    <tr>\n",
       "      <th>3</th>\n",
       "      <td>4</td>\n",
       "      <td>A</td>\n",
       "      <td>205863</td>\n",
       "    </tr>\n",
       "    <tr>\n",
       "      <th>4</th>\n",
       "      <td>5</td>\n",
       "      <td>B</td>\n",
       "      <td>34875</td>\n",
       "    </tr>\n",
       "    <tr>\n",
       "      <th>5</th>\n",
       "      <td>6</td>\n",
       "      <td>A</td>\n",
       "      <td>202505</td>\n",
       "    </tr>\n",
       "    <tr>\n",
       "      <th>6</th>\n",
       "      <td>7</td>\n",
       "      <td>B</td>\n",
       "      <td>70713</td>\n",
       "    </tr>\n",
       "    <tr>\n",
       "      <th>7</th>\n",
       "      <td>8</td>\n",
       "      <td>A</td>\n",
       "      <td>155078</td>\n",
       "    </tr>\n",
       "    <tr>\n",
       "      <th>8</th>\n",
       "      <td>9</td>\n",
       "      <td>B</td>\n",
       "      <td>125833</td>\n",
       "    </tr>\n",
       "    <tr>\n",
       "      <th>9</th>\n",
       "      <td>10</td>\n",
       "      <td>B</td>\n",
       "      <td>126512</td>\n",
       "    </tr>\n",
       "    <tr>\n",
       "      <th>10</th>\n",
       "      <td>11</td>\n",
       "      <td>A</td>\n",
       "      <td>207499</td>\n",
       "    </tr>\n",
       "    <tr>\n",
       "      <th>11</th>\n",
       "      <td>12</td>\n",
       "      <td>B</td>\n",
       "      <td>112238</td>\n",
       "    </tr>\n",
       "    <tr>\n",
       "      <th>12</th>\n",
       "      <td>13</td>\n",
       "      <td>A</td>\n",
       "      <td>219622</td>\n",
       "    </tr>\n",
       "    <tr>\n",
       "      <th>13</th>\n",
       "      <td>14</td>\n",
       "      <td>A</td>\n",
       "      <td>200898</td>\n",
       "    </tr>\n",
       "    <tr>\n",
       "      <th>14</th>\n",
       "      <td>15</td>\n",
       "      <td>B</td>\n",
       "      <td>123737</td>\n",
       "    </tr>\n",
       "    <tr>\n",
       "      <th>15</th>\n",
       "      <td>16</td>\n",
       "      <td>B</td>\n",
       "      <td>57197</td>\n",
       "    </tr>\n",
       "    <tr>\n",
       "      <th>16</th>\n",
       "      <td>17</td>\n",
       "      <td>B</td>\n",
       "      <td>93188</td>\n",
       "    </tr>\n",
       "    <tr>\n",
       "      <th>17</th>\n",
       "      <td>18</td>\n",
       "      <td>B</td>\n",
       "      <td>120653</td>\n",
       "    </tr>\n",
       "    <tr>\n",
       "      <th>18</th>\n",
       "      <td>19</td>\n",
       "      <td>A</td>\n",
       "      <td>203819</td>\n",
       "    </tr>\n",
       "    <tr>\n",
       "      <th>19</th>\n",
       "      <td>20</td>\n",
       "      <td>A</td>\n",
       "      <td>203742</td>\n",
       "    </tr>\n",
       "    <tr>\n",
       "      <th>20</th>\n",
       "      <td>21</td>\n",
       "      <td>B</td>\n",
       "      <td>140167</td>\n",
       "    </tr>\n",
       "    <tr>\n",
       "      <th>21</th>\n",
       "      <td>22</td>\n",
       "      <td>B</td>\n",
       "      <td>119557</td>\n",
       "    </tr>\n",
       "    <tr>\n",
       "      <th>22</th>\n",
       "      <td>23</td>\n",
       "      <td>B</td>\n",
       "      <td>114533</td>\n",
       "    </tr>\n",
       "    <tr>\n",
       "      <th>23</th>\n",
       "      <td>24</td>\n",
       "      <td>A</td>\n",
       "      <td>203819</td>\n",
       "    </tr>\n",
       "    <tr>\n",
       "      <th>24</th>\n",
       "      <td>25</td>\n",
       "      <td>B</td>\n",
       "      <td>128107</td>\n",
       "    </tr>\n",
       "    <tr>\n",
       "      <th>25</th>\n",
       "      <td>26</td>\n",
       "      <td>A</td>\n",
       "      <td>152513</td>\n",
       "    </tr>\n",
       "    <tr>\n",
       "      <th>26</th>\n",
       "      <td>27</td>\n",
       "      <td>A</td>\n",
       "      <td>204184</td>\n",
       "    </tr>\n",
       "    <tr>\n",
       "      <th>27</th>\n",
       "      <td>28</td>\n",
       "      <td>A</td>\n",
       "      <td>206302</td>\n",
       "    </tr>\n",
       "    <tr>\n",
       "      <th>28</th>\n",
       "      <td>29</td>\n",
       "      <td>B</td>\n",
       "      <td>93638</td>\n",
       "    </tr>\n",
       "    <tr>\n",
       "      <th>29</th>\n",
       "      <td>30</td>\n",
       "      <td>C</td>\n",
       "      <td>42988</td>\n",
       "    </tr>\n",
       "    <tr>\n",
       "      <th>30</th>\n",
       "      <td>31</td>\n",
       "      <td>A</td>\n",
       "      <td>203750</td>\n",
       "    </tr>\n",
       "    <tr>\n",
       "      <th>31</th>\n",
       "      <td>32</td>\n",
       "      <td>A</td>\n",
       "      <td>203007</td>\n",
       "    </tr>\n",
       "    <tr>\n",
       "      <th>32</th>\n",
       "      <td>33</td>\n",
       "      <td>A</td>\n",
       "      <td>39690</td>\n",
       "    </tr>\n",
       "    <tr>\n",
       "      <th>33</th>\n",
       "      <td>34</td>\n",
       "      <td>A</td>\n",
       "      <td>158114</td>\n",
       "    </tr>\n",
       "    <tr>\n",
       "      <th>34</th>\n",
       "      <td>35</td>\n",
       "      <td>B</td>\n",
       "      <td>103681</td>\n",
       "    </tr>\n",
       "    <tr>\n",
       "      <th>35</th>\n",
       "      <td>36</td>\n",
       "      <td>A</td>\n",
       "      <td>39910</td>\n",
       "    </tr>\n",
       "    <tr>\n",
       "      <th>36</th>\n",
       "      <td>37</td>\n",
       "      <td>C</td>\n",
       "      <td>39910</td>\n",
       "    </tr>\n",
       "    <tr>\n",
       "      <th>37</th>\n",
       "      <td>38</td>\n",
       "      <td>C</td>\n",
       "      <td>39690</td>\n",
       "    </tr>\n",
       "    <tr>\n",
       "      <th>38</th>\n",
       "      <td>39</td>\n",
       "      <td>A</td>\n",
       "      <td>184109</td>\n",
       "    </tr>\n",
       "    <tr>\n",
       "      <th>39</th>\n",
       "      <td>40</td>\n",
       "      <td>A</td>\n",
       "      <td>155083</td>\n",
       "    </tr>\n",
       "    <tr>\n",
       "      <th>40</th>\n",
       "      <td>41</td>\n",
       "      <td>A</td>\n",
       "      <td>196321</td>\n",
       "    </tr>\n",
       "    <tr>\n",
       "      <th>41</th>\n",
       "      <td>42</td>\n",
       "      <td>C</td>\n",
       "      <td>39690</td>\n",
       "    </tr>\n",
       "    <tr>\n",
       "      <th>42</th>\n",
       "      <td>43</td>\n",
       "      <td>C</td>\n",
       "      <td>41062</td>\n",
       "    </tr>\n",
       "    <tr>\n",
       "      <th>43</th>\n",
       "      <td>44</td>\n",
       "      <td>C</td>\n",
       "      <td>39910</td>\n",
       "    </tr>\n",
       "    <tr>\n",
       "      <th>44</th>\n",
       "      <td>45</td>\n",
       "      <td>B</td>\n",
       "      <td>118221</td>\n",
       "    </tr>\n",
       "  </tbody>\n",
       "</table>\n",
       "</div>\n",
       "      <button class=\"colab-df-convert\" onclick=\"convertToInteractive('df-a0d5241b-b9b3-438a-a85f-8cf0821f25ec')\"\n",
       "              title=\"Convert this dataframe to an interactive table.\"\n",
       "              style=\"display:none;\">\n",
       "        \n",
       "  <svg xmlns=\"http://www.w3.org/2000/svg\" height=\"24px\"viewBox=\"0 0 24 24\"\n",
       "       width=\"24px\">\n",
       "    <path d=\"M0 0h24v24H0V0z\" fill=\"none\"/>\n",
       "    <path d=\"M18.56 5.44l.94 2.06.94-2.06 2.06-.94-2.06-.94-.94-2.06-.94 2.06-2.06.94zm-11 1L8.5 8.5l.94-2.06 2.06-.94-2.06-.94L8.5 2.5l-.94 2.06-2.06.94zm10 10l.94 2.06.94-2.06 2.06-.94-2.06-.94-.94-2.06-.94 2.06-2.06.94z\"/><path d=\"M17.41 7.96l-1.37-1.37c-.4-.4-.92-.59-1.43-.59-.52 0-1.04.2-1.43.59L10.3 9.45l-7.72 7.72c-.78.78-.78 2.05 0 2.83L4 21.41c.39.39.9.59 1.41.59.51 0 1.02-.2 1.41-.59l7.78-7.78 2.81-2.81c.8-.78.8-2.07 0-2.86zM5.41 20L4 18.59l7.72-7.72 1.47 1.35L5.41 20z\"/>\n",
       "  </svg>\n",
       "      </button>\n",
       "      \n",
       "  <style>\n",
       "    .colab-df-container {\n",
       "      display:flex;\n",
       "      flex-wrap:wrap;\n",
       "      gap: 12px;\n",
       "    }\n",
       "\n",
       "    .colab-df-convert {\n",
       "      background-color: #E8F0FE;\n",
       "      border: none;\n",
       "      border-radius: 50%;\n",
       "      cursor: pointer;\n",
       "      display: none;\n",
       "      fill: #1967D2;\n",
       "      height: 32px;\n",
       "      padding: 0 0 0 0;\n",
       "      width: 32px;\n",
       "    }\n",
       "\n",
       "    .colab-df-convert:hover {\n",
       "      background-color: #E2EBFA;\n",
       "      box-shadow: 0px 1px 2px rgba(60, 64, 67, 0.3), 0px 1px 3px 1px rgba(60, 64, 67, 0.15);\n",
       "      fill: #174EA6;\n",
       "    }\n",
       "\n",
       "    [theme=dark] .colab-df-convert {\n",
       "      background-color: #3B4455;\n",
       "      fill: #D2E3FC;\n",
       "    }\n",
       "\n",
       "    [theme=dark] .colab-df-convert:hover {\n",
       "      background-color: #434B5C;\n",
       "      box-shadow: 0px 1px 3px 1px rgba(0, 0, 0, 0.15);\n",
       "      filter: drop-shadow(0px 1px 2px rgba(0, 0, 0, 0.3));\n",
       "      fill: #FFFFFF;\n",
       "    }\n",
       "  </style>\n",
       "\n",
       "      <script>\n",
       "        const buttonEl =\n",
       "          document.querySelector('#df-a0d5241b-b9b3-438a-a85f-8cf0821f25ec button.colab-df-convert');\n",
       "        buttonEl.style.display =\n",
       "          google.colab.kernel.accessAllowed ? 'block' : 'none';\n",
       "\n",
       "        async function convertToInteractive(key) {\n",
       "          const element = document.querySelector('#df-a0d5241b-b9b3-438a-a85f-8cf0821f25ec');\n",
       "          const dataTable =\n",
       "            await google.colab.kernel.invokeFunction('convertToInteractive',\n",
       "                                                     [key], {});\n",
       "          if (!dataTable) return;\n",
       "\n",
       "          const docLinkHtml = 'Like what you see? Visit the ' +\n",
       "            '<a target=\"_blank\" href=https://colab.research.google.com/notebooks/data_table.ipynb>data table notebook</a>'\n",
       "            + ' to learn more about interactive tables.';\n",
       "          element.innerHTML = '';\n",
       "          dataTable['output_type'] = 'display_data';\n",
       "          await google.colab.output.renderOutput(dataTable, element);\n",
       "          const docLink = document.createElement('div');\n",
       "          docLink.innerHTML = docLinkHtml;\n",
       "          element.appendChild(docLink);\n",
       "        }\n",
       "      </script>\n",
       "    </div>\n",
       "  </div>\n",
       "  "
      ],
      "text/plain": [
       "    Store Type    Size\n",
       "0       1    A  151315\n",
       "1       2    A  202307\n",
       "2       3    B   37392\n",
       "3       4    A  205863\n",
       "4       5    B   34875\n",
       "5       6    A  202505\n",
       "6       7    B   70713\n",
       "7       8    A  155078\n",
       "8       9    B  125833\n",
       "9      10    B  126512\n",
       "10     11    A  207499\n",
       "11     12    B  112238\n",
       "12     13    A  219622\n",
       "13     14    A  200898\n",
       "14     15    B  123737\n",
       "15     16    B   57197\n",
       "16     17    B   93188\n",
       "17     18    B  120653\n",
       "18     19    A  203819\n",
       "19     20    A  203742\n",
       "20     21    B  140167\n",
       "21     22    B  119557\n",
       "22     23    B  114533\n",
       "23     24    A  203819\n",
       "24     25    B  128107\n",
       "25     26    A  152513\n",
       "26     27    A  204184\n",
       "27     28    A  206302\n",
       "28     29    B   93638\n",
       "29     30    C   42988\n",
       "30     31    A  203750\n",
       "31     32    A  203007\n",
       "32     33    A   39690\n",
       "33     34    A  158114\n",
       "34     35    B  103681\n",
       "35     36    A   39910\n",
       "36     37    C   39910\n",
       "37     38    C   39690\n",
       "38     39    A  184109\n",
       "39     40    A  155083\n",
       "40     41    A  196321\n",
       "41     42    C   39690\n",
       "42     43    C   41062\n",
       "43     44    C   39910\n",
       "44     45    B  118221"
      ]
     },
     "execution_count": 26,
     "metadata": {},
     "output_type": "execute_result"
    }
   ],
   "source": [
    "stores_df"
   ]
  },
  {
   "cell_type": "markdown",
   "metadata": {
    "id": "seD3g5Sr2JLh"
   },
   "source": [
    "#### Merge store and features into train and test data"
   ]
  },
  {
   "cell_type": "code",
   "execution_count": null,
   "metadata": {
    "id": "QEAnqoBXqAie"
   },
   "outputs": [],
   "source": [
    "raw_df = pd.merge(train_df, features_df, how = 'inner' ,on = ['Store','Date','IsHoliday']).sort_values(\n",
    "by=['Store','Dept','Date']).reset_index(drop=True).merge(stores_df, on='Store',how='inner')"
   ]
  },
  {
   "cell_type": "code",
   "execution_count": null,
   "metadata": {
    "id": "xtdMDQsc3e7h"
   },
   "outputs": [],
   "source": [
    "test_df = pd.merge(test_df, features_df, how = 'inner' ,on = ['Store','Date','IsHoliday']).sort_values(\n",
    "by=['Store','Dept','Date']).reset_index(drop=True).merge(stores_df, on='Store',how='inner')"
   ]
  },
  {
   "cell_type": "code",
   "execution_count": null,
   "metadata": {
    "colab": {
     "base_uri": "https://localhost:8080/",
     "height": 424
    },
    "executionInfo": {
     "elapsed": 9,
     "status": "ok",
     "timestamp": 1667758222243,
     "user": {
      "displayName": "Pankaj Thakur",
      "userId": "05146800060821315169"
     },
     "user_tz": -330
    },
    "id": "KZhCdPenqTI1",
    "outputId": "12fa0d24-9510-4972-d9e7-537efa8f55d5"
   },
   "outputs": [
    {
     "data": {
      "text/html": [
       "\n",
       "  <div id=\"df-e0bb9359-55c7-4d0d-8a52-ecc61e27fc64\">\n",
       "    <div class=\"colab-df-container\">\n",
       "      <div>\n",
       "<style scoped>\n",
       "    .dataframe tbody tr th:only-of-type {\n",
       "        vertical-align: middle;\n",
       "    }\n",
       "\n",
       "    .dataframe tbody tr th {\n",
       "        vertical-align: top;\n",
       "    }\n",
       "\n",
       "    .dataframe thead th {\n",
       "        text-align: right;\n",
       "    }\n",
       "</style>\n",
       "<table border=\"1\" class=\"dataframe\">\n",
       "  <thead>\n",
       "    <tr style=\"text-align: right;\">\n",
       "      <th></th>\n",
       "      <th>Store</th>\n",
       "      <th>Dept</th>\n",
       "      <th>Date</th>\n",
       "      <th>Weekly_Sales</th>\n",
       "      <th>IsHoliday</th>\n",
       "      <th>Temperature</th>\n",
       "      <th>Fuel_Price</th>\n",
       "      <th>MarkDown1</th>\n",
       "      <th>MarkDown2</th>\n",
       "      <th>MarkDown3</th>\n",
       "      <th>MarkDown4</th>\n",
       "      <th>MarkDown5</th>\n",
       "      <th>CPI</th>\n",
       "      <th>Unemployment</th>\n",
       "      <th>Type</th>\n",
       "      <th>Size</th>\n",
       "    </tr>\n",
       "  </thead>\n",
       "  <tbody>\n",
       "    <tr>\n",
       "      <th>0</th>\n",
       "      <td>1</td>\n",
       "      <td>1</td>\n",
       "      <td>2010-02-05</td>\n",
       "      <td>24924.50</td>\n",
       "      <td>False</td>\n",
       "      <td>42.31</td>\n",
       "      <td>2.572</td>\n",
       "      <td>NaN</td>\n",
       "      <td>NaN</td>\n",
       "      <td>NaN</td>\n",
       "      <td>NaN</td>\n",
       "      <td>NaN</td>\n",
       "      <td>211.096358</td>\n",
       "      <td>8.106</td>\n",
       "      <td>A</td>\n",
       "      <td>151315</td>\n",
       "    </tr>\n",
       "    <tr>\n",
       "      <th>1</th>\n",
       "      <td>1</td>\n",
       "      <td>1</td>\n",
       "      <td>2010-02-12</td>\n",
       "      <td>46039.49</td>\n",
       "      <td>True</td>\n",
       "      <td>38.51</td>\n",
       "      <td>2.548</td>\n",
       "      <td>NaN</td>\n",
       "      <td>NaN</td>\n",
       "      <td>NaN</td>\n",
       "      <td>NaN</td>\n",
       "      <td>NaN</td>\n",
       "      <td>211.242170</td>\n",
       "      <td>8.106</td>\n",
       "      <td>A</td>\n",
       "      <td>151315</td>\n",
       "    </tr>\n",
       "    <tr>\n",
       "      <th>2</th>\n",
       "      <td>1</td>\n",
       "      <td>1</td>\n",
       "      <td>2010-02-19</td>\n",
       "      <td>41595.55</td>\n",
       "      <td>False</td>\n",
       "      <td>39.93</td>\n",
       "      <td>2.514</td>\n",
       "      <td>NaN</td>\n",
       "      <td>NaN</td>\n",
       "      <td>NaN</td>\n",
       "      <td>NaN</td>\n",
       "      <td>NaN</td>\n",
       "      <td>211.289143</td>\n",
       "      <td>8.106</td>\n",
       "      <td>A</td>\n",
       "      <td>151315</td>\n",
       "    </tr>\n",
       "    <tr>\n",
       "      <th>3</th>\n",
       "      <td>1</td>\n",
       "      <td>1</td>\n",
       "      <td>2010-02-26</td>\n",
       "      <td>19403.54</td>\n",
       "      <td>False</td>\n",
       "      <td>46.63</td>\n",
       "      <td>2.561</td>\n",
       "      <td>NaN</td>\n",
       "      <td>NaN</td>\n",
       "      <td>NaN</td>\n",
       "      <td>NaN</td>\n",
       "      <td>NaN</td>\n",
       "      <td>211.319643</td>\n",
       "      <td>8.106</td>\n",
       "      <td>A</td>\n",
       "      <td>151315</td>\n",
       "    </tr>\n",
       "    <tr>\n",
       "      <th>4</th>\n",
       "      <td>1</td>\n",
       "      <td>1</td>\n",
       "      <td>2010-03-05</td>\n",
       "      <td>21827.90</td>\n",
       "      <td>False</td>\n",
       "      <td>46.50</td>\n",
       "      <td>2.625</td>\n",
       "      <td>NaN</td>\n",
       "      <td>NaN</td>\n",
       "      <td>NaN</td>\n",
       "      <td>NaN</td>\n",
       "      <td>NaN</td>\n",
       "      <td>211.350143</td>\n",
       "      <td>8.106</td>\n",
       "      <td>A</td>\n",
       "      <td>151315</td>\n",
       "    </tr>\n",
       "    <tr>\n",
       "      <th>...</th>\n",
       "      <td>...</td>\n",
       "      <td>...</td>\n",
       "      <td>...</td>\n",
       "      <td>...</td>\n",
       "      <td>...</td>\n",
       "      <td>...</td>\n",
       "      <td>...</td>\n",
       "      <td>...</td>\n",
       "      <td>...</td>\n",
       "      <td>...</td>\n",
       "      <td>...</td>\n",
       "      <td>...</td>\n",
       "      <td>...</td>\n",
       "      <td>...</td>\n",
       "      <td>...</td>\n",
       "      <td>...</td>\n",
       "    </tr>\n",
       "    <tr>\n",
       "      <th>421565</th>\n",
       "      <td>45</td>\n",
       "      <td>98</td>\n",
       "      <td>2012-09-28</td>\n",
       "      <td>508.37</td>\n",
       "      <td>False</td>\n",
       "      <td>64.88</td>\n",
       "      <td>3.997</td>\n",
       "      <td>4556.61</td>\n",
       "      <td>20.64</td>\n",
       "      <td>1.50</td>\n",
       "      <td>1601.01</td>\n",
       "      <td>3288.25</td>\n",
       "      <td>192.013558</td>\n",
       "      <td>8.684</td>\n",
       "      <td>B</td>\n",
       "      <td>118221</td>\n",
       "    </tr>\n",
       "    <tr>\n",
       "      <th>421566</th>\n",
       "      <td>45</td>\n",
       "      <td>98</td>\n",
       "      <td>2012-10-05</td>\n",
       "      <td>628.10</td>\n",
       "      <td>False</td>\n",
       "      <td>64.89</td>\n",
       "      <td>3.985</td>\n",
       "      <td>5046.74</td>\n",
       "      <td>NaN</td>\n",
       "      <td>18.82</td>\n",
       "      <td>2253.43</td>\n",
       "      <td>2340.01</td>\n",
       "      <td>192.170412</td>\n",
       "      <td>8.667</td>\n",
       "      <td>B</td>\n",
       "      <td>118221</td>\n",
       "    </tr>\n",
       "    <tr>\n",
       "      <th>421567</th>\n",
       "      <td>45</td>\n",
       "      <td>98</td>\n",
       "      <td>2012-10-12</td>\n",
       "      <td>1061.02</td>\n",
       "      <td>False</td>\n",
       "      <td>54.47</td>\n",
       "      <td>4.000</td>\n",
       "      <td>1956.28</td>\n",
       "      <td>NaN</td>\n",
       "      <td>7.89</td>\n",
       "      <td>599.32</td>\n",
       "      <td>3990.54</td>\n",
       "      <td>192.327265</td>\n",
       "      <td>8.667</td>\n",
       "      <td>B</td>\n",
       "      <td>118221</td>\n",
       "    </tr>\n",
       "    <tr>\n",
       "      <th>421568</th>\n",
       "      <td>45</td>\n",
       "      <td>98</td>\n",
       "      <td>2012-10-19</td>\n",
       "      <td>760.01</td>\n",
       "      <td>False</td>\n",
       "      <td>56.47</td>\n",
       "      <td>3.969</td>\n",
       "      <td>2004.02</td>\n",
       "      <td>NaN</td>\n",
       "      <td>3.18</td>\n",
       "      <td>437.73</td>\n",
       "      <td>1537.49</td>\n",
       "      <td>192.330854</td>\n",
       "      <td>8.667</td>\n",
       "      <td>B</td>\n",
       "      <td>118221</td>\n",
       "    </tr>\n",
       "    <tr>\n",
       "      <th>421569</th>\n",
       "      <td>45</td>\n",
       "      <td>98</td>\n",
       "      <td>2012-10-26</td>\n",
       "      <td>1076.80</td>\n",
       "      <td>False</td>\n",
       "      <td>58.85</td>\n",
       "      <td>3.882</td>\n",
       "      <td>4018.91</td>\n",
       "      <td>58.08</td>\n",
       "      <td>100.00</td>\n",
       "      <td>211.94</td>\n",
       "      <td>858.33</td>\n",
       "      <td>192.308899</td>\n",
       "      <td>8.667</td>\n",
       "      <td>B</td>\n",
       "      <td>118221</td>\n",
       "    </tr>\n",
       "  </tbody>\n",
       "</table>\n",
       "<p>421570 rows × 16 columns</p>\n",
       "</div>\n",
       "      <button class=\"colab-df-convert\" onclick=\"convertToInteractive('df-e0bb9359-55c7-4d0d-8a52-ecc61e27fc64')\"\n",
       "              title=\"Convert this dataframe to an interactive table.\"\n",
       "              style=\"display:none;\">\n",
       "        \n",
       "  <svg xmlns=\"http://www.w3.org/2000/svg\" height=\"24px\"viewBox=\"0 0 24 24\"\n",
       "       width=\"24px\">\n",
       "    <path d=\"M0 0h24v24H0V0z\" fill=\"none\"/>\n",
       "    <path d=\"M18.56 5.44l.94 2.06.94-2.06 2.06-.94-2.06-.94-.94-2.06-.94 2.06-2.06.94zm-11 1L8.5 8.5l.94-2.06 2.06-.94-2.06-.94L8.5 2.5l-.94 2.06-2.06.94zm10 10l.94 2.06.94-2.06 2.06-.94-2.06-.94-.94-2.06-.94 2.06-2.06.94z\"/><path d=\"M17.41 7.96l-1.37-1.37c-.4-.4-.92-.59-1.43-.59-.52 0-1.04.2-1.43.59L10.3 9.45l-7.72 7.72c-.78.78-.78 2.05 0 2.83L4 21.41c.39.39.9.59 1.41.59.51 0 1.02-.2 1.41-.59l7.78-7.78 2.81-2.81c.8-.78.8-2.07 0-2.86zM5.41 20L4 18.59l7.72-7.72 1.47 1.35L5.41 20z\"/>\n",
       "  </svg>\n",
       "      </button>\n",
       "      \n",
       "  <style>\n",
       "    .colab-df-container {\n",
       "      display:flex;\n",
       "      flex-wrap:wrap;\n",
       "      gap: 12px;\n",
       "    }\n",
       "\n",
       "    .colab-df-convert {\n",
       "      background-color: #E8F0FE;\n",
       "      border: none;\n",
       "      border-radius: 50%;\n",
       "      cursor: pointer;\n",
       "      display: none;\n",
       "      fill: #1967D2;\n",
       "      height: 32px;\n",
       "      padding: 0 0 0 0;\n",
       "      width: 32px;\n",
       "    }\n",
       "\n",
       "    .colab-df-convert:hover {\n",
       "      background-color: #E2EBFA;\n",
       "      box-shadow: 0px 1px 2px rgba(60, 64, 67, 0.3), 0px 1px 3px 1px rgba(60, 64, 67, 0.15);\n",
       "      fill: #174EA6;\n",
       "    }\n",
       "\n",
       "    [theme=dark] .colab-df-convert {\n",
       "      background-color: #3B4455;\n",
       "      fill: #D2E3FC;\n",
       "    }\n",
       "\n",
       "    [theme=dark] .colab-df-convert:hover {\n",
       "      background-color: #434B5C;\n",
       "      box-shadow: 0px 1px 3px 1px rgba(0, 0, 0, 0.15);\n",
       "      filter: drop-shadow(0px 1px 2px rgba(0, 0, 0, 0.3));\n",
       "      fill: #FFFFFF;\n",
       "    }\n",
       "  </style>\n",
       "\n",
       "      <script>\n",
       "        const buttonEl =\n",
       "          document.querySelector('#df-e0bb9359-55c7-4d0d-8a52-ecc61e27fc64 button.colab-df-convert');\n",
       "        buttonEl.style.display =\n",
       "          google.colab.kernel.accessAllowed ? 'block' : 'none';\n",
       "\n",
       "        async function convertToInteractive(key) {\n",
       "          const element = document.querySelector('#df-e0bb9359-55c7-4d0d-8a52-ecc61e27fc64');\n",
       "          const dataTable =\n",
       "            await google.colab.kernel.invokeFunction('convertToInteractive',\n",
       "                                                     [key], {});\n",
       "          if (!dataTable) return;\n",
       "\n",
       "          const docLinkHtml = 'Like what you see? Visit the ' +\n",
       "            '<a target=\"_blank\" href=https://colab.research.google.com/notebooks/data_table.ipynb>data table notebook</a>'\n",
       "            + ' to learn more about interactive tables.';\n",
       "          element.innerHTML = '';\n",
       "          dataTable['output_type'] = 'display_data';\n",
       "          await google.colab.output.renderOutput(dataTable, element);\n",
       "          const docLink = document.createElement('div');\n",
       "          docLink.innerHTML = docLinkHtml;\n",
       "          element.appendChild(docLink);\n",
       "        }\n",
       "      </script>\n",
       "    </div>\n",
       "  </div>\n",
       "  "
      ],
      "text/plain": [
       "        Store  Dept        Date  Weekly_Sales  IsHoliday  Temperature  \\\n",
       "0           1     1  2010-02-05      24924.50      False        42.31   \n",
       "1           1     1  2010-02-12      46039.49       True        38.51   \n",
       "2           1     1  2010-02-19      41595.55      False        39.93   \n",
       "3           1     1  2010-02-26      19403.54      False        46.63   \n",
       "4           1     1  2010-03-05      21827.90      False        46.50   \n",
       "...       ...   ...         ...           ...        ...          ...   \n",
       "421565     45    98  2012-09-28        508.37      False        64.88   \n",
       "421566     45    98  2012-10-05        628.10      False        64.89   \n",
       "421567     45    98  2012-10-12       1061.02      False        54.47   \n",
       "421568     45    98  2012-10-19        760.01      False        56.47   \n",
       "421569     45    98  2012-10-26       1076.80      False        58.85   \n",
       "\n",
       "        Fuel_Price  MarkDown1  MarkDown2  MarkDown3  MarkDown4  MarkDown5  \\\n",
       "0            2.572        NaN        NaN        NaN        NaN        NaN   \n",
       "1            2.548        NaN        NaN        NaN        NaN        NaN   \n",
       "2            2.514        NaN        NaN        NaN        NaN        NaN   \n",
       "3            2.561        NaN        NaN        NaN        NaN        NaN   \n",
       "4            2.625        NaN        NaN        NaN        NaN        NaN   \n",
       "...            ...        ...        ...        ...        ...        ...   \n",
       "421565       3.997    4556.61      20.64       1.50    1601.01    3288.25   \n",
       "421566       3.985    5046.74        NaN      18.82    2253.43    2340.01   \n",
       "421567       4.000    1956.28        NaN       7.89     599.32    3990.54   \n",
       "421568       3.969    2004.02        NaN       3.18     437.73    1537.49   \n",
       "421569       3.882    4018.91      58.08     100.00     211.94     858.33   \n",
       "\n",
       "               CPI  Unemployment Type    Size  \n",
       "0       211.096358         8.106    A  151315  \n",
       "1       211.242170         8.106    A  151315  \n",
       "2       211.289143         8.106    A  151315  \n",
       "3       211.319643         8.106    A  151315  \n",
       "4       211.350143         8.106    A  151315  \n",
       "...            ...           ...  ...     ...  \n",
       "421565  192.013558         8.684    B  118221  \n",
       "421566  192.170412         8.667    B  118221  \n",
       "421567  192.327265         8.667    B  118221  \n",
       "421568  192.330854         8.667    B  118221  \n",
       "421569  192.308899         8.667    B  118221  \n",
       "\n",
       "[421570 rows x 16 columns]"
      ]
     },
     "execution_count": 29,
     "metadata": {},
     "output_type": "execute_result"
    }
   ],
   "source": [
    "raw_df"
   ]
  },
  {
   "cell_type": "markdown",
   "metadata": {
    "id": "Grg6yuHyqosP"
   },
   "source": [
    "## 2. Explore the Dataset\n",
    "\n",
    "- Basic info about training set\n",
    "- Basic info about test set\n",
    "- Exploratory data analysis & visualization\n",
    "- Ask & answer questions"
   ]
  },
  {
   "cell_type": "code",
   "execution_count": null,
   "metadata": {
    "colab": {
     "base_uri": "https://localhost:8080/"
    },
    "executionInfo": {
     "elapsed": 12,
     "status": "ok",
     "timestamp": 1667758223845,
     "user": {
      "displayName": "Pankaj Thakur",
      "userId": "05146800060821315169"
     },
     "user_tz": -330
    },
    "id": "M8Qt9sLSqUsx",
    "outputId": "affb28c6-4d01-47f8-c514-8d76cec65e3b"
   },
   "outputs": [
    {
     "name": "stdout",
     "output_type": "stream",
     "text": [
      "<class 'pandas.core.frame.DataFrame'>\n",
      "Int64Index: 421570 entries, 0 to 421569\n",
      "Data columns (total 16 columns):\n",
      " #   Column        Non-Null Count   Dtype  \n",
      "---  ------        --------------   -----  \n",
      " 0   Store         421570 non-null  int64  \n",
      " 1   Dept          421570 non-null  int64  \n",
      " 2   Date          421570 non-null  object \n",
      " 3   Weekly_Sales  421570 non-null  float64\n",
      " 4   IsHoliday     421570 non-null  bool   \n",
      " 5   Temperature   421570 non-null  float64\n",
      " 6   Fuel_Price    421570 non-null  float64\n",
      " 7   MarkDown1     150681 non-null  float64\n",
      " 8   MarkDown2     111248 non-null  float64\n",
      " 9   MarkDown3     137091 non-null  float64\n",
      " 10  MarkDown4     134967 non-null  float64\n",
      " 11  MarkDown5     151432 non-null  float64\n",
      " 12  CPI           421570 non-null  float64\n",
      " 13  Unemployment  421570 non-null  float64\n",
      " 14  Type          421570 non-null  object \n",
      " 15  Size          421570 non-null  int64  \n",
      "dtypes: bool(1), float64(10), int64(3), object(2)\n",
      "memory usage: 51.9+ MB\n"
     ]
    }
   ],
   "source": [
    "raw_df.info()"
   ]
  },
  {
   "cell_type": "code",
   "execution_count": null,
   "metadata": {
    "colab": {
     "base_uri": "https://localhost:8080/"
    },
    "executionInfo": {
     "elapsed": 637,
     "status": "ok",
     "timestamp": 1667758225849,
     "user": {
      "displayName": "Pankaj Thakur",
      "userId": "05146800060821315169"
     },
     "user_tz": -330
    },
    "id": "xRQl-yC-qvf4",
    "outputId": "c5866c2a-6490-4fd0-9b62-12bec0dc7067"
   },
   "outputs": [
    {
     "name": "stderr",
     "output_type": "stream",
     "text": [
      "/usr/local/lib/python3.7/dist-packages/ipykernel_launcher.py:2: FutureWarning: Series.dt.weekofyear and Series.dt.week have been deprecated.  Please use Series.dt.isocalendar().week instead.\n",
      "  \n"
     ]
    }
   ],
   "source": [
    "raw_df['Date'] = pd.to_datetime(raw_df['Date'])\n",
    "raw_df['Week'] = raw_df['Date'].dt.week\n",
    "raw_df['Year'] = raw_df['Date'].dt.year\n",
    "raw_df['Month'] = raw_df['Date'].dt.month\n",
    "raw_df['Day'] = raw_df['Date'].dt.day"
   ]
  },
  {
   "cell_type": "code",
   "execution_count": null,
   "metadata": {
    "colab": {
     "base_uri": "https://localhost:8080/"
    },
    "executionInfo": {
     "elapsed": 20,
     "status": "ok",
     "timestamp": 1667758227669,
     "user": {
      "displayName": "Pankaj Thakur",
      "userId": "05146800060821315169"
     },
     "user_tz": -330
    },
    "id": "KPsI8XOYtJ14",
    "outputId": "10ee0774-39eb-4b4d-dba8-0a2add0441ed"
   },
   "outputs": [
    {
     "name": "stderr",
     "output_type": "stream",
     "text": [
      "/usr/local/lib/python3.7/dist-packages/ipykernel_launcher.py:2: FutureWarning: Series.dt.weekofyear and Series.dt.week have been deprecated.  Please use Series.dt.isocalendar().week instead.\n",
      "  \n"
     ]
    }
   ],
   "source": [
    "test_df['Date'] = pd.to_datetime(test_df['Date'])\n",
    "test_df['Week'] = test_df['Date'].dt.week\n",
    "test_df['Year'] = test_df['Date'].dt.year\n",
    "test_df['Month'] = test_df['Date'].dt.month\n",
    "test_df['Day'] = test_df['Date'].dt.day"
   ]
  },
  {
   "cell_type": "code",
   "execution_count": null,
   "metadata": {
    "colab": {
     "base_uri": "https://localhost:8080/",
     "height": 88
    },
    "executionInfo": {
     "elapsed": 2797,
     "status": "ok",
     "timestamp": 1667758231083,
     "user": {
      "displayName": "Pankaj Thakur",
      "userId": "05146800060821315169"
     },
     "user_tz": -330
    },
    "id": "FV5GxCI9szgg",
    "outputId": "671832f0-6c9a-4157-9c5d-82866f00d25e"
   },
   "outputs": [
    {
     "name": "stdout",
     "output_type": "stream",
     "text": [
      "[jovian] Detected Colab notebook...\u001b[0m\n",
      "[jovian] Uploading colab notebook to Jovian...\u001b[0m\n",
      "Committed successfully! https://jovian.ai/pankajthakur3999/machine-learning-project\n"
     ]
    },
    {
     "data": {
      "application/vnd.google.colaboratory.intrinsic+json": {
       "type": "string"
      },
      "text/plain": [
       "'https://jovian.ai/pankajthakur3999/machine-learning-project'"
      ]
     },
     "execution_count": 33,
     "metadata": {},
     "output_type": "execute_result"
    }
   ],
   "source": [
    "jovian.commit()"
   ]
  },
  {
   "cell_type": "code",
   "execution_count": null,
   "metadata": {
    "colab": {
     "base_uri": "https://localhost:8080/"
    },
    "executionInfo": {
     "elapsed": 48,
     "status": "ok",
     "timestamp": 1667758231085,
     "user": {
      "displayName": "Pankaj Thakur",
      "userId": "05146800060821315169"
     },
     "user_tz": -330
    },
    "id": "JzDknF54rLkH",
    "outputId": "390ccfc4-4972-42aa-bdfe-d1905f008e6d"
   },
   "outputs": [
    {
     "name": "stdout",
     "output_type": "stream",
     "text": [
      "<class 'pandas.core.frame.DataFrame'>\n",
      "Int64Index: 421570 entries, 0 to 421569\n",
      "Data columns (total 20 columns):\n",
      " #   Column        Non-Null Count   Dtype         \n",
      "---  ------        --------------   -----         \n",
      " 0   Store         421570 non-null  int64         \n",
      " 1   Dept          421570 non-null  int64         \n",
      " 2   Date          421570 non-null  datetime64[ns]\n",
      " 3   Weekly_Sales  421570 non-null  float64       \n",
      " 4   IsHoliday     421570 non-null  bool          \n",
      " 5   Temperature   421570 non-null  float64       \n",
      " 6   Fuel_Price    421570 non-null  float64       \n",
      " 7   MarkDown1     150681 non-null  float64       \n",
      " 8   MarkDown2     111248 non-null  float64       \n",
      " 9   MarkDown3     137091 non-null  float64       \n",
      " 10  MarkDown4     134967 non-null  float64       \n",
      " 11  MarkDown5     151432 non-null  float64       \n",
      " 12  CPI           421570 non-null  float64       \n",
      " 13  Unemployment  421570 non-null  float64       \n",
      " 14  Type          421570 non-null  object        \n",
      " 15  Size          421570 non-null  int64         \n",
      " 16  Week          421570 non-null  int64         \n",
      " 17  Year          421570 non-null  int64         \n",
      " 18  Month         421570 non-null  int64         \n",
      " 19  Day           421570 non-null  int64         \n",
      "dtypes: bool(1), datetime64[ns](1), float64(10), int64(7), object(1)\n",
      "memory usage: 64.7+ MB\n"
     ]
    }
   ],
   "source": [
    "raw_df.info()"
   ]
  },
  {
   "cell_type": "markdown",
   "metadata": {
    "id": "exVKYg79roSQ"
   },
   "source": [
    "## Exploratory Data Analysis and Visualization\n",
    "\n",
    "Before training a machine learning model, its always a good idea to explore the distributions of various columns and see how they are related to the target column. Let's explore and visualize the data using the Plotly, Matplotlib and Seaborn libraries. Follow these tutorials to learn how to use these libraries:\n"
   ]
  },
  {
   "cell_type": "code",
   "execution_count": null,
   "metadata": {
    "id": "nnZlQ_ezrOtH"
   },
   "outputs": [],
   "source": [
    "!pip install plotly matplotlib seaborn --quiet"
   ]
  },
  {
   "cell_type": "code",
   "execution_count": null,
   "metadata": {
    "id": "t32O6mRwrtdo"
   },
   "outputs": [],
   "source": [
    "import plotly.express as px\n",
    "import matplotlib\n",
    "import matplotlib.pyplot as plt\n",
    "import seaborn as sns\n",
    "%matplotlib inline\n",
    "\n",
    "sns.set_style('darkgrid')\n",
    "matplotlib.rcParams['font.size'] = 14\n",
    "matplotlib.rcParams['figure.figsize'] = (10, 6)\n",
    "matplotlib.rcParams['figure.facecolor'] = '#00000000'"
   ]
  },
  {
   "cell_type": "code",
   "execution_count": null,
   "metadata": {
    "colab": {
     "base_uri": "https://localhost:8080/",
     "height": 88
    },
    "executionInfo": {
     "elapsed": 2965,
     "status": "ok",
     "timestamp": 1667758243185,
     "user": {
      "displayName": "Pankaj Thakur",
      "userId": "05146800060821315169"
     },
     "user_tz": -330
    },
    "id": "4qPSWsmuru0i",
    "outputId": "e84dd26d-251d-4845-c822-f361c3e48c6d"
   },
   "outputs": [
    {
     "name": "stdout",
     "output_type": "stream",
     "text": [
      "[jovian] Detected Colab notebook...\u001b[0m\n",
      "[jovian] Uploading colab notebook to Jovian...\u001b[0m\n",
      "Committed successfully! https://jovian.ai/pankajthakur3999/machine-learning-project\n"
     ]
    },
    {
     "data": {
      "application/vnd.google.colaboratory.intrinsic+json": {
       "type": "string"
      },
      "text/plain": [
       "'https://jovian.ai/pankajthakur3999/machine-learning-project'"
      ]
     },
     "execution_count": 37,
     "metadata": {},
     "output_type": "execute_result"
    }
   ],
   "source": [
    "jovian.commit()"
   ]
  },
  {
   "cell_type": "markdown",
   "metadata": {
    "id": "CsRl17Lf33lI"
   },
   "source": [
    "### Data Description"
   ]
  },
  {
   "cell_type": "markdown",
   "metadata": {
    "id": "K2GY8_nX37do"
   },
   "source": [
    "You are provided with historical sales data for 45 Walmart stores located in different regions. Each store contains a number of departments, and you are tasked with predicting the department-wide sales for each store.\n",
    "\n",
    "In addition, Walmart runs several promotional markdown events throughout the year. These markdowns precede prominent holidays, the four largest of which are the Super Bowl, Labor Day, Thanksgiving, and Christmas. The weeks including these holidays are weighted five times higher in the evaluation than non-holiday weeks. Part of the challenge presented by this competition is modeling the effects of markdowns on these holiday weeks in the absence of complete/ideal historical data.\n",
    "\n",
    "stores.csv\n",
    "\n",
    "This file contains anonymized information about the 45 stores, indicating the type and size of store.\n",
    "\n",
    "train.csv\n",
    "\n",
    "This is the historical training data, which covers to 2010-02-05 to 2012-11-01. Within this file you will find the following fields:\n",
    "\n",
    "Store - the store number\n",
    "Dept - the department number\n",
    "Date - the week\n",
    "Weekly_Sales -  sales for the given department in the given store\n",
    "IsHoliday - whether the week is a special holiday week\n",
    "test.csv\n",
    "\n",
    "This file is identical to train.csv, except we have withheld the weekly sales. You must predict the sales for each triplet of store, department, and date in this file.\n",
    "\n",
    "features.csv\n",
    "\n",
    "This file contains additional data related to the store, department, and regional activity for the given dates. It contains the following fields:\n",
    "\n",
    "Store - the store number\n",
    "Date - the week\n",
    "Temperature - average temperature in the region\n",
    "Fuel_Price - cost of fuel in the region\n",
    "MarkDown1-5 - anonymized data related to promotional markdowns that Walmart is running. MarkDown data is only available after Nov 2011, and is not available for all stores all the time. Any missing value is marked with an NA.\n",
    "CPI - the consumer price index\n",
    "Unemployment - the unemployment rate\n",
    "IsHoliday - whether the week is a special holiday week\n",
    "For convenience, the four holidays fall within the following weeks in the dataset (not all holidays are in the data):\n",
    "\n",
    "Super Bowl: 12-Feb-10, 11-Feb-11, 10-Feb-12, 8-Feb-13\n",
    "Labor Day: 10-Sep-10, 9-Sep-11, 7-Sep-12, 6-Sep-13\n",
    "Thanksgiving: 26-Nov-10, 25-Nov-11, 23-Nov-12, 29-Nov-13\n",
    "Christmas: 31-Dec-10, 30-Dec-11, 28-Dec-12, 27-Dec-13"
   ]
  },
  {
   "cell_type": "code",
   "execution_count": null,
   "metadata": {
    "colab": {
     "base_uri": "https://localhost:8080/",
     "height": 542
    },
    "executionInfo": {
     "elapsed": 664,
     "status": "ok",
     "timestamp": 1667758243823,
     "user": {
      "displayName": "Pankaj Thakur",
      "userId": "05146800060821315169"
     },
     "user_tz": -330
    },
    "id": "RVmyItfg-5tE",
    "outputId": "f767feb1-6dd3-4e20-863d-a1864bf358a9"
   },
   "outputs": [
    {
     "data": {
      "text/html": [
       "<html>\n",
       "<head><meta charset=\"utf-8\" /></head>\n",
       "<body>\n",
       "    <div>            <script src=\"https://cdnjs.cloudflare.com/ajax/libs/mathjax/2.7.5/MathJax.js?config=TeX-AMS-MML_SVG\"></script><script type=\"text/javascript\">if (window.MathJax) {MathJax.Hub.Config({SVG: {font: \"STIX-Web\"}});}</script>                <script type=\"text/javascript\">window.PlotlyConfig = {MathJaxConfig: 'local'};</script>\n",
       "        <script src=\"https://cdn.plot.ly/plotly-2.8.3.min.js\"></script>                <div id=\"2969d54c-d712-46fb-ba19-424f045a435d\" class=\"plotly-graph-div\" style=\"height:525px; width:100%;\"></div>            <script type=\"text/javascript\">                                    window.PLOTLYENV=window.PLOTLYENV || {};                                    if (document.getElementById(\"2969d54c-d712-46fb-ba19-424f045a435d\")) {                    Plotly.newPlot(                        \"2969d54c-d712-46fb-ba19-424f045a435d\",                        [{\"alignmentgroup\":\"True\",\"hovertemplate\":\"Store_Type=%{x}<br>AvgSales=%{y}<extra></extra>\",\"legendgroup\":\"\",\"marker\":{\"color\":\"#DC143C\",\"pattern\":{\"shape\":\"\"}},\"name\":\"\",\"offsetgroup\":\"\",\"orientation\":\"v\",\"showlegend\":false,\"textposition\":\"auto\",\"x\":[\"A\",\"B\",\"C\"],\"xaxis\":\"x\",\"y\":[20099.568042909254,12237.075976757698,9519.532538441676],\"yaxis\":\"y\",\"type\":\"bar\"}],                        {\"template\":{\"data\":{\"barpolar\":[{\"marker\":{\"line\":{\"color\":\"rgb(17,17,17)\",\"width\":0.5},\"pattern\":{\"fillmode\":\"overlay\",\"size\":10,\"solidity\":0.2}},\"type\":\"barpolar\"}],\"bar\":[{\"error_x\":{\"color\":\"#f2f5fa\"},\"error_y\":{\"color\":\"#f2f5fa\"},\"marker\":{\"line\":{\"color\":\"rgb(17,17,17)\",\"width\":0.5},\"pattern\":{\"fillmode\":\"overlay\",\"size\":10,\"solidity\":0.2}},\"type\":\"bar\"}],\"carpet\":[{\"aaxis\":{\"endlinecolor\":\"#A2B1C6\",\"gridcolor\":\"#506784\",\"linecolor\":\"#506784\",\"minorgridcolor\":\"#506784\",\"startlinecolor\":\"#A2B1C6\"},\"baxis\":{\"endlinecolor\":\"#A2B1C6\",\"gridcolor\":\"#506784\",\"linecolor\":\"#506784\",\"minorgridcolor\":\"#506784\",\"startlinecolor\":\"#A2B1C6\"},\"type\":\"carpet\"}],\"choropleth\":[{\"colorbar\":{\"outlinewidth\":0,\"ticks\":\"\"},\"type\":\"choropleth\"}],\"contourcarpet\":[{\"colorbar\":{\"outlinewidth\":0,\"ticks\":\"\"},\"type\":\"contourcarpet\"}],\"contour\":[{\"colorbar\":{\"outlinewidth\":0,\"ticks\":\"\"},\"colorscale\":[[0.0,\"#0d0887\"],[0.1111111111111111,\"#46039f\"],[0.2222222222222222,\"#7201a8\"],[0.3333333333333333,\"#9c179e\"],[0.4444444444444444,\"#bd3786\"],[0.5555555555555556,\"#d8576b\"],[0.6666666666666666,\"#ed7953\"],[0.7777777777777778,\"#fb9f3a\"],[0.8888888888888888,\"#fdca26\"],[1.0,\"#f0f921\"]],\"type\":\"contour\"}],\"heatmapgl\":[{\"colorbar\":{\"outlinewidth\":0,\"ticks\":\"\"},\"colorscale\":[[0.0,\"#0d0887\"],[0.1111111111111111,\"#46039f\"],[0.2222222222222222,\"#7201a8\"],[0.3333333333333333,\"#9c179e\"],[0.4444444444444444,\"#bd3786\"],[0.5555555555555556,\"#d8576b\"],[0.6666666666666666,\"#ed7953\"],[0.7777777777777778,\"#fb9f3a\"],[0.8888888888888888,\"#fdca26\"],[1.0,\"#f0f921\"]],\"type\":\"heatmapgl\"}],\"heatmap\":[{\"colorbar\":{\"outlinewidth\":0,\"ticks\":\"\"},\"colorscale\":[[0.0,\"#0d0887\"],[0.1111111111111111,\"#46039f\"],[0.2222222222222222,\"#7201a8\"],[0.3333333333333333,\"#9c179e\"],[0.4444444444444444,\"#bd3786\"],[0.5555555555555556,\"#d8576b\"],[0.6666666666666666,\"#ed7953\"],[0.7777777777777778,\"#fb9f3a\"],[0.8888888888888888,\"#fdca26\"],[1.0,\"#f0f921\"]],\"type\":\"heatmap\"}],\"histogram2dcontour\":[{\"colorbar\":{\"outlinewidth\":0,\"ticks\":\"\"},\"colorscale\":[[0.0,\"#0d0887\"],[0.1111111111111111,\"#46039f\"],[0.2222222222222222,\"#7201a8\"],[0.3333333333333333,\"#9c179e\"],[0.4444444444444444,\"#bd3786\"],[0.5555555555555556,\"#d8576b\"],[0.6666666666666666,\"#ed7953\"],[0.7777777777777778,\"#fb9f3a\"],[0.8888888888888888,\"#fdca26\"],[1.0,\"#f0f921\"]],\"type\":\"histogram2dcontour\"}],\"histogram2d\":[{\"colorbar\":{\"outlinewidth\":0,\"ticks\":\"\"},\"colorscale\":[[0.0,\"#0d0887\"],[0.1111111111111111,\"#46039f\"],[0.2222222222222222,\"#7201a8\"],[0.3333333333333333,\"#9c179e\"],[0.4444444444444444,\"#bd3786\"],[0.5555555555555556,\"#d8576b\"],[0.6666666666666666,\"#ed7953\"],[0.7777777777777778,\"#fb9f3a\"],[0.8888888888888888,\"#fdca26\"],[1.0,\"#f0f921\"]],\"type\":\"histogram2d\"}],\"histogram\":[{\"marker\":{\"pattern\":{\"fillmode\":\"overlay\",\"size\":10,\"solidity\":0.2}},\"type\":\"histogram\"}],\"mesh3d\":[{\"colorbar\":{\"outlinewidth\":0,\"ticks\":\"\"},\"type\":\"mesh3d\"}],\"parcoords\":[{\"line\":{\"colorbar\":{\"outlinewidth\":0,\"ticks\":\"\"}},\"type\":\"parcoords\"}],\"pie\":[{\"automargin\":true,\"type\":\"pie\"}],\"scatter3d\":[{\"line\":{\"colorbar\":{\"outlinewidth\":0,\"ticks\":\"\"}},\"marker\":{\"colorbar\":{\"outlinewidth\":0,\"ticks\":\"\"}},\"type\":\"scatter3d\"}],\"scattercarpet\":[{\"marker\":{\"colorbar\":{\"outlinewidth\":0,\"ticks\":\"\"}},\"type\":\"scattercarpet\"}],\"scattergeo\":[{\"marker\":{\"colorbar\":{\"outlinewidth\":0,\"ticks\":\"\"}},\"type\":\"scattergeo\"}],\"scattergl\":[{\"marker\":{\"line\":{\"color\":\"#283442\"}},\"type\":\"scattergl\"}],\"scattermapbox\":[{\"marker\":{\"colorbar\":{\"outlinewidth\":0,\"ticks\":\"\"}},\"type\":\"scattermapbox\"}],\"scatterpolargl\":[{\"marker\":{\"colorbar\":{\"outlinewidth\":0,\"ticks\":\"\"}},\"type\":\"scatterpolargl\"}],\"scatterpolar\":[{\"marker\":{\"colorbar\":{\"outlinewidth\":0,\"ticks\":\"\"}},\"type\":\"scatterpolar\"}],\"scatter\":[{\"marker\":{\"line\":{\"color\":\"#283442\"}},\"type\":\"scatter\"}],\"scatterternary\":[{\"marker\":{\"colorbar\":{\"outlinewidth\":0,\"ticks\":\"\"}},\"type\":\"scatterternary\"}],\"surface\":[{\"colorbar\":{\"outlinewidth\":0,\"ticks\":\"\"},\"colorscale\":[[0.0,\"#0d0887\"],[0.1111111111111111,\"#46039f\"],[0.2222222222222222,\"#7201a8\"],[0.3333333333333333,\"#9c179e\"],[0.4444444444444444,\"#bd3786\"],[0.5555555555555556,\"#d8576b\"],[0.6666666666666666,\"#ed7953\"],[0.7777777777777778,\"#fb9f3a\"],[0.8888888888888888,\"#fdca26\"],[1.0,\"#f0f921\"]],\"type\":\"surface\"}],\"table\":[{\"cells\":{\"fill\":{\"color\":\"#506784\"},\"line\":{\"color\":\"rgb(17,17,17)\"}},\"header\":{\"fill\":{\"color\":\"#2a3f5f\"},\"line\":{\"color\":\"rgb(17,17,17)\"}},\"type\":\"table\"}]},\"layout\":{\"annotationdefaults\":{\"arrowcolor\":\"#f2f5fa\",\"arrowhead\":0,\"arrowwidth\":1},\"autotypenumbers\":\"strict\",\"coloraxis\":{\"colorbar\":{\"outlinewidth\":0,\"ticks\":\"\"}},\"colorscale\":{\"diverging\":[[0,\"#8e0152\"],[0.1,\"#c51b7d\"],[0.2,\"#de77ae\"],[0.3,\"#f1b6da\"],[0.4,\"#fde0ef\"],[0.5,\"#f7f7f7\"],[0.6,\"#e6f5d0\"],[0.7,\"#b8e186\"],[0.8,\"#7fbc41\"],[0.9,\"#4d9221\"],[1,\"#276419\"]],\"sequential\":[[0.0,\"#0d0887\"],[0.1111111111111111,\"#46039f\"],[0.2222222222222222,\"#7201a8\"],[0.3333333333333333,\"#9c179e\"],[0.4444444444444444,\"#bd3786\"],[0.5555555555555556,\"#d8576b\"],[0.6666666666666666,\"#ed7953\"],[0.7777777777777778,\"#fb9f3a\"],[0.8888888888888888,\"#fdca26\"],[1.0,\"#f0f921\"]],\"sequentialminus\":[[0.0,\"#0d0887\"],[0.1111111111111111,\"#46039f\"],[0.2222222222222222,\"#7201a8\"],[0.3333333333333333,\"#9c179e\"],[0.4444444444444444,\"#bd3786\"],[0.5555555555555556,\"#d8576b\"],[0.6666666666666666,\"#ed7953\"],[0.7777777777777778,\"#fb9f3a\"],[0.8888888888888888,\"#fdca26\"],[1.0,\"#f0f921\"]]},\"colorway\":[\"#636efa\",\"#EF553B\",\"#00cc96\",\"#ab63fa\",\"#FFA15A\",\"#19d3f3\",\"#FF6692\",\"#B6E880\",\"#FF97FF\",\"#FECB52\"],\"font\":{\"color\":\"#f2f5fa\"},\"geo\":{\"bgcolor\":\"rgb(17,17,17)\",\"lakecolor\":\"rgb(17,17,17)\",\"landcolor\":\"rgb(17,17,17)\",\"showlakes\":true,\"showland\":true,\"subunitcolor\":\"#506784\"},\"hoverlabel\":{\"align\":\"left\"},\"hovermode\":\"closest\",\"mapbox\":{\"style\":\"dark\"},\"paper_bgcolor\":\"rgb(17,17,17)\",\"plot_bgcolor\":\"rgb(17,17,17)\",\"polar\":{\"angularaxis\":{\"gridcolor\":\"#506784\",\"linecolor\":\"#506784\",\"ticks\":\"\"},\"bgcolor\":\"rgb(17,17,17)\",\"radialaxis\":{\"gridcolor\":\"#506784\",\"linecolor\":\"#506784\",\"ticks\":\"\"}},\"scene\":{\"xaxis\":{\"backgroundcolor\":\"rgb(17,17,17)\",\"gridcolor\":\"#506784\",\"gridwidth\":2,\"linecolor\":\"#506784\",\"showbackground\":true,\"ticks\":\"\",\"zerolinecolor\":\"#C8D4E3\"},\"yaxis\":{\"backgroundcolor\":\"rgb(17,17,17)\",\"gridcolor\":\"#506784\",\"gridwidth\":2,\"linecolor\":\"#506784\",\"showbackground\":true,\"ticks\":\"\",\"zerolinecolor\":\"#C8D4E3\"},\"zaxis\":{\"backgroundcolor\":\"rgb(17,17,17)\",\"gridcolor\":\"#506784\",\"gridwidth\":2,\"linecolor\":\"#506784\",\"showbackground\":true,\"ticks\":\"\",\"zerolinecolor\":\"#C8D4E3\"}},\"shapedefaults\":{\"line\":{\"color\":\"#f2f5fa\"}},\"sliderdefaults\":{\"bgcolor\":\"#C8D4E3\",\"bordercolor\":\"rgb(17,17,17)\",\"borderwidth\":1,\"tickwidth\":0},\"ternary\":{\"aaxis\":{\"gridcolor\":\"#506784\",\"linecolor\":\"#506784\",\"ticks\":\"\"},\"baxis\":{\"gridcolor\":\"#506784\",\"linecolor\":\"#506784\",\"ticks\":\"\"},\"bgcolor\":\"rgb(17,17,17)\",\"caxis\":{\"gridcolor\":\"#506784\",\"linecolor\":\"#506784\",\"ticks\":\"\"}},\"title\":{\"x\":0.05},\"updatemenudefaults\":{\"bgcolor\":\"#506784\",\"borderwidth\":0},\"xaxis\":{\"automargin\":true,\"gridcolor\":\"#283442\",\"linecolor\":\"#506784\",\"ticks\":\"\",\"title\":{\"standoff\":15},\"zerolinecolor\":\"#283442\",\"zerolinewidth\":2},\"yaxis\":{\"automargin\":true,\"gridcolor\":\"#283442\",\"linecolor\":\"#506784\",\"ticks\":\"\",\"title\":{\"standoff\":15},\"zerolinecolor\":\"#283442\",\"zerolinewidth\":2}}},\"xaxis\":{\"anchor\":\"y\",\"domain\":[0.0,1.0],\"title\":{\"text\":\"Store_Type\"}},\"yaxis\":{\"anchor\":\"x\",\"domain\":[0.0,1.0],\"title\":{\"text\":\"AvgSales\"}},\"legend\":{\"tracegroupgap\":0},\"title\":{\"text\":\"Avergae Sales - Per Store\"},\"barmode\":\"relative\"},                        {\"responsive\": true}                    ).then(function(){\n",
       "                            \n",
       "var gd = document.getElementById('2969d54c-d712-46fb-ba19-424f045a435d');\n",
       "var x = new MutationObserver(function (mutations, observer) {{\n",
       "        var display = window.getComputedStyle(gd).display;\n",
       "        if (!display || display === 'none') {{\n",
       "            console.log([gd, 'removed!']);\n",
       "            Plotly.purge(gd);\n",
       "            observer.disconnect();\n",
       "        }}\n",
       "}});\n",
       "\n",
       "// Listen for the removal of the full notebook cells\n",
       "var notebookContainer = gd.closest('#notebook-container');\n",
       "if (notebookContainer) {{\n",
       "    x.observe(notebookContainer, {childList: true});\n",
       "}}\n",
       "\n",
       "// Listen for the clearing of the current output cell\n",
       "var outputEl = gd.closest('.output');\n",
       "if (outputEl) {{\n",
       "    x.observe(outputEl, {childList: true});\n",
       "}}\n",
       "\n",
       "                        })                };                            </script>        </div>\n",
       "</body>\n",
       "</html>"
      ]
     },
     "metadata": {},
     "output_type": "display_data"
    }
   ],
   "source": [
    "avgweeklysales = raw_df.groupby('Type')['Weekly_Sales'].mean().to_dict()\n",
    "df = pd.DataFrame(list(avgweeklysales.items()), columns=['Store_Type', 'AvgSales'])\n",
    "\n",
    "fig = px.bar(df, \n",
    "             x=\"Store_Type\", \n",
    "             y=\"AvgSales\",  \n",
    "             title=\"Avergae Sales - Per Store\",\n",
    "             color_discrete_sequence=[\"#DC143C\"], template='plotly_dark')\n",
    "fig.show()"
   ]
  },
  {
   "cell_type": "markdown",
   "metadata": {
    "id": "bl3LoIiL4iWp"
   },
   "source": [
    "Insights:\n",
    "In terms of sales, type A stores are superior than other two types"
   ]
  },
  {
   "cell_type": "markdown",
   "metadata": {
    "id": "eSmXmYgj4dOf"
   },
   "source": [
    "### Temperature vs Sales"
   ]
  },
  {
   "cell_type": "code",
   "execution_count": null,
   "metadata": {
    "colab": {
     "base_uri": "https://localhost:8080/",
     "height": 542
    },
    "executionInfo": {
     "elapsed": 637,
     "status": "ok",
     "timestamp": 1667758247033,
     "user": {
      "displayName": "Pankaj Thakur",
      "userId": "05146800060821315169"
     },
     "user_tz": -330
    },
    "id": "0BA81PQss8FT",
    "outputId": "2a009605-d653-4ebb-8a65-975bf7128eb9"
   },
   "outputs": [
    {
     "data": {
      "text/html": [
       "<html>\n",
       "<head><meta charset=\"utf-8\" /></head>\n",
       "<body>\n",
       "    <div>            <script src=\"https://cdnjs.cloudflare.com/ajax/libs/mathjax/2.7.5/MathJax.js?config=TeX-AMS-MML_SVG\"></script><script type=\"text/javascript\">if (window.MathJax) {MathJax.Hub.Config({SVG: {font: \"STIX-Web\"}});}</script>                <script type=\"text/javascript\">window.PlotlyConfig = {MathJaxConfig: 'local'};</script>\n",
       "        <script src=\"https://cdn.plot.ly/plotly-2.8.3.min.js\"></script>                <div id=\"289234b9-0b32-4b60-bf6f-3d0507b82f6d\" class=\"plotly-graph-div\" style=\"height:525px; width:100%;\"></div>            <script type=\"text/javascript\">                                    window.PLOTLYENV=window.PLOTLYENV || {};                                    if (document.getElementById(\"289234b9-0b32-4b60-bf6f-3d0507b82f6d\")) {                    Plotly.newPlot(                        \"289234b9-0b32-4b60-bf6f-3d0507b82f6d\",                        [{\"hovertemplate\":\"Temperature=%{x}<br>Weekly_Sales=%{y}<extra></extra>\",\"legendgroup\":\"\",\"marker\":{\"color\":\"#636efa\",\"symbol\":\"circle\"},\"mode\":\"markers\",\"name\":\"\",\"showlegend\":false,\"x\":[76.25,66.82,37.77,31.53,84.77,58.04,67.31,91.56,50.5,80.62,57.18,72.22,57.1,84.15,55.13,64.76,91.98,84.37,83.07,36.97,69.07,65.15,52.9,91.94,61.37,46.42,55.69,26.23,55.23,67.88,43.85,49.79,9.55,64.43,67.88,36.65,73.12,73.94,51.34,54.18,75.19,36.0,80.42,62.31,30.72,52.06,39.38,29.76,64.69,49.63,48.72,21.81,44.13,48.63,46.87,25.9,78.04,85.71,59.97,87.17,25.9,43.57,82.5,56.47,64.44,80.49,52.27,68.91,53.35,84.71,57.93,39.94,61.7,62.11,35.52,69.22,50.23,45.35,80.93,63.08,75.93,88.09,42.11,79.3,87.93,63.16,48.76,49.96,53.77,19.61,92.13,16.5,83.8,24.46,36.04,84.19,83.07,46.14,49.96,60.13,79.3,52.33,43.64,76.87,54.89,21.79,65.02,69.27,53.62,47.1,75.31,66.83,38.09,52.06,48.71,86.13,25.3,34.74,31.77,53.53,62.86,88.65,21.6,50.02,62.9,48.86,25.19,90.11,91.74,69.1,65.93,62.86,73.2,71.74,71.79,57.06,85.77,76.1,48.63,56.44,30.45,41.82,65.11,30.54,81.81,42.39,58.21,52.89,52.05,59.3,70.03,60.93,26.62,87.54,59.38,85.49,78.89,62.76,19.03,51.8,62.67,28.73,70.93,58.22,80.43,58.85,61.24,69.92,50.21,47.87,58.11,82.51,82.09,19.79,74.04,59.1,56.43,43.83,85.72,29.0,67.54,69.39,85.06,81.56,51.6,74.83,33.92,71.79,60.45,68.37,70.34,51.74,30.59,71.25,64.19,65.11,70.28,78.95,49.96,67.11,57.1,50.15,86.49,46.52,17.05,40.14,50.81,65.87,27.92,82.06,90.27,80.48,72.62,45.03,61.3,58.82,71.99,54.44,85.11,87.09,74.83,60.95,67.59,69.31,48.87,62.71,85.1,20.6,75.19,60.62,61.33,44.69,84.51,95.88,55.19,89.65,78.31,46.28,68.55,77.72,68.26,47.51,28.49,69.71,83.49,26.49,60.42,44.57,62.96,67.87,93.29,90.22,57.84,28.43,95.91,47.95,37.0,76.65,84.41,95.88,82.52,67.28,76.38,41.2,80.71,56.63,78.24,28.36,45.16,84.99,63.44,65.54,71.44,65.53,31.51,85.2,91.77,44.76,50.79,63.83,60.04,67.28,39.98,82.1,55.28,67.15,49.04,40.75,50.39,36.61,37.62,36.04,77.72,78.47,83.23,54.44,83.94,77.15,72.52,62.7,73.08,62.99,86.03,69.55,67.14,52.21,24.3,61.05,34.86,70.81,51.24,59.42,71.28,33.8,77.79,47.65,31.56,68.57,76.01,67.16,80.11,28.43,70.28,76.35,81.64,68.36,58.36,55.1,70.65,70.87,54.26,51.83,55.23,41.81,77.49,35.51,61.33,53.15,69.52,67.45,74.86,67.48,85.72,31.64,31.11,25.55,87.01,88.93,58.18,35.44,65.28,72.93,78.68,76.04,42.87,58.02,50.43,63.07,61.04,32.81,68.27,85.19,62.98,69.59,82.97,73.4,57.1,40.68,70.87,66.82,74.54,73.67,50.97,77.7,62.8,76.03,47.35,61.87,64.76,57.73,63.82,30.54,56.91,69.16,59.3,37.62,37.64,32.43,75.91,57.48,91.8,59.33,89.18,65.16,68.53,34.61,65.16,84.85,67.38,81.24,31.53,74.15,73.52,75.56,70.12,43.47,78.52,81.87,76.1,73.7,28.7,75.55,80.22,70.75,73.34,18.55,69.53,86.53,57.25,65.32,69.16,43.41,89.94,73.29,62.17,53.55,86.36,45.35,41.2,91.45,67.32,85.26,49.43,48.48,84.88,86.87,40.01,66.38,63.08,50.24,74.23,90.78,64.76,42.31,49.15,34.13,42.74,93.66,70.1,59.12,42.09,64.02,39.34,57.2,73.62,28.89,49.61,67.87,81.56,50.99,64.84,73.2,70.02,69.08,26.83,72.17,36.64,66.25,49.89,73.56,68.04,67.76,70.24,66.73,81.53,74.68,68.52,77.7,28.7,49.63,87.96,47.66,59.15,67.31,63.05,84.94,78.47,54.13,55.1,48.72,56.89,80.74,71.91,64.21,69.56,23.64,81.39,74.21,81.61,78.68,82.97,36.75,36.45,63.93,86.96,43.43,70.8,84.57,50.75,56.32,74.26,37.24,87.02,70.28,66.07,60.09,50.56,41.85,58.4,65.04,85.19,65.29,47.8,42.44,67.97,61.09,69.39,51.72,76.34,82.93,22.5,61.25,39.75,68.53,34.32,72.62,85.49,26.62,54.03,26.6,73.64,56.73,44.2,78.31,30.51,72.66,54.83,34.99,70.66,74.29,89.78,46.2,18.36,87.12,61.1,72.2,69.44,88.44,43.15,83.79,53.1,31.34,54.69,85.32,48.92,60.58,63.36,83.58,37.13,28.73,61.9,17.95,30.3,57.94,80.62,46.4,36.25,67.97,56.22,85.02,82.28,48.45,54.4,57.29,36.64,41.3,56.54,82.0,81.84,66.3,69.01,36.73,41.26,93.95,59.15,85.32,84.66,37.64,78.35,55.78,88.45,50.55,61.24,47.26,38.65,67.32,44.64,27.49,61.29,55.7,81.53,30.24,86.03,64.76,40.65,92.44,83.49,37.28,45.62,81.64,65.3,53.56,91.44,21.13,74.2,64.83,52.52,69.16,71.25,41.43,68.32,54.08,83.64,49.63,37.78,36.9,63.75,49.86,68.28,44.69,68.79,46.68,46.52,63.45,80.37,77.27,49.86,36.44,34.61,52.16,44.04,41.13,68.74,79.97,47.59,80.84,41.26,35.68,49.36,68.27,42.57,71.54,78.26,25.64,50.26,75.69,40.05,69.1,60.94,43.43,60.06,68.65,51.5,86.46,29.16,24.05,89.33,47.34,54.41,86.61,62.76,67.81,64.5,65.4,56.55,36.09,62.66,62.68,88.83,70.15,54.2,73.88,54.72,70.19,59.11,78.69,24.76,44.69,54.63,74.04,61.3,49.84,35.21,89.09,76.0,61.87,68.4,74.68,68.59,78.22,72.98,57.46,37.07,32.46,94.61,65.15,84.83,49.4,89.33,59.62,75.57,45.69,54.54,49.97,54.26,51.08,52.06,42.09,19.66,43.29,70.28,80.34,82.27,65.21,76.67,72.83,46.97,78.09,79.66,70.72,70.49,32.32,69.17,64.69,72.2,82.64,42.47,68.55,67.11,89.57,52.77,41.47,49.0,54.09,73.38,31.05,45.0,28.11,65.14,44.03,82.51,39.62,69.57,79.75,87.01,74.69,78.58,77.67,77.41,81.04,46.57,63.39,45.0,43.85,43.85,65.86,89.16,72.55,72.42,64.22,65.99,62.19,74.25,48.91,82.46,83.49,82.93,38.16,19.63,97.18,33.35,44.64,37.3,49.33,23.92,68.98,82.08,27.85,76.01,57.56,53.47,32.41,32.87,75.33,54.4,34.61,68.5,43.6,72.55,75.14,55.06,56.53,64.46,67.76,38.4,24.29,43.83,82.39,48.29,46.33,43.67,40.14,71.36,82.0,48.86,76.54,57.79,65.19,55.06,84.4,55.21,61.09,72.22,32.65,68.85,79.86,42.65,59.85,70.39,75.59,58.0,75.52,43.39,43.01,74.2,27.11,64.21,22.99,88.05,68.01,20.66,45.52,56.43,61.39,54.34,33.02,50.22,35.26,56.38,39.75,50.07,65.64,70.48,22.43,74.04,68.88,41.41,59.3,71.05,52.77,38.25,65.43,87.43,52.55,74.57,56.81,65.66,36.5,83.31,57.16,37.43,76.73,91.56,72.62,41.43,84.71,64.45,56.28,26.21,82.45,78.78,65.46,64.47,67.08,68.59,76.54,50.39,28.66,50.23,46.15,90.11,72.34,43.39,80.11,67.14,94.61,57.69,59.25,88.83,42.76,74.6,19.05,80.38,57.23,37.25,51.42,33.52,72.89,89.12,90.3,5.54,40.43,92.81,63.31,65.54,54.26,45.69,28.14,65.01,62.11,54.83,72.22,21.07,68.28,34.8,50.15,64.94,67.89,70.9,70.15,78.49,21.64,61.88,61.7,80.94,34.78,68.18,65.6,33.16,85.03,87.96,87.55,72.17,77.02,51.52,23.11,33.91,79.23,62.41,83.63,88.07,35.25,71.85,73.66,78.04,51.33,54.29,74.44,31.34,68.85,38.29,75.27,67.33,72.17,87.5,82.7,82.99,75.91,56.73,72.17,54.95,50.43,68.44,50.14,53.44,43.57,37.75,81.95,89.16,39.91,53.68,71.36,73.01,72.26,43.92,47.13,39.98,81.53,36.44,66.56,59.16,47.88,53.56,74.72,87.02,16.94,51.52,59.68,89.16,78.85,30.83,17.0,76.0,43.6,76.54,81.78,43.47,27.01,64.3,82.68,76.03,33.33,75.32,71.33,50.07,61.46,59.45,79.47,72.22,59.67,76.35,78.91,41.2,50.81,64.97,76.67,64.28,69.16,27.32,54.63,55.61,69.36,58.71,59.85,64.11,59.08,31.53,74.6,65.79,67.87,47.55,50.24,63.89,76.11,77.53,39.42,76.34,46.35,63.81,51.34,72.71,38.99,82.97,69.1,43.51,70.2,54.13,57.06,79.22,73.14,65.47,71.89,88.16,36.45,83.74,29.16,34.32,42.39,85.53,69.52,70.38,77.49,81.67,59.61,83.63,41.3,47.12,92.89,74.37,51.08,35.06,72.89,66.38,56.89,53.57,74.75,61.64,70.12,60.26,41.85,57.84,77.94,57.69,86.06,92.32,85.43,70.55,82.47,69.45,84.01,68.11,56.02,62.59,60.68,58.99,76.08,81.53,76.73,64.21,36.33,85.61,71.01,63.69,84.45,68.28,81.38,26.64,37.13,50.99,74.24,55.83,73.14,45.35,78.68,37.95,69.52,30.23,85.52,36.13,85.38,38.37,34.32,61.39,82.11,67.7,64.22,38.07,61.24,36.25,70.37,73.63,50.06,82.95,69.07,47.34,49.86,62.27,55.19,55.03,32.61,39.38,68.72,64.52,36.33,82.68,46.98,45.32,71.09,85.66,36.25,21.6,76.17,44.8,53.4,54.28,59.8,69.06,78.04,76.22,63.79,54.41,56.97,67.16,76.14,71.81,85.53,53.1,25.43,64.47,50.58,65.47,54.83,51.72,55.83,53.15,91.05,88.58,47.51,33.6,70.92,68.68,66.76,51.7,22.12,46.38,71.36,38.64,82.68,61.71,63.63,55.33,54.52,42.09,77.44,70.9,16.94,73.21,51.81,67.61,39.28,54.69,33.94,31.19,65.97,54.26,32.81,69.82,80.62,48.61,34.83,67.47,73.17,46.1,56.65,68.9,82.14,83.26,87.75,56.12,76.08,75.93,55.99,81.5,58.66,84.66,54.12,49.84,65.49,27.26,84.0,58.8,64.8,67.51,68.72,39.83,68.58,94.61,69.76,83.68,97.18,19.83,45.97,23.41,55.76,52.91,72.83,69.78,54.47,63.74,72.52,53.69,66.0,84.73,42.96,68.3,48.87,75.71,81.69,67.05,46.28,41.97,82.97,56.75,36.0,77.93,90.11,68.97,53.33,73.64,72.04,28.16,74.85,46.98,77.91,46.35,77.79,44.96,12.39,60.07,31.75,54.26,69.03,64.97,43.07,76.42,68.49,80.06,67.39,40.3,68.36,66.97,47.65,76.71,87.67,80.37,66.97,71.74,81.02,40.31,75.17,31.43,55.83,60.46,79.49,66.97,45.97,62.96,75.55,48.58,68.64,58.85,75.0,74.49,70.07,31.58,81.46,85.43,18.75,66.01,67.75,47.93,69.97,37.13,65.36,77.27,55.06,82.95,84.73,59.52,25.17,46.4,79.05,91.74,89.1,82.45,85.79,54.72,69.12,78.89,35.36,46.9,21.52,45.95,66.93,60.51,45.5,84.5,34.6,36.54,67.79,46.38,64.28,79.24,70.58,71.99,44.5,48.56,27.73,76.97,59.69,94.22,92.95,69.57,80.94,88.05,79.47,54.54,77.02,70.75,33.34,61.5,71.39,64.8,74.57,89.16,81.64,76.01,82.96,45.03,74.15,66.74,57.07,34.43,70.41,64.05,72.79,67.79,78.47,68.44,81.57,59.69,69.66,68.4,58.21,53.68,36.45,84.94,82.1,46.2,70.65,77.3,59.42,46.14,63.79,62.03,83.68,62.54,19.64,44.32,83.03,78.89,45.14,51.41,93.19,21.64,69.86,74.2,51.18,51.81,77.72,59.85,54.18,89.58,37.95,86.96,43.26,77.0,83.86,49.27,57.71,30.35,55.72,50.93,63.13,83.01,33.02,54.18,85.15,52.74,30.64,37.21,78.82,32.46,83.26,48.71,85.61,63.03,38.16,31.82,87.64,56.94,71.79,72.36,51.12,72.67,69.16,26.51,54.69,70.03,74.61,66.74,78.26,49.89,70.3,83.04,51.72,77.75,40.34,47.2,79.69,74.69,79.45,70.09,76.0,42.62,13.29,48.1,80.94,52.3,72.12,89.16,59.8,69.21,82.68,30.64,85.83,82.69,47.1,57.79,70.44,76.97,64.53,41.18,32.93,64.78,64.64,67.88,78.09,26.15,76.67,13.64,37.51,78.97,67.64,74.92,71.34,72.81,87.52,58.56,26.39,43.82,57.84,35.86,71.04,56.32,58.31,54.83,64.87,67.48,65.81,58.81,28.17,44.62,35.73,32.24,66.42,51.7,33.59,60.23,85.61,83.94,51.61,50.19,70.87,81.78,83.07,63.81,59.85,31.44,66.74,83.43,89.8,89.34,83.81,69.32,71.28,70.99,62.62,65.17,73.76,35.47,72.42,86.09,44.42,71.79,69.65,64.33,59.08,52.77,59.52,62.96,59.3,88.0,48.76,47.83,70.9,66.11,58.31,78.47,80.94,64.52,40.5,57.94,65.0,79.3,83.58,81.31,72.17,67.47,51.18,53.71,82.15,23.76,95.28,53.57,42.85,62.08,58.19,78.91,74.37,74.74,88.93,24.83,28.22,59.74,14.48,57.25,82.66,50.43,73.08,62.96,23.78,72.74,49.68,58.82,72.4,66.22,26.49,47.88,67.87,39.94,71.42,39.97,48.88,68.27,65.95,43.47,20.12,76.97,59.3,48.76,46.68,63.75,62.21,47.07,74.69,63.34,65.04,76.95,56.36,55.0,21.33,54.26,47.96,48.43,69.92,68.61,21.6,73.07,68.74,61.71,46.85,81.39,50.52,52.5,55.23,63.45,32.46,44.64,85.22,36.71,73.29,68.59,91.56,49.11,64.05,24.16,62.01,77.53,64.01,56.65,49.96,68.1,75.65,59.87,76.36,44.99,57.79,49.66,53.79,73.52,52.19,70.84,31.39,58.86,57.78,82.51,68.43,57.45,59.21,40.93,84.62,54.47,63.79,66.74,63.75,87.14,42.3,89.57,35.52,57.1,38.77,60.24,59.85,72.9,26.09,94.22,62.96,53.95,69.21,63.97,52.82,62.35,51.78,36.64,50.22,89.92,35.4,60.7,91.17,76.97,47.93,41.43,63.49,89.15,28.13,58.71,64.8,65.04,86.42,80.42,28.89,67.23,59.77,30.75,69.11,71.1,61.76,81.41,63.41,47.41,51.13,39.05,64.6,74.57,49.86,66.42,54.4,55.21,54.41,69.23,40.81,78.14,92.89,14.02,58.2,61.74,58.54,61.24,63.31,28.14,68.52,76.34,42.75,75.88,26.9,86.97,82.99,75.31,76.55,87.7,74.86,86.18,75.31,67.28,64.84,68.13,52.06,67.17,83.59,45.26,60.24,69.44,83.11,48.72,79.02,82.59,56.33,50.22,53.03,80.71,58.06,51.42,51.65,59.87,50.64,77.3,93.34,59.58,65.16,52.34,52.22,66.13,42.52,69.14,74.92,70.2,57.07,43.29,70.42,77.27,82.06,84.71,70.69,68.55,61.9,30.13,26.8,76.97,56.43,59.33,78.93,64.88,88.05,50.24,32.49,11.17,75.55,39.06,36.33,28.16,15.58,74.24,70.93,41.11,45.61,68.66,46.7,85.73,82.27,73.25,86.15,62.21,42.17,77.66,71.2,74.92,82.46,87.27,70.31,39.32,58.68,75.32,77.82,36.22,58.18,45.63,47.8,72.53,77.08,80.42,65.19,69.01,77.84,20.74,57.93,40.34,59.58,76.97,74.69,71.85,76.67,69.84,72.89,68.11,88.1,49.04,29.16,41.31,72.71,60.06,60.67,84.25,55.0,28.82,46.28,67.21,21.02,45.03,54.32,59.39,32.87,72.12,51.18,42.49,82.82,66.55,81.95,50.75,90.37,81.25,73.34,67.84,60.69,71.57,43.93,56.48,60.21,39.16,69.56,76.71,42.57,63.93,83.8,50.81,54.29,61.48,35.75,50.39,85.61,28.5,45.29,71.01,74.69,45.03,58.04,59.52,90.22,33.73,29.59,67.14,75.71,56.85,69.7,41.13,71.27,32.99,46.99,34.68,39.89,69.03,75.22,89.42,44.98,76.03,26.41,62.17,54.42,57.8,55.21,73.84,57.84,87.0,63.19,85.72,53.41,76.87,68.53,54.12,70.86,78.47,21.07,44.04,77.17,51.86,44.04,32.65,74.37,64.74,68.64,59.85,71.57,84.45,66.32,45.64,46.15,70.79,54.09,32.99,62.74,38.65,21.64,68.11,73.56,75.36,21.13,51.26,69.79,57.58,46.15],\"xaxis\":\"x\",\"y\":[4886.75,220.11,6376.2,17646.3,27347.54,1310.9,388.55,19536.98,4172.6,759.37,88.0,24.98,12681.18,14450.6,8030.67,15.21,2553.46,55402.42,59851.42,20390.97,1789.55,37118.52,28207.34,183.89,28398.82,2943.25,2015.0,3420.57,441.48,38371.76,25244.53,18824.04,91402.2,2230.2,3028.73,9807.43,13133.43,11937.04,29774.89,650.0,24701.65,90038.81,1935.34,14109.75,12132.42,12401.4,1991.53,30448.03,50298.2,39749.91,1898.69,3970.9,20030.78,29087.95,3643.0,3447.76,15516.81,7031.5,4841.53,19834.57,24200.25,3171.08,20.97,4117.7,145.02,200.49,9547.31,4139.53,439.87,4593.96,1393.49,30.88,14065.53,31107.77,9802.4,17.32,30.0,10137.67,33703.37,793.42,3383.95,15007.91,209.38,664.9,1897.58,35379.41,18899.93,75579.35,8151.09,9621.13,9434.91,3623.1,756.62,43797.53,22159.77,1856.02,420.31,41039.48,17777.92,626.66,15175.68,21838.16,15481.09,40737.39,52829.73,56281.38,5039.0,4114.13,37264.44,3482.88,20422.93,19237.12,51660.38,2897.3,107769.71,91.44,1073.6,9100.4,4671.14,11615.26,89417.01,72688.81,8140.66,1364.99,22356.08,3248.61,25364.16,21.69,52.99,30513.55,10766.86,2478.81,610.88,1868.53,19609.23,7789.68,20795.03,716.28,28343.84,12442.75,9956.9,1195.96,35811.33,5051.3,11543.27,27271.29,8.88,7.0,28812.63,36233.09,13049.73,2961.47,563.2,3238.27,0.06,10549.56,34397.47,814.0,-1.98,12536.68,21197.14,1371.06,17952.59,121430.8,18551.52,33972.05,235.77,16782.58,373.64,158.39,27822.63,79825.88,5586.5,1369.0,5431.0,33.0,448.49,2386.49,25368.18,6801.24,5382.49,17500.03,7444.12,35416.32,7024.82,38.92,21030.91,34134.53,12346.0,3117.56,16577.77,16909.8,15318.71,12679.41,58913.31,1793.35,6752.87,14059.81,24.0,7041.63,6533.54,25201.55,6255.13,26601.22,4630.4,22516.68,1139.0,33234.62,3949.92,128.59,76624.1,9082.5,7872.32,9958.57,11920.65,24257.29,53.0,2594.04,4401.65,18881.78,55977.5,12160.61,6010.45,49880.69,1665.71,37115.54,1757.59,52759.41,2503.83,54245.77,3225.35,2224.46,22196.67,86.01,26209.27,29549.86,3509.97,6880.32,5234.36,5225.13,15.0,6267.34,10385.59,4117.64,733.86,32.67,7912.25,57846.27,4893.84,12527.74,16405.57,33.64,8706.18,1155.92,40290.61,6849.97,25701.16,10242.64,824.16,1297.06,98.8,20760.92,4470.01,11229.45,13281.28,9815.15,11170.06,7466.17,4054.06,5.25,66867.96,8612.86,53.82,12110.24,40591.55,554.4,636.85,20097.83,3109.08,6870.49,22042.55,279.59,99810.93,6582.19,17076.17,29770.26,55404.4,388.07,5037.5,6465.48,2406.6,20557.76,30235.6,5908.95,4494.15,281.26,24626.67,952.0,85577.52,34600.53,10217.95,8116.62,8276.28,2395.0,12881.55,100.94,1468.0,109.63,6492.63,24906.73,3281.67,25516.63,1555.26,2402.41,8945.01,18061.96,428.85,21920.88,10000.25,7881.52,34483.65,1641.0,30.92,4928.01,4972.97,31466.66,2768.54,3985.67,31922.57,2569.5,24158.22,4236.2,16461.65,18123.82,12089.09,2588.9,20675.41,2961.3,13680.78,39091.5,5816.56,2701.77,10656.47,33594.55,39483.8,6559.98,22818.0,5034.39,37050.94,1174.5,923.74,13567.33,41997.57,80108.78,7939.23,4473.44,30451.04,26404.74,58817.2,54797.02,13521.27,22271.51,27523.9,11223.11,7.38,-25.0,65776.86,8812.32,257.48,98.09,33324.72,19235.49,34790.46,17152.59,32316.61,2865.0,3414.44,25998.08,10394.65,29643.78,3449.8,2709.0,98900.7,4.88,29330.37,2220.13,34221.38,88922.64,12348.69,58447.21,61.5,15574.1,7.48,15.0,37211.67,40054.13,12.0,10272.79,584.62,3781.22,898.59,9504.75,28.92,14030.53,23097.79,52266.94,28249.24,49018.65,32777.62,11038.37,211.2,1946.0,9408.2,991.36,25946.62,2830.37,13618.59,95435.7,34953.85,907.79,742.48,6531.27,3465.77,10314.06,2160.48,1401.75,397.54,24818.11,2845.0,22165.99,11111.58,8519.6,5443.45,11853.32,37677.82,188.24,5103.45,42024.14,715.85,48.92,1149.09,5437.4,54772.25,8272.9,673.58,2026.83,27166.66,41333.49,10192.59,5176.59,15123.56,5378.99,431.2,0.84,12654.81,22855.04,6726.48,3096.39,1.25,32180.4,26323.13,39899.9,31678.54,26665.11,38510.64,20415.04,37740.15,41.52,14278.83,58507.0,3259.16,11590.52,2.0,8.06,84147.38,4923.25,18530.77,43025.4,3775.65,119812.38,15691.96,29621.67,126.76,15614.46,4252.69,1920.0,2614.44,13995.25,32425.1,11711.62,2486.0,37.99,163.09,5391.04,6476.62,5093.3,18889.5,7288.59,16263.81,20202.27,306.0,31269.11,3434.0,561.0,2580.86,36.36,612.6,10347.25,1340.84,5754.47,7879.89,55540.04,5347.33,100319.64,9769.67,70.0,13148.57,2538.68,345.0,16615.95,16727.29,16035.28,816.34,26779.79,183.24,316.8,53841.27,24308.73,822.12,11558.95,26581.81,2935.87,13963.17,0.1,24265.31,8249.56,429.5,3840.19,4451.89,7288.1,20506.88,18158.65,5047.77,14279.7,20210.92,21701.05,36850.09,56849.82,13431.29,7936.74,360.0,31302.01,8767.9,18175.92,70.4,20875.26,3628.27,368.15,7575.15,1472.92,13804.76,64971.88,4900.62,6771.47,17441.17,95.5,7604.55,24413.13,19390.19,4543.22,4655.26,1450.0,868.1,15832.57,42199.07,39.0,28.96,18259.82,1688.05,4580.13,8545.4,7296.39,25.0,23448.36,5796.9,2261.49,4915.0,859.26,1224.69,50634.92,32358.83,2700.0,13894.56,2214.13,593.02,46806.79,1003.84,9909.71,16339.17,207.0,9502.52,1724.94,1508.62,33168.59,1760.0,3220.87,1028.5,16215.17,269.47,662.77,1108.8,12.38,785.37,8347.89,86624.04,38489.88,28981.62,2025.39,1507.2,9223.74,7949.34,36603.97,16195.14,3711.75,16061.51,24827.14,99.07,2379.76,4384.14,4102.96,14182.73,18717.38,6617.08,5969.94,13159.31,7780.5,30.0,12400.25,109.29,6967.12,27857.02,3989.53,8340.32,9411.83,174602.62,51287.25,10833.24,22756.09,-15.0,11356.6,35909.3,18726.87,10010.56,123.2,90191.57,32289.2,23913.97,44.55,26719.32,54231.62,45668.05,70.59,19970.95,28359.98,12733.82,7391.83,495.16,1859.25,10.47,4716.6,2144.75,13314.18,10866.03,9311.19,56740.03,2246.54,10409.94,353.08,32032.4,23898.91,11562.79,8245.57,13568.17,33497.94,1417.54,14120.99,14315.42,38969.07,16196.4,189.0,42647.04,16850.72,2890.32,997.5,12418.18,15180.97,7298.13,5987.53,6012.67,10019.04,51.92,3190.2,164521.35,4102.75,22771.34,5425.95,89400.29,28812.64,2333.0,17982.62,10630.8,8428.08,2246.13,23483.47,383.36,837.46,24099.25,41326.83,3470.63,610.0,24973.16,598.0,928.24,5575.02,1616.3,42127.81,7316.44,2313.25,41757.25,12081.4,2683.97,979.68,3380.39,32975.1,403.45,428.83,3955.55,77331.7,601.0,76475.61,504.75,1304.44,12795.23,18090.35,12840.44,37932.82,61322.66,3194.97,54.0,10105.15,500.0,5153.29,9435.85,33957.4,7207.0,45526.25,870.54,3633.02,18813.85,4691.69,1139.61,20521.33,42126.1,1518.84,56220.32,11851.11,2004.66,8163.33,10018.43,15261.35,34520.78,45999.76,10730.03,1619.53,39.29,22186.81,25357.72,5201.2,1074.94,81009.04,13071.07,9026.54,20.94,11010.58,4932.36,610.17,6113.17,36655.67,21376.16,42685.1,16443.92,6341.93,37057.54,6060.68,20576.0,18419.56,8.41,5.31,10551.0,281.6,75639.73,7380.31,31463.62,7920.41,93.82,8838.61,18293.0,10398.05,1973.0,9009.69,513.74,24035.57,30920.08,603.0,12852.52,20432.19,8378.17,11749.83,115.83,3740.08,4424.78,38.74,36229.08,204.97,9756.02,3756.06,52261.89,804.0,11169.0,21566.78,953.76,41.94,12624.13,9732.21,48313.78,849.44,2210.0,9489.36,149.1,29278.81,28042.79,1854.0,5144.29,302.93,880.03,51521.14,16966.94,2572.76,22636.09,2637.69,0.0,9535.86,7409.82,11562.86,123952.48,6840.5,3271.17,5056.33,39998.8,1431.0,29756.75,9233.16,570.58,32000.33,30.0,3142.65,61.6,16029.26,4694.25,7396.23,326.48,21720.61,5853.68,18970.32,31338.38,14876.57,9455.25,8791.29,1719.46,102.1,2590.0,7647.85,11978.93,4297.09,1944.75,454.12,165.55,7746.38,16840.69,13226.28,761.51,14242.12,728.6,3026.87,403.0,8881.85,6437.48,11652.19,42046.84,81288.77,4.0,3831.89,36531.71,1072.41,7664.72,74858.22,25100.08,1900.25,21313.8,29712.01,36918.46,30334.1,5842.76,8937.5,2256.67,5088.13,5626.7,414.0,5810.31,3418.0,863.0,29.32,3273.04,24139.7,93212.89,1438.75,20335.34,9523.44,16473.5,719.63,3227.0,4805.22,21301.75,5.0,159013.06,69.76,15228.1,224.5,51386.97,3150.67,37353.89,7091.93,1506.0,2149.15,777.62,3304.69,47122.16,7967.33,9900.59,35624.5,280.44,14669.49,33215.28,45237.93,2654.0,15548.65,86844.06,10670.44,3615.83,878.92,6.47,19892.12,78926.53,2942.0,21266.41,3395.99,36338.5,11820.18,36842.02,9173.77,4585.34,7.0,3152.77,17389.5,22416.18,5887.41,20528.86,14066.64,103.26,7610.62,5031.66,29302.46,24139.86,5309.96,68727.55,7964.75,10545.97,7073.8,31316.39,5367.94,2010.77,1832.25,3557.08,12702.12,9733.41,79.2,32537.19,49010.69,58822.75,5817.98,12308.04,13609.5,65990.45,781.99,269.76,16635.57,34604.29,17321.17,9383.89,7266.32,40068.78,9.96,15531.18,50937.53,19860.94,59438.97,32643.55,10464.26,10841.31,5886.68,54.82,2385.15,7754.02,782.09,30310.38,11798.25,4334.96,44812.63,10448.83,12896.7,1624.53,4487.23,45231.57,10948.72,2247.23,40.51,4673.2,29294.29,11426.62,7282.49,195.01,1688.38,4941.92,1134.87,9863.33,45.0,7121.09,12975.43,41963.95,13292.94,5342.62,4766.13,6848.71,20045.12,16106.18,2628.01,41038.1,5138.56,2724.89,12477.92,6439.1,7205.86,4347.25,2160.2,3250.02,17431.5,12850.4,6611.57,6865.46,10731.06,23487.25,58625.28,686.28,13530.48,4296.28,15.0,3607.56,1405.94,3857.54,1879.74,27154.0,45571.29,3662.28,15130.36,990.76,1726.98,36681.61,360.42,21327.6,13274.5,28657.3,84.29,7479.04,5284.54,18770.9,846.36,20097.67,51214.2,9741.57,5251.21,2095.61,88.12,6086.08,715.3,31293.0,53860.89,3007.8,3810.17,7021.69,6471.43,2374.09,15927.43,27242.19,8068.39,13630.92,28492.34,61617.13,9285.31,395.5,970.0,8280.45,2853.52,4871.44,23679.09,15245.82,18253.09,4163.09,18618.17,11244.78,145.99,21976.32,3312.5,58892.4,1553.74,4395.71,15060.97,4601.16,47418.63,17030.19,3085.17,26852.33,2535.5,36879.27,3918.06,3718.66,57973.66,7690.11,2631.0,6549.96,10484.31,515.0,2181.0,4523.31,29709.53,9251.75,25690.35,3168.93,24146.0,25477.09,25164.96,17256.44,1956.93,1457.38,116595.81,19641.27,29292.0,23240.95,14188.22,1803.0,2782.11,1015.39,549.0,2470.59,4815.26,66673.86,898.03,5041.92,2492.34,1803.47,8294.86,15024.78,6461.75,41397.65,16580.52,23.45,1613.24,616.0,3615.24,11690.67,8658.51,10955.91,48118.22,18007.63,68992.94,14860.12,15837.26,12.47,9355.86,5167.52,1.0,2280.5,5816.96,3083.0,12466.92,11710.52,13450.1,31692.23,2319.5,16956.13,21267.65,1492.0,3198.1,15654.97,976.13,13938.23,58247.9,62797.03,19971.94,6899.23,36610.05,13363.22,583.82,13952.24,3042.42,102202.04,9687.44,3456.41,1810.83,79.6,20124.91,110.0,29790.99,2484.6,330.53,43782.87,12998.09,10270.85,19.74,11417.12,9590.05,4708.96,24665.92,218.76,14108.86,30.0,14831.44,49303.28,600.72,49816.02,1379.32,16853.98,73656.43,5763.02,9484.64,10656.43,5420.61,15284.24,29274.06,26767.88,4138.44,9433.38,1402.81,3.88,79396.39,3344.44,12806.01,20412.94,11101.56,31803.81,79112.81,108308.87,15896.39,4817.29,26701.9,185.12,2888.6,15134.68,78201.98,3643.6,16570.54,6509.06,34284.76,215.0,13302.77,211.24,18453.74,9256.31,9668.07,0.04,2928.4,17323.03,594.0,19043.51,46021.91,12033.99,3902.73,21455.41,14262.84,4729.81,4814.87,11433.13,25484.87,2109.38,28.08,3870.66,53709.3,12781.32,59435.11,1391.0,262.88,973.92,3738.22,0.08,139.75,13043.85,3441.06,60371.65,1026.42,34964.07,4644.0,24176.58,6136.92,5258.72,62272.84,2330.44,31846.36,5790.39,8074.68,21940.69,21789.67,20356.73,76764.36,21.76,50605.96,1660.12,100.64,78056.9,14901.78,22843.74,1021.87,8489.46,69557.29,14020.69,5052.41,373.55,1564.28,71.84,5797.75,123060.12,47913.44,12596.48,18409.27,15452.79,8032.44,1444.0,58359.91,4462.22,5722.08,7360.64,16360.56,537.0,11908.88,1487.74,19000.28,177412.42,2685.55,15216.63,11.97,-28.92,83.34,34413.61,5931.36,50509.02,1692.5,28407.48,723.0,6888.96,25082.47,12566.6,16828.23,1412.42,211.0,85418.24,15325.49,2319.47,10678.0,37737.03,39.36,1847.82,3462.05,11435.68,19773.27,21215.87,22345.37,19838.05,3716.87,4036.65,339.54,11673.92,4705.0,49709.67,7778.79,9313.9,2336.44,1607.57,4410.0,1921.23,11303.19,17003.47,54309.43,97234.31,0.78,5194.39,251.9,9706.07,347.0,14.85,2.0,5913.97,2579.91,31139.57,29435.23,3372.74,734.38,132.42,3148.41,27247.87,9043.17,2295.69,14238.15,10795.37,296.11,6156.76,9167.47,9404.07,7021.86,1521.33,16427.09,10438.93,2766.74,56.0,2141.28,89.68,4820.57,2014.8,1277.63,23402.06,73462.87,4037.17,4593.52,8986.75,39.0,1918.78,25921.48,9835.54,32710.67,-78.0,3360.94,17294.65,5963.49,2549.92,10673.03,5299.91,75.6,57228.0,598.97,911.69,4.5,5685.58,8863.54,15637.78,608.67,4194.35,7334.59,28081.99,6786.97,1412.86,1.0,25508.18,2742.0,52487.53,8064.03,4898.18,63.34,7542.13,11366.39,8149.92,11317.6,5634.15,78339.7,45225.9,522.94,423.0,10181.42,4310.61,7519.5,33676.78,1930.0,29014.67,39304.93,3503.04,28981.9,840.76,15979.63,335.0,16148.87,2813.11,8580.14,14055.09,4668.59,11002.22,14516.22,1346.38,16036.65,5224.62,8025.02,20903.97,10518.07,12990.14,5856.06,2373.45,1423.0,97.42,6567.91,186.1,324.81,36.24,930.33,673.55,13546.91,4025.0,817.05,13846.14,10946.62,6684.75,22145.56,1303.0,3244.82,12527.67,37510.79,17846.63,3677.48,13850.0,5094.43,4888.1,1652.22,30104.17,5.2,14831.02,118.0,664.76,5237.08,54.24,5934.76,11080.91,41239.14,10990.63,673.06,618.86,67527.31,11250.5,9815.0,6791.2,15200.08,33699.53,508.83,10587.12,2354.5,467.19,1796.46,147611.61,10412.02,22498.06,87.75,4296.49,3391.45,4944.9,577.55,30.54,6991.72,1412.43,33380.84,8294.18,56556.76,785.96,9639.51,8939.04,15.88,22984.55,36673.43,9619.81,22291.23,18201.0,6861.98,26010.1,7832.72,43.92,3425.01,739.96,1743.12,2029.36,17126.08,15445.16,386.64,3068.02,4782.19,36611.98,30.41,5573.33,497.34,18550.85,2083.53,4483.4,11784.56,8249.6,12635.04,2927.0,53286.98,62493.21,3477.38,21.0,76644.73,5043.94,11915.38,6359.08,9232.63,36925.38,8742.86,22782.51,12807.36,3332.94,10875.5,634.55,50048.67,9305.66,5863.39,13353.19,18869.87,46062.77,576.23,73791.89,65.88,24780.87,22508.0,1935.0,4663.87,22275.95,3166.25,18038.98,31430.7,8207.84,11254.61,3739.57,4298.54,25764.32,10708.62,48661.62,5150.2,-0.97,11187.37,22772.79,43547.32,36389.16,1077.04,20.17,9229.28,5480.11,28289.5,48922.28,28311.76,8107.07,5875.22,25258.13,837.31,17924.76,9512.84,1191.86,14190.41,3850.84,43704.89,31588.72,0.5,9229.19,794.17,19533.36,10973.32,6774.45,3485.0,13045.65,4050.64,737.62,8200.77,194.93,5064.21,14025.45,135.92,17011.28,2492.0,2267.98,10923.41,27884.64,4510.61,11171.55,1489.0,12154.07,4859.75,2340.45,82015.99,316.1,4419.47,62004.88,15030.2,61652.85,1002.96,13374.34,53626.98,717.0,16878.31,5336.37,52483.27,15544.5,18809.22,57380.32,29326.98,17677.44,589.38,9559.02,25352.14,671.43,10862.27,44207.38,245.83,3281.74,8068.61,7.47,11315.95,47761.89,14147.51,483.76,19125.48,11150.33,10769.17,3328.23,4802.83,745.45,6828.58,11815.71,18610.35,16909.92,684.52,18718.93,7992.26,14273.03,1352.91,15422.86,456.5,43126.41,6757.98,365.0,456.24,37099.55,17639.8,2493.17,36506.15,157.74,14904.55,62002.2,2106.83,4163.01,34014.08,2132.22,15499.06,9592.73,21.83,88.0,15638.4,358.74,252.0,11418.5,8083.59,4286.86,2993.99,2463.44,20647.84,1568.83,14151.79,29149.31,5182.62,15742.08,29984.59,19972.91,5726.86,8876.46,7342.18,10.0,2.54,44758.17,4617.43,4243.52,83921.62,3961.14,1193.58,12309.5,1805.08,616.25,16253.38,476.58,9035.35,28902.37,12255.52,14965.04,7721.96,31016.51,17276.06,4024.22,5014.44,32208.7,2067.1,12146.57,38268.26,87.76,10444.17,14.72,19991.97,832.22,7182.01,3117.82,18687.0,87.76,1185.0,22532.0,12915.33,8787.85,11411.88,28364.72,34013.39,54198.78,107.13,29839.85,2174.38,1910.73,32661.67,16329.45,16621.41,17520.44,897.4,5076.12,51235.64,68.0,11560.23,1068.84,321.5,6098.8,28.92,16286.4,167.2,182.44,53367.81,31990.41,8845.0,17852.28,111244.75,2224.86,12857.64,2930.0,5136.97,56990.56,19070.8,29687.38,19062.39,467.97,1086.63,6249.58,3737.95,991.76,37449.69,4668.07,2709.82,49734.34,35742.14,22940.17,1294.16,1483.79,46.92,11755.53,674.28,31225.89,12739.83,8074.54,6184.0,6481.83,586.48,21838.82,36694.57,3818.77,7625.92,795.94,20312.01,1009.39,60.75,4448.25,4934.81,13911.17,14164.11,3413.82,112630.91,5910.32,54078.77,28169.45,8858.79,2107.25,20452.31,6275.0,1615.49,17237.26,30613.91,500.16,6696.09,1625.79,19914.76,27653.92,22448.32,10195.94,110254.06,3448.0,3250.66,16908.61,2025.06,42122.14,25.73,34736.81,11828.16,387.2,13394.01,57.59,20312.55,49123.91,5944.21,28304.92,1386.0,10.12,15139.38,372.4,9031.46,1148.2,2767.75,15193.5,2597.23,43097.57,1240.07,533.44,1581.99,314.21,11.47,30.67,19251.57,9521.34,5396.39,9727.76,74.76,27278.39,20437.85,16897.08,14090.02,4795.5,8048.33,9999.89,9949.01,123063.74,5680.0,4955.0,6213.5,55.25,260.71,981.92,739.2,27958.49,7741.88,58.72,48970.69,99400.17,170.71,26207.85,6907.06,609.42,290.4,6720.6,2849.61,256.68,81557.28,4542.95,571.54,1359.4,47865.73,30605.55,10790.91,42757.01,1221.15,6392.46,335.33],\"yaxis\":\"y\",\"type\":\"scattergl\"}],                        {\"template\":{\"data\":{\"bar\":[{\"error_x\":{\"color\":\"#2a3f5f\"},\"error_y\":{\"color\":\"#2a3f5f\"},\"marker\":{\"line\":{\"color\":\"#E5ECF6\",\"width\":0.5},\"pattern\":{\"fillmode\":\"overlay\",\"size\":10,\"solidity\":0.2}},\"type\":\"bar\"}],\"barpolar\":[{\"marker\":{\"line\":{\"color\":\"#E5ECF6\",\"width\":0.5},\"pattern\":{\"fillmode\":\"overlay\",\"size\":10,\"solidity\":0.2}},\"type\":\"barpolar\"}],\"carpet\":[{\"aaxis\":{\"endlinecolor\":\"#2a3f5f\",\"gridcolor\":\"white\",\"linecolor\":\"white\",\"minorgridcolor\":\"white\",\"startlinecolor\":\"#2a3f5f\"},\"baxis\":{\"endlinecolor\":\"#2a3f5f\",\"gridcolor\":\"white\",\"linecolor\":\"white\",\"minorgridcolor\":\"white\",\"startlinecolor\":\"#2a3f5f\"},\"type\":\"carpet\"}],\"choropleth\":[{\"colorbar\":{\"outlinewidth\":0,\"ticks\":\"\"},\"type\":\"choropleth\"}],\"contour\":[{\"colorbar\":{\"outlinewidth\":0,\"ticks\":\"\"},\"colorscale\":[[0.0,\"#0d0887\"],[0.1111111111111111,\"#46039f\"],[0.2222222222222222,\"#7201a8\"],[0.3333333333333333,\"#9c179e\"],[0.4444444444444444,\"#bd3786\"],[0.5555555555555556,\"#d8576b\"],[0.6666666666666666,\"#ed7953\"],[0.7777777777777778,\"#fb9f3a\"],[0.8888888888888888,\"#fdca26\"],[1.0,\"#f0f921\"]],\"type\":\"contour\"}],\"contourcarpet\":[{\"colorbar\":{\"outlinewidth\":0,\"ticks\":\"\"},\"type\":\"contourcarpet\"}],\"heatmap\":[{\"colorbar\":{\"outlinewidth\":0,\"ticks\":\"\"},\"colorscale\":[[0.0,\"#0d0887\"],[0.1111111111111111,\"#46039f\"],[0.2222222222222222,\"#7201a8\"],[0.3333333333333333,\"#9c179e\"],[0.4444444444444444,\"#bd3786\"],[0.5555555555555556,\"#d8576b\"],[0.6666666666666666,\"#ed7953\"],[0.7777777777777778,\"#fb9f3a\"],[0.8888888888888888,\"#fdca26\"],[1.0,\"#f0f921\"]],\"type\":\"heatmap\"}],\"heatmapgl\":[{\"colorbar\":{\"outlinewidth\":0,\"ticks\":\"\"},\"colorscale\":[[0.0,\"#0d0887\"],[0.1111111111111111,\"#46039f\"],[0.2222222222222222,\"#7201a8\"],[0.3333333333333333,\"#9c179e\"],[0.4444444444444444,\"#bd3786\"],[0.5555555555555556,\"#d8576b\"],[0.6666666666666666,\"#ed7953\"],[0.7777777777777778,\"#fb9f3a\"],[0.8888888888888888,\"#fdca26\"],[1.0,\"#f0f921\"]],\"type\":\"heatmapgl\"}],\"histogram\":[{\"marker\":{\"pattern\":{\"fillmode\":\"overlay\",\"size\":10,\"solidity\":0.2}},\"type\":\"histogram\"}],\"histogram2d\":[{\"colorbar\":{\"outlinewidth\":0,\"ticks\":\"\"},\"colorscale\":[[0.0,\"#0d0887\"],[0.1111111111111111,\"#46039f\"],[0.2222222222222222,\"#7201a8\"],[0.3333333333333333,\"#9c179e\"],[0.4444444444444444,\"#bd3786\"],[0.5555555555555556,\"#d8576b\"],[0.6666666666666666,\"#ed7953\"],[0.7777777777777778,\"#fb9f3a\"],[0.8888888888888888,\"#fdca26\"],[1.0,\"#f0f921\"]],\"type\":\"histogram2d\"}],\"histogram2dcontour\":[{\"colorbar\":{\"outlinewidth\":0,\"ticks\":\"\"},\"colorscale\":[[0.0,\"#0d0887\"],[0.1111111111111111,\"#46039f\"],[0.2222222222222222,\"#7201a8\"],[0.3333333333333333,\"#9c179e\"],[0.4444444444444444,\"#bd3786\"],[0.5555555555555556,\"#d8576b\"],[0.6666666666666666,\"#ed7953\"],[0.7777777777777778,\"#fb9f3a\"],[0.8888888888888888,\"#fdca26\"],[1.0,\"#f0f921\"]],\"type\":\"histogram2dcontour\"}],\"mesh3d\":[{\"colorbar\":{\"outlinewidth\":0,\"ticks\":\"\"},\"type\":\"mesh3d\"}],\"parcoords\":[{\"line\":{\"colorbar\":{\"outlinewidth\":0,\"ticks\":\"\"}},\"type\":\"parcoords\"}],\"pie\":[{\"automargin\":true,\"type\":\"pie\"}],\"scatter\":[{\"marker\":{\"colorbar\":{\"outlinewidth\":0,\"ticks\":\"\"}},\"type\":\"scatter\"}],\"scatter3d\":[{\"line\":{\"colorbar\":{\"outlinewidth\":0,\"ticks\":\"\"}},\"marker\":{\"colorbar\":{\"outlinewidth\":0,\"ticks\":\"\"}},\"type\":\"scatter3d\"}],\"scattercarpet\":[{\"marker\":{\"colorbar\":{\"outlinewidth\":0,\"ticks\":\"\"}},\"type\":\"scattercarpet\"}],\"scattergeo\":[{\"marker\":{\"colorbar\":{\"outlinewidth\":0,\"ticks\":\"\"}},\"type\":\"scattergeo\"}],\"scattergl\":[{\"marker\":{\"colorbar\":{\"outlinewidth\":0,\"ticks\":\"\"}},\"type\":\"scattergl\"}],\"scattermapbox\":[{\"marker\":{\"colorbar\":{\"outlinewidth\":0,\"ticks\":\"\"}},\"type\":\"scattermapbox\"}],\"scatterpolar\":[{\"marker\":{\"colorbar\":{\"outlinewidth\":0,\"ticks\":\"\"}},\"type\":\"scatterpolar\"}],\"scatterpolargl\":[{\"marker\":{\"colorbar\":{\"outlinewidth\":0,\"ticks\":\"\"}},\"type\":\"scatterpolargl\"}],\"scatterternary\":[{\"marker\":{\"colorbar\":{\"outlinewidth\":0,\"ticks\":\"\"}},\"type\":\"scatterternary\"}],\"surface\":[{\"colorbar\":{\"outlinewidth\":0,\"ticks\":\"\"},\"colorscale\":[[0.0,\"#0d0887\"],[0.1111111111111111,\"#46039f\"],[0.2222222222222222,\"#7201a8\"],[0.3333333333333333,\"#9c179e\"],[0.4444444444444444,\"#bd3786\"],[0.5555555555555556,\"#d8576b\"],[0.6666666666666666,\"#ed7953\"],[0.7777777777777778,\"#fb9f3a\"],[0.8888888888888888,\"#fdca26\"],[1.0,\"#f0f921\"]],\"type\":\"surface\"}],\"table\":[{\"cells\":{\"fill\":{\"color\":\"#EBF0F8\"},\"line\":{\"color\":\"white\"}},\"header\":{\"fill\":{\"color\":\"#C8D4E3\"},\"line\":{\"color\":\"white\"}},\"type\":\"table\"}]},\"layout\":{\"annotationdefaults\":{\"arrowcolor\":\"#2a3f5f\",\"arrowhead\":0,\"arrowwidth\":1},\"autotypenumbers\":\"strict\",\"coloraxis\":{\"colorbar\":{\"outlinewidth\":0,\"ticks\":\"\"}},\"colorscale\":{\"diverging\":[[0,\"#8e0152\"],[0.1,\"#c51b7d\"],[0.2,\"#de77ae\"],[0.3,\"#f1b6da\"],[0.4,\"#fde0ef\"],[0.5,\"#f7f7f7\"],[0.6,\"#e6f5d0\"],[0.7,\"#b8e186\"],[0.8,\"#7fbc41\"],[0.9,\"#4d9221\"],[1,\"#276419\"]],\"sequential\":[[0.0,\"#0d0887\"],[0.1111111111111111,\"#46039f\"],[0.2222222222222222,\"#7201a8\"],[0.3333333333333333,\"#9c179e\"],[0.4444444444444444,\"#bd3786\"],[0.5555555555555556,\"#d8576b\"],[0.6666666666666666,\"#ed7953\"],[0.7777777777777778,\"#fb9f3a\"],[0.8888888888888888,\"#fdca26\"],[1.0,\"#f0f921\"]],\"sequentialminus\":[[0.0,\"#0d0887\"],[0.1111111111111111,\"#46039f\"],[0.2222222222222222,\"#7201a8\"],[0.3333333333333333,\"#9c179e\"],[0.4444444444444444,\"#bd3786\"],[0.5555555555555556,\"#d8576b\"],[0.6666666666666666,\"#ed7953\"],[0.7777777777777778,\"#fb9f3a\"],[0.8888888888888888,\"#fdca26\"],[1.0,\"#f0f921\"]]},\"colorway\":[\"#636efa\",\"#EF553B\",\"#00cc96\",\"#ab63fa\",\"#FFA15A\",\"#19d3f3\",\"#FF6692\",\"#B6E880\",\"#FF97FF\",\"#FECB52\"],\"font\":{\"color\":\"#2a3f5f\"},\"geo\":{\"bgcolor\":\"white\",\"lakecolor\":\"white\",\"landcolor\":\"#E5ECF6\",\"showlakes\":true,\"showland\":true,\"subunitcolor\":\"white\"},\"hoverlabel\":{\"align\":\"left\"},\"hovermode\":\"closest\",\"mapbox\":{\"style\":\"light\"},\"paper_bgcolor\":\"white\",\"plot_bgcolor\":\"#E5ECF6\",\"polar\":{\"angularaxis\":{\"gridcolor\":\"white\",\"linecolor\":\"white\",\"ticks\":\"\"},\"bgcolor\":\"#E5ECF6\",\"radialaxis\":{\"gridcolor\":\"white\",\"linecolor\":\"white\",\"ticks\":\"\"}},\"scene\":{\"xaxis\":{\"backgroundcolor\":\"#E5ECF6\",\"gridcolor\":\"white\",\"gridwidth\":2,\"linecolor\":\"white\",\"showbackground\":true,\"ticks\":\"\",\"zerolinecolor\":\"white\"},\"yaxis\":{\"backgroundcolor\":\"#E5ECF6\",\"gridcolor\":\"white\",\"gridwidth\":2,\"linecolor\":\"white\",\"showbackground\":true,\"ticks\":\"\",\"zerolinecolor\":\"white\"},\"zaxis\":{\"backgroundcolor\":\"#E5ECF6\",\"gridcolor\":\"white\",\"gridwidth\":2,\"linecolor\":\"white\",\"showbackground\":true,\"ticks\":\"\",\"zerolinecolor\":\"white\"}},\"shapedefaults\":{\"line\":{\"color\":\"#2a3f5f\"}},\"ternary\":{\"aaxis\":{\"gridcolor\":\"white\",\"linecolor\":\"white\",\"ticks\":\"\"},\"baxis\":{\"gridcolor\":\"white\",\"linecolor\":\"white\",\"ticks\":\"\"},\"bgcolor\":\"#E5ECF6\",\"caxis\":{\"gridcolor\":\"white\",\"linecolor\":\"white\",\"ticks\":\"\"}},\"title\":{\"x\":0.05},\"xaxis\":{\"automargin\":true,\"gridcolor\":\"white\",\"linecolor\":\"white\",\"ticks\":\"\",\"title\":{\"standoff\":15},\"zerolinecolor\":\"white\",\"zerolinewidth\":2},\"yaxis\":{\"automargin\":true,\"gridcolor\":\"white\",\"linecolor\":\"white\",\"ticks\":\"\",\"title\":{\"standoff\":15},\"zerolinecolor\":\"white\",\"zerolinewidth\":2}}},\"xaxis\":{\"anchor\":\"y\",\"domain\":[0.0,1.0],\"title\":{\"text\":\"Temperature\"}},\"yaxis\":{\"anchor\":\"x\",\"domain\":[0.0,1.0],\"title\":{\"text\":\"Weekly_Sales\"}},\"legend\":{\"tracegroupgap\":0},\"margin\":{\"t\":60}},                        {\"responsive\": true}                    ).then(function(){\n",
       "                            \n",
       "var gd = document.getElementById('289234b9-0b32-4b60-bf6f-3d0507b82f6d');\n",
       "var x = new MutationObserver(function (mutations, observer) {{\n",
       "        var display = window.getComputedStyle(gd).display;\n",
       "        if (!display || display === 'none') {{\n",
       "            console.log([gd, 'removed!']);\n",
       "            Plotly.purge(gd);\n",
       "            observer.disconnect();\n",
       "        }}\n",
       "}});\n",
       "\n",
       "// Listen for the removal of the full notebook cells\n",
       "var notebookContainer = gd.closest('#notebook-container');\n",
       "if (notebookContainer) {{\n",
       "    x.observe(notebookContainer, {childList: true});\n",
       "}}\n",
       "\n",
       "// Listen for the clearing of the current output cell\n",
       "var outputEl = gd.closest('.output');\n",
       "if (outputEl) {{\n",
       "    x.observe(outputEl, {childList: true});\n",
       "}}\n",
       "\n",
       "                        })                };                            </script>        </div>\n",
       "</body>\n",
       "</html>"
      ]
     },
     "metadata": {},
     "output_type": "display_data"
    }
   ],
   "source": [
    "px.scatter(raw_df.sample(2000), x='Temperature',y='Weekly_Sales')"
   ]
  },
  {
   "cell_type": "markdown",
   "metadata": {
    "id": "TSaf6lCE5COx"
   },
   "source": [
    "Insights:\n",
    "There seems to be no relatiobship between the temperature in the region and weekly sales of the stores. At low and very high temperatures the sales seems to dip a bit but in general there doesn't exist a clear relationship"
   ]
  },
  {
   "cell_type": "markdown",
   "metadata": {
    "id": "EArCLF1q5qGt"
   },
   "source": [
    "### Fuel_Price vs Sales"
   ]
  },
  {
   "cell_type": "code",
   "execution_count": null,
   "metadata": {
    "colab": {
     "base_uri": "https://localhost:8080/",
     "height": 542
    },
    "executionInfo": {
     "elapsed": 478,
     "status": "ok",
     "timestamp": 1667758249706,
     "user": {
      "displayName": "Pankaj Thakur",
      "userId": "05146800060821315169"
     },
     "user_tz": -330
    },
    "id": "ZPFMHG8s8hg4",
    "outputId": "aa546919-36bc-4333-dada-55359d06e458"
   },
   "outputs": [
    {
     "data": {
      "text/html": [
       "<html>\n",
       "<head><meta charset=\"utf-8\" /></head>\n",
       "<body>\n",
       "    <div>            <script src=\"https://cdnjs.cloudflare.com/ajax/libs/mathjax/2.7.5/MathJax.js?config=TeX-AMS-MML_SVG\"></script><script type=\"text/javascript\">if (window.MathJax) {MathJax.Hub.Config({SVG: {font: \"STIX-Web\"}});}</script>                <script type=\"text/javascript\">window.PlotlyConfig = {MathJaxConfig: 'local'};</script>\n",
       "        <script src=\"https://cdn.plot.ly/plotly-2.8.3.min.js\"></script>                <div id=\"06446a87-a9b3-4b41-b91e-7172d0fb8414\" class=\"plotly-graph-div\" style=\"height:525px; width:100%;\"></div>            <script type=\"text/javascript\">                                    window.PLOTLYENV=window.PLOTLYENV || {};                                    if (document.getElementById(\"06446a87-a9b3-4b41-b91e-7172d0fb8414\")) {                    Plotly.newPlot(                        \"06446a87-a9b3-4b41-b91e-7172d0fb8414\",                        [{\"hovertemplate\":\"Fuel_Price=%{x}<br>Weekly_Sales=%{y}<extra></extra>\",\"legendgroup\":\"\",\"marker\":{\"color\":\"#636efa\",\"symbol\":\"circle\"},\"mode\":\"markers\",\"name\":\"\",\"showlegend\":false,\"x\":[2.619,4.076,3.648,2.958,3.907,3.737,3.564,2.771,3.08,3.065,3.141,3.119,3.915,3.651,2.627,3.313,3.51,2.689,3.899,3.416,3.983,3.636,2.837,2.779,3.215,2.923,3.723,3.633,2.784,3.467,3.848,2.735,3.877,2.771,2.577,3.407,4.202,3.746,3.796,2.514,3.049,2.732,2.762,4.117,3.268,4.17,4.163,3.711,3.629,3.789,2.932,3.738,3.119,2.514,2.939,4.222,2.771,3.689,3.759,3.57,3.884,3.563,2.841,3.236,2.59,3.751,4.029,3.389,2.539,3.288,3.76,2.795,2.903,3.66,3.703,3.793,3.881,3.675,3.533,3.105,3.688,3.666,4.468,2.942,2.788,3.526,3.407,3.877,2.748,3.781,3.981,3.566,3.903,3.717,3.889,2.719,3.985,2.83,3.81,3.157,3.601,3.789,3.285,2.815,3.744,3.526,3.801,3.684,2.735,2.837,3.159,3.82,2.732,3.274,2.664,4.103,3.51,2.869,3.556,2.715,3.389,2.886,3.637,3.917,2.719,4.078,3.936,3.683,2.737,3.524,2.771,3.494,3.157,3.814,3.877,3.701,2.792,3.028,3.062,3.703,3.526,3.809,3.63,3.641,2.572,3.701,2.779,3.763,3.829,3.119,3.637,2.668,3.109,3.29,3.263,3.263,2.819,2.706,3.415,2.717,2.962,3.811,3.633,3.43,3.771,3.61,3.721,3.417,3.874,2.72,3.892,2.829,3.763,4.0,3.554,4.093,3.638,3.797,2.74,2.572,3.283,2.837,3.4,2.845,4.034,2.82,2.83,4.171,2.887,2.759,3.041,3.63,4.0,2.716,4.151,3.63,2.917,2.764,3.513,2.797,3.891,2.808,2.548,3.84,3.38,3.545,2.727,3.981,3.833,2.743,4.293,2.577,4.124,2.594,3.775,3.336,2.729,3.129,2.835,2.78,3.985,3.752,3.283,3.36,3.268,3.541,2.691,2.792,2.98,2.805,3.24,3.723,3.001,3.186,3.15,3.309,3.161,3.769,2.831,2.72,3.422,3.285,3.034,3.551,3.058,3.215,3.907,3.732,3.647,3.158,3.501,3.479,2.623,3.879,2.895,3.738,2.608,3.041,2.737,3.424,4.018,4.056,4.101,3.772,3.141,3.268,2.934,3.112,3.81,3.807,2.642,2.759,3.891,2.875,3.796,3.378,2.943,3.73,2.705,2.729,3.561,3.308,3.055,3.461,4.282,3.261,3.891,3.03,3.633,3.617,3.907,3.787,3.585,3.711,3.757,3.162,3.76,2.961,3.236,2.759,3.524,3.812,3.899,3.538,3.814,4.089,3.285,3.48,3.119,3.775,3.657,3.286,3.01,2.941,2.961,3.393,2.668,2.917,2.788,2.82,2.64,3.962,3.021,3.506,3.699,3.622,3.112,4.02,3.26,3.99,3.63,3.485,3.82,3.786,3.716,3.461,3.638,3.274,2.514,3.85,3.157,2.95,3.112,2.59,3.077,3.881,2.704,2.877,3.011,3.867,3.88,2.962,3.805,3.526,3.848,2.627,2.729,3.231,2.77,3.594,3.236,3.627,3.75,3.29,3.119,3.722,2.689,2.732,3.526,2.64,3.62,3.596,3.682,3.617,3.501,3.428,4.026,2.625,3.786,3.726,3.786,3.322,3.988,3.793,3.523,3.094,2.771,3.53,2.936,3.638,3.795,3.127,2.664,2.854,3.422,3.372,3.741,2.854,3.041,3.567,2.882,3.389,3.487,3.476,2.796,2.805,3.308,3.132,3.63,2.962,4.003,3.353,4.202,3.81,3.523,3.801,3.372,2.574,3.798,3.655,3.48,3.551,3.008,3.663,3.827,3.704,3.479,3.255,4.103,3.594,2.869,4.277,3.779,3.374,3.915,3.6,3.058,4.004,3.837,2.869,3.54,2.849,3.906,3.411,3.501,2.868,3.85,3.636,3.172,3.243,3.748,3.499,3.542,4.186,2.653,3.828,3.413,3.017,2.802,2.958,2.754,3.09,3.129,3.362,3.651,3.261,3.848,3.772,3.889,2.627,4.158,3.667,3.532,3.159,3.014,2.624,2.831,2.795,2.885,3.157,3.688,3.033,3.807,4.294,3.828,3.771,3.421,3.528,3.215,2.716,3.001,3.874,3.459,3.501,3.666,2.783,2.903,2.668,3.14,3.891,3.845,2.878,3.524,2.805,3.666,3.538,2.759,3.793,3.738,3.988,3.445,3.688,4.277,3.659,2.586,3.648,2.85,3.581,2.627,3.113,3.732,3.186,3.288,3.4,3.772,3.541,2.958,2.719,3.041,2.625,3.065,2.732,3.873,2.77,2.842,3.807,3.862,3.569,2.64,3.177,3.13,3.533,3.734,3.523,4.187,2.667,4.17,3.84,2.773,2.637,3.741,2.781,2.77,3.488,4.151,2.753,2.7,3.506,3.013,2.877,3.138,3.742,3.341,2.773,2.561,3.898,3.022,2.792,3.452,2.72,2.745,4.038,2.948,3.045,3.308,3.815,2.603,4.277,2.976,4.151,3.355,3.625,3.743,3.61,3.186,3.461,3.547,3.746,3.398,3.631,3.891,3.989,3.63,2.911,2.792,3.286,2.667,3.899,3.51,3.804,2.903,3.638,2.957,2.962,3.722,2.846,3.367,3.087,3.827,3.574,2.957,4.134,3.66,3.638,2.917,3.807,2.809,2.917,3.091,2.787,3.973,2.932,3.158,2.83,3.879,3.75,2.974,3.546,2.935,2.841,3.587,3.524,3.245,3.627,3.582,3.177,3.763,3.119,2.919,2.843,2.654,3.571,2.971,3.413,3.746,4.044,3.719,3.701,4.002,2.645,2.758,3.893,3.797,2.689,2.58,2.716,3.461,4.027,3.506,3.732,2.716,3.886,3.055,3.617,2.792,3.119,3.9,2.846,3.826,3.058,3.311,3.286,2.669,2.981,3.583,3.811,3.57,2.885,3.53,3.162,3.618,3.666,2.708,3.889,3.917,2.917,3.661,2.854,2.808,2.98,3.564,3.868,2.573,3.555,3.058,3.001,3.021,3.613,2.808,2.989,3.001,3.795,3.743,3.638,2.983,3.57,3.378,3.488,3.786,3.738,3.367,3.297,3.698,3.784,3.571,3.743,2.653,4.044,2.989,3.81,4.076,4.088,2.843,4.095,2.572,3.76,3.428,2.723,3.671,3.407,3.645,2.736,2.52,2.776,3.585,4.0,2.868,2.758,3.096,3.739,2.625,3.765,2.903,3.422,2.77,3.758,3.962,3.722,3.582,3.617,2.667,3.638,4.294,2.689,2.796,2.771,2.788,3.677,2.637,3.492,4.025,2.771,4.17,3.82,2.715,4.066,3.095,2.961,3.039,2.902,4.0,3.112,3.537,3.232,2.924,3.191,4.061,2.809,3.913,2.759,3.57,2.689,3.021,2.759,4.038,3.567,3.6,3.824,2.882,3.193,3.922,3.842,3.757,4.029,3.501,3.266,3.179,3.988,3.245,3.08,2.548,3.575,2.74,2.938,3.891,2.808,4.056,3.193,3.132,3.695,3.606,3.575,3.577,3.743,3.542,2.796,4.468,3.083,3.509,4.193,3.638,2.706,3.72,3.622,2.735,3.583,3.406,3.091,3.915,3.61,4.046,2.742,3.545,2.731,3.6,3.054,3.848,3.84,3.038,3.758,3.834,3.308,2.939,2.805,3.297,4.277,3.051,3.473,3.09,3.784,3.086,3.627,2.885,2.633,3.644,3.355,2.72,2.713,2.705,3.392,3.906,3.867,2.939,2.869,3.112,2.805,3.583,3.596,3.786,3.569,3.407,3.177,3.129,2.78,2.716,2.917,3.254,3.583,3.747,3.807,2.766,2.753,2.668,2.961,2.577,3.595,2.72,2.996,3.749,3.558,3.29,2.805,3.526,2.764,3.692,3.391,4.004,3.563,3.232,4.025,3.742,2.572,3.845,3.564,3.851,4.055,3.891,2.886,3.82,2.705,4.098,3.848,2.841,3.112,4.202,2.842,3.509,2.857,2.689,3.48,3.744,2.871,2.869,3.981,3.119,2.712,2.885,3.605,2.913,3.297,3.645,3.919,2.992,4.192,2.604,3.297,2.958,3.793,3.742,2.653,2.72,2.752,3.924,3.058,3.747,3.684,3.555,3.683,4.282,4.124,2.831,2.812,2.837,3.243,2.8,3.871,2.725,3.231,2.603,4.054,3.594,2.962,3.203,3.81,3.772,3.467,2.933,3.274,2.943,2.962,3.506,3.551,3.775,2.982,3.227,2.954,4.027,4.021,3.022,3.76,3.554,4.25,3.48,3.509,3.927,3.62,2.627,2.514,3.779,3.577,3.717,2.514,3.807,3.413,3.63,2.72,2.915,3.698,3.546,3.236,4.093,2.664,3.538,3.509,3.757,3.439,3.355,4.144,3.351,2.707,2.825,3.951,3.648,2.72,2.771,3.763,3.744,2.627,3.594,3.424,3.48,3.821,4.089,3.022,3.561,2.84,3.743,2.85,4.087,2.78,2.716,3.605,2.65,3.077,3.346,3.501,3.445,2.958,3.047,3.862,3.845,2.77,3.524,3.285,3.047,3.499,3.749,3.719,3.763,3.533,3.698,2.847,3.73,3.523,3.669,2.667,2.705,4.076,3.64,4.021,3.75,2.561,3.232,3.972,3.985,2.976,3.112,2.946,2.886,3.461,2.708,2.667,3.717,2.849,3.61,3.711,2.705,3.697,2.899,3.041,2.841,2.831,3.016,2.603,3.084,3.546,3.433,2.624,3.569,3.332,3.606,3.281,3.64,3.55,4.0,2.917,3.57,3.988,3.581,3.494,3.461,3.548,3.158,2.766,3.666,3.193,2.625,3.14,3.159,3.587,2.958,3.771,3.699,3.749,3.716,3.824,3.601,2.735,2.715,3.523,3.807,3.417,2.809,3.172,3.618,3.747,3.747,3.697,3.648,2.737,2.844,3.29,2.82,3.15,3.627,3.545,2.976,3.624,3.506,3.675,3.76,4.288,3.554,2.921,3.587,2.692,4.294,3.802,3.677,3.049,3.652,3.651,3.506,2.625,3.551,2.962,3.058,3.139,3.601,3.842,3.63,3.145,3.594,2.917,3.148,2.7,3.016,2.718,3.372,2.842,3.771,2.619,3.93,3.664,3.158,3.09,3.567,4.095,3.895,3.236,2.837,3.963,3.367,2.735,3.12,2.689,3.257,3.671,4.066,2.818,3.815,3.129,2.996,3.551,3.62,2.728,3.504,2.759,3.541,3.57,3.726,2.776,3.693,2.885,2.826,2.903,3.129,2.619,3.049,3.749,2.83,2.653,3.281,2.735,2.782,3.779,3.571,4.098,3.581,3.039,3.485,3.473,3.647,3.08,3.704,3.751,3.07,3.237,2.818,3.57,3.721,3.863,3.862,3.701,3.571,3.086,2.64,3.72,3.972,3.48,3.942,3.831,3.619,3.435,3.308,2.771,2.915,3.57,3.638,3.42,2.83,3.229,2.716,2.719,4.023,3.85,2.728,3.747,3.551,2.843,2.923,2.514,3.911,4.186,3.814,3.389,3.646,3.769,3.985,3.858,3.882,3.193,3.721,2.818,2.831,2.621,3.907,2.837,3.555,2.891,3.286,3.743,3.528,3.546,3.809,3.62,2.982,2.573,3.845,3.179,2.561,2.725,2.759,3.541,3.828,3.811,3.6,3.985,3.826,3.416,2.621,3.724,4.087,2.577,3.261,3.294,3.494,2.831,3.556,3.874,4.018,3.867,4.098,3.523,3.577,2.669,2.831,3.796,2.708,3.527,2.764,2.719,3.983,2.771,2.81,3.788,2.735,2.732,3.796,3.899,3.499,3.594,3.243,3.407,3.372,2.779,3.76,3.523,2.886,2.704,3.051,2.77,3.524,3.595,2.759,3.554,3.232,3.371,3.814,3.81,2.906,3.809,4.058,3.494,3.48,3.095,3.64,2.561,2.939,3.973,4.101,3.393,3.393,3.473,3.513,3.561,3.824,3.744,3.875,3.513,3.554,3.231,2.791,3.72,3.633,3.308,4.002,3.24,2.899,2.81,2.728,3.509,3.406,3.698,2.762,3.688,3.511,3.254,2.796,2.637,3.831,3.737,3.536,3.918,3.827,4.151,3.031,2.654,4.273,3.596,3.372,2.792,2.69,4.025,4.171,3.796,3.784,3.538,3.551,3.899,2.572,3.775,3.669,3.873,4.018,4.038,3.312,3.794,3.989,4.069,3.633,3.617,3.571,2.637,3.132,3.581,3.819,2.938,3.789,3.794,3.261,3.014,3.571,3.786,2.83,2.755,3.191,3.566,3.433,3.651,3.981,3.141,3.811,3.393,3.594,3.988,3.263,2.771,3.704,3.752,3.452,3.735,3.48,2.877,3.84,3.633,3.571,2.572,3.935,3.049,3.558,3.738,2.627,2.868,3.627,3.452,3.789,3.734,3.739,3.743,3.224,3.702,3.646,3.479,3.353,3.389,3.705,3.022,3.789,3.814,3.532,3.743,3.882,3.594,2.771,3.919,3.541,3.567,2.717,3.245,3.647,2.935,3.699,2.976,2.754,3.467,3.989,3.527,3.467,3.583,3.814,4.071,2.642,3.532,3.372,3.867,3.53,2.841,3.422,2.77,2.514,3.487,3.669,2.572,3.744,2.514,3.854,2.987,4.021,3.308,2.831,4.029,2.971,3.232,2.81,4.088,2.514,3.648,2.664,3.816,3.778,3.01,3.617,3.874,3.644,4.163,3.606,3.473,2.667,3.567,3.666,3.091,3.63,3.417,2.903,2.961,3.113,2.857,3.594,3.268,2.715,2.91,3.268,3.734,2.806,4.088,3.311,2.681,3.571,3.942,3.734,3.2,3.951,4.029,3.087,3.76,3.569,3.261,3.781,2.732,4.026,4.023,3.332,3.84,3.891,3.054,3.663,2.637,2.574,3.4,3.561,3.756,2.886,3.828,3.459,3.15,3.523,3.372,3.481,3.563,3.919,3.417,3.103,3.547,2.723,2.857,2.871,2.805,2.754,2.886,3.747,3.374,2.796,3.038,3.845,3.828,3.112,2.732,3.898,2.716,3.683,3.666,3.256,4.088,3.684,2.85,2.725,2.958,3.617,3.173,3.705,3.764,3.353,3.872,3.747,3.827,2.671,2.689,3.014,2.781,3.452,2.805,3.12,2.776,3.506,3.402,3.831,3.541,2.81,2.668,2.942,3.42,3.62,3.76,3.031,2.728,3.257,3.13,4.055,3.622,3.011,3.533,3.054,3.353,2.814,2.719,3.01,2.781,3.815,3.743,3.744,3.842,3.891,3.494,2.808,3.882,3.57,4.308,3.871,3.88,4.076,3.776,3.789,3.157,3.046,3.459,2.958,3.585,2.732,3.043,2.826,3.485,3.807,2.933,3.903,3.735,3.547,3.538,3.868,2.627,3.541,3.738,3.668,2.909,3.119,3.561,3.638,3.372,2.85,3.778,3.807,4.301,3.749,3.789,3.15,3.811,4.17,3.597,3.493,3.362,3.541,2.723,3.845,3.648,2.642,3.016,4.087,3.08,3.149,3.586,3.877,2.78,3.72,2.829,2.747,3.119,4.061,4.066,3.177,2.941,3.594,3.962,2.472,3.567,3.355,3.877,3.717,3.145,3.779,3.969,3.842,3.288,4.055,2.712,3.355,2.825,3.699,3.445,3.738,3.784,2.755,3.828,3.824,3.749,3.991,2.719,3.354,3.587,3.297,3.101,3.595,3.627,3.655,2.54,4.125,3.648,3.669,3.526,4.027,2.715,3.227,2.844,3.684,2.608,3.996,3.488,3.445,3.13,2.732,3.884,2.572,3.637,2.85,3.538,2.514,3.13,3.823,2.96,3.666,4.071,3.065,2.728,2.936,3.523,3.191,3.524,3.711,4.133,4.158,3.039,2.802,4.003,3.01,3.681,4.254,3.979,3.732,3.555,2.847,3.899,2.837,4.163,3.601,2.728,3.158,3.173,3.671,3.877,3.571,2.974,3.566,2.633,3.717,4.277,3.62,3.011,3.109,3.669,3.743,3.659,3.741,3.702,3.668,4.0,2.728,2.573,2.642,3.589,3.162,2.572,2.899,3.877,2.981,2.759,2.642,3.177,3.821,2.808,3.719,3.48,2.784,3.526,2.773,3.459,3.2,3.622,3.686,3.821,4.062,3.556,3.991,3.647,3.583,3.452,3.611,3.669,2.619,2.621,3.229,4.153,4.089,3.899,3.659,3.437,3.721,3.81,4.018,3.877,3.119,3.814,4.468,2.716,2.976,3.794,3.172,3.177,2.935,3.034,4.027,3.485,3.734,2.735,3.907,3.771,2.992,2.939,3.757,3.48,3.786,2.669,3.255,3.796,2.78,2.735,4.121,3.575,3.53,2.831,3.617,3.669,3.899,2.806,3.159,4.193,3.177,2.942,3.527,3.594,2.949,2.637,3.407,3.901,3.64,3.48,3.734,2.728,2.582,3.129,3.48,3.058,3.675,2.565,2.792,2.633,2.81,2.806,3.796,3.554,2.806,2.983,3.583,3.046,3.141,3.488,3.01,3.409,4.163,3.585,3.669,2.771,2.924,4.055,3.393,3.599,2.869,2.743,2.608,2.835,3.655,3.898,3.558,2.818,3.921,2.716,3.011,2.902,2.841,3.561,3.491,3.688,3.046,3.95,4.078,3.744,3.353,3.407,3.532,3.29,3.353,2.992,2.805,3.646,3.684,3.655,3.309,3.744,3.726,3.681,3.568,3.877,3.751,3.575,3.734,3.033,3.411,3.953,2.627,3.101,3.51,3.892],\"xaxis\":\"x\",\"y\":[1802.76,16666.04,4320.01,15268.08,6617.38,4970.84,3381.51,8266.44,502.76,11924.23,2175.0,9916.35,12733.86,1599.72,19036.35,57.0,20262.94,22380.12,5388.06,4144.59,17610.71,16689.87,6578.48,33714.67,52428.88,7127.23,17378.7,21711.92,688.98,64750.3,7402.1,906.24,10270.85,30500.92,5416.34,11696.19,3949.12,63.46,18227.93,2527.12,7229.75,1368.98,4636.76,25701.06,16780.87,6264.41,18255.27,57075.34,1389.42,3321.83,4531.5,5356.86,4096.91,8423.87,5854.1,4905.22,10563.31,23105.86,17177.48,29391.07,8249.82,18000.77,14831.76,59137.69,32314.98,1548.83,5779.63,220.0,23759.99,241.75,4899.41,62544.83,6898.32,14253.08,7802.04,8.0,2090.27,10477.11,16452.87,10332.1,32044.82,3199.52,-5.97,20546.5,14853.59,15666.95,2312.6,373.22,686.2,639.0,16367.44,6373.5,3742.03,14724.8,11222.39,7510.97,14252.88,35240.67,32223.13,666.97,37.06,1628.7,13126.53,15210.11,610.92,13842.93,8724.53,37475.82,39170.07,103.0,555.92,16093.46,81222.37,7016.0,5271.97,205.16,6238.21,12673.86,4.94,1324.98,27646.56,12446.93,8168.94,323.48,28080.8,22705.84,13130.75,25450.82,6708.02,448.8,1615.81,208.57,65507.72,1623.24,20675.86,9914.88,4580.94,15867.39,6844.06,23564.51,54595.74,3276.21,4049.67,2447.5,13266.61,1346.81,3402.18,7612.01,4523.04,4775.01,8424.44,3.5,2628.45,33628.93,6903.68,3988.5,19.0,12163.37,18611.99,2194.3,36.83,5751.1,21901.39,2.88,18937.98,4801.37,35.29,614.94,1824.66,467.0,3383.97,3259.56,797.04,191136.1,576.86,1417.63,10080.19,26993.83,3967.47,22244.26,5627.01,380.56,2404.5,508.41,36366.96,383.43,18685.7,31804.49,57098.47,48613.02,687.0,138306.17,27323.34,2552.16,8475.78,12430.48,47420.7,8227.98,3172.47,1296.41,1766.26,47460.31,4222.08,29661.96,157.87,189.78,33948.96,2272.66,243.0,56876.04,3220.07,39538.08,3059.55,19585.65,7205.03,41563.59,15014.92,120.18,868.0,697.17,11166.78,2190.0,1435.48,2450.49,68108.82,10733.88,26791.48,3273.54,90467.13,9630.38,1293.37,59850.41,18350.69,2230.07,701.16,145530.89,3152.0,15411.52,38.97,288.5,138239.64,413.46,9404.41,435.49,28327.68,1270.27,9285.39,18299.49,703.56,319.98,3489.24,2107.19,6538.0,25411.94,4593.78,2287.75,15885.03,195.07,1057.06,11069.67,13334.77,14846.68,5429.3,4542.37,12913.1,106.74,565.23,2520.48,1223.88,70352.09,477.08,740.0,5837.27,12.03,24080.78,2409.71,7316.36,18236.15,36669.8,37705.19,1536.59,56731.69,1342.69,60.92,421.65,23603.22,48565.55,34090.22,7111.4,13229.59,26126.18,35074.93,7768.36,38688.53,43942.7,76360.51,2953.23,933.75,20886.83,4065.0,4155.5,37256.86,83989.84,11778.88,2354.89,0.75,26052.9,1153.6,756.25,5931.32,26.73,438.58,14709.23,38554.52,22583.53,7893.15,421.11,2062.09,27445.55,1506.0,19430.65,11302.48,5024.71,1411.46,676.92,856.31,46096.24,4060.72,2079.54,11662.88,1144.06,16342.03,7946.79,9640.29,36223.12,672.44,5352.2,123.2,16198.86,28381.43,1593.58,70257.59,5249.89,54687.08,2161.03,602.25,2636.0,99258.48,7594.46,2378.71,10353.65,26116.12,80.0,15497.5,4933.67,519.54,18743.68,21514.18,11014.96,13628.79,11192.08,137604.37,1037.04,880.88,851.73,98809.67,793.74,10284.46,5631.01,537.79,3750.19,22695.89,2040.91,12708.87,23.92,377.47,3403.5,409.93,15401.64,5443.73,8832.83,31778.59,3145.06,858.7,2379.23,1412.75,16481.94,99139.52,30005.47,1775.56,29816.06,65.6,569.89,15256.59,4091.36,4162.57,4673.69,7459.53,2509.67,10862.96,4412.81,718.2,8272.5,54066.27,34888.39,17729.8,-12.97,74781.33,16587.87,54116.37,722.13,5577.64,60316.61,3495.99,8865.91,4528.18,19663.34,5503.39,9409.64,15634.71,1049.19,467.14,12333.17,28191.23,2138.54,44.55,646.12,11219.57,6238.24,11150.53,7593.22,30515.16,284.76,3186.86,20308.36,33218.62,30.83,6563.63,22861.36,4385.59,113573.61,12540.36,734.76,105498.09,103847.39,21706.61,36587.89,1552.75,3949.93,21319.16,32716.63,1581.38,10292.14,11376.82,85.57,2985.2,48249.11,12292.07,999.44,4678.7,36097.8,22252.54,3609.95,440.66,28530.68,10905.07,288.0,5518.74,9290.31,18390.43,10709.43,6501.03,4693.04,20924.36,3987.76,6068.56,6070.73,2030.6,93412.42,3246.33,72258.71,5169.57,4150.59,8606.6,4210.0,10649.13,10323.81,27032.31,5824.43,3691.06,16593.56,3695.0,17073.64,35233.33,35675.84,13759.06,3447.06,2780.03,15397.84,1278.77,87986.93,8684.62,6105.02,44787.3,2018.05,53165.3,21423.42,9579.53,60285.37,11703.33,24888.03,1420.0,95.72,81.18,16979.48,1.2,4943.73,7076.15,876.3,17408.39,4372.75,6609.78,20622.99,10199.3,180.0,45134.97,55448.31,65701.31,54498.41,648.0,6.97,32005.7,19840.01,26314.57,73425.7,13904.38,18346.54,3250.77,5602.83,19956.19,19093.73,7179.23,460.15,33691.44,36991.1,4703.22,2876.13,1493.94,9272.53,64161.66,2131.0,14994.29,2495.12,8695.06,39149.43,33483.33,24784.29,25410.09,1175.42,4527.42,13347.01,11052.74,166.99,958.97,5530.31,1580.63,22686.25,3289.17,34709.85,57.07,48392.92,19460.0,12110.37,4291.84,10255.29,4586.82,33334.2,11208.52,4624.66,10512.03,853.71,35574.62,421.77,8181.35,52360.66,15996.9,18887.81,8242.42,252.87,2630.42,93914.31,4557.92,12465.57,62076.77,1414.28,1328.98,25826.56,777.25,1044.08,43411.51,3590.0,12793.68,20816.05,911.3,45508.84,28833.69,26534.06,23929.19,45110.55,198.15,2680.0,18892.47,21209.67,487.54,40.48,1459.68,2071.38,3304.11,2199.62,36525.21,24517.0,14608.25,-22.5,21499.54,1054.1,9488.01,1106.0,3670.86,17816.38,-4.38,15512.39,9.94,1192.5,23034.82,7204.95,10859.79,66.92,92448.61,37969.49,26809.63,15115.04,59111.45,357.94,11438.28,15325.84,19.93,13409.66,2867.06,1500.43,10.47,16747.91,80.47,4.48,19409.91,3023.3,30785.87,5856.1,766.0,2631.12,4229.59,5310.6,9205.0,2178.79,2505.46,21744.64,4907.27,33273.08,4297.51,1229.46,19588.45,279.0,1347.92,29779.96,500.88,1812.5,27845.92,14922.01,6461.84,3800.93,2556.0,13821.57,2178.42,158.4,14663.03,8196.17,3710.64,2493.4,26213.08,139.59,46291.94,14355.0,43702.39,23469.1,27604.64,3012.19,249.5,12.0,31941.01,4919.53,12655.94,369.68,2860.29,16280.59,15632.3,5961.68,1770.43,1577.95,322.42,13160.63,9125.72,12513.11,25392.38,31235.64,914.21,5111.62,6307.59,32003.95,1290.11,38065.42,21205.24,20108.22,129.14,54.95,53466.81,3911.18,4259.5,67301.64,34025.58,9830.22,367.0,2450.0,8504.59,3836.3,602.0,5712.64,390.4,20868.67,108840.64,26019.18,3733.67,2550.2,2220.19,25.53,59549.54,1608.72,3.88,39738.86,89.54,101.33,14656.35,2158.13,19994.61,465.09,69542.18,5224.3,3725.37,16.96,112152.35,7778.73,29272.21,80312.67,14790.37,34237.11,36234.69,7949.93,749.76,4174.08,29115.91,169141.08,7948.74,15335.79,151.02,34546.29,6277.91,14987.32,13633.56,17466.46,10345.76,17409.84,1822.9,26987.58,5804.88,12954.24,16830.22,6500.0,20366.98,41695.26,2432.33,6840.39,2523.26,1233.38,3671.82,2043.93,1882.0,5276.86,3836.45,14853.86,3.0,2741.15,275.0,74.0,603.02,83927.41,33516.41,633.17,217.07,77183.97,3259.5,5094.22,12165.27,3425.85,17258.82,28307.95,1071.96,1236.54,17338.44,611.08,17893.61,7379.27,23436.93,47517.71,85061.23,900.06,11252.54,339700.62,56335.13,50525.39,17951.75,28111.57,28140.69,21950.49,29699.4,422.78,59511.18,1651.64,11340.01,1355.0,1.0,23.51,871.82,5.0,8130.08,989.02,27240.73,16901.42,3718.7,12425.29,3097.0,3588.0,23678.78,15864.69,2934.66,8942.84,71569.45,28099.57,66874.01,4189.0,38200.28,38612.61,10223.28,15944.36,81.0,66527.34,4291.31,24.0,5504.96,8265.15,1364.11,43351.09,1140.81,10869.31,21260.92,36695.28,229.89,16201.01,5361.32,25.0,20863.19,140.8,34057.63,24523.9,207.88,5270.3,3823.56,39639.39,49.65,1898.95,5135.69,2383.32,1728.0,1345.0,86728.48,69043.67,11157.49,8709.45,20403.21,8275.28,13815.28,56882.89,1522.38,8.88,11721.74,3415.0,39255.01,17199.44,526.24,20612.22,513.52,6035.69,23969.51,27275.31,837.46,37380.15,1644.21,14946.93,24423.87,5030.8,1246.0,1089.72,8728.44,19473.28,1002.96,21584.92,22310.73,11654.87,3743.7,2720.44,8037.71,6009.23,85.0,6017.5,3127.66,4342.19,2770.0,635.28,9605.19,4519.0,27131.72,15011.18,7022.0,1208.8,2175.0,603.6,243.74,72312.4,6095.99,9646.1,41423.78,99998.65,52197.47,4835.28,1673.5,1716.7,14.5,11591.48,2058.38,4786.5,40791.48,1.84,1572.0,7332.44,786.91,10365.69,9223.6,26551.33,2051.67,5315.0,34463.22,2777.89,1193.17,6879.16,35971.56,6376.5,2736.83,2030.0,4760.81,8599.57,186.76,2889.94,21122.45,10232.06,1274.91,2185.74,24268.8,5345.51,38617.08,3214.04,39.0,57.84,41444.37,10238.07,38142.37,233.46,29878.46,11415.85,419.7,97.62,468.5,40.0,11430.21,1141.73,3842.69,5652.4,11442.75,15716.2,943.17,4775.62,5968.0,16178.46,1941.01,4014.34,35962.0,12831.01,15153.96,64533.08,330.62,3721.43,29052.46,43700.54,6019.02,3824.27,745.0,254.96,1379.41,26639.94,7680.18,11266.67,203457.42,8378.53,19712.71,3433.64,2422.63,13958.31,11950.4,96.0,822.41,39151.09,159.0,14375.51,2431.45,3526.44,1217.91,503.42,3500.08,667.35,11137.95,296.0,60270.76,6792.23,57380.23,48552.9,4998.0,13.38,19677.98,20821.69,18298.15,887.66,6692.61,4846.84,11804.36,14202.43,14258.67,1265.64,39062.38,8830.42,4148.27,25226.37,2065.99,15502.0,13439.79,1361.3,58766.21,1005.0,1817.99,6476.06,1366.53,80087.64,194.7,21133.07,5336.45,16797.9,9702.63,18191.98,95.21,5790.46,2598.9,-4.15,20226.83,133484.29,28945.55,40116.15,8260.0,8201.99,9486.17,32134.27,21137.15,13411.68,4930.84,7355.06,3797.42,8237.35,1383.65,66160.47,96.8,13277.57,19373.98,13427.86,16029.52,18184.77,6736.37,3494.72,5563.41,1312.64,36801.93,10995.12,699.38,3402.02,4503.95,5770.45,4729.16,360.8,45517.07,40330.51,1553.98,2331.09,19037.43,21208.14,2995.39,1645.45,18868.74,16609.8,68.52,5554.85,30701.73,14645.29,23478.91,8066.71,372.06,3157.53,49625.14,2867.98,109.5,23175.64,22691.32,30137.88,2867.88,1121.26,1731.0,8.47,30120.36,23103.19,710.51,7496.74,8838.51,5106.34,6259.25,1615.0,14266.41,11867.33,15317.72,107.24,12760.73,30835.21,732.85,397.59,1689.28,446.0,24357.43,23038.92,50.84,12999.34,15.0,4832.1,16545.64,51509.07,6359.26,2116.39,3625.76,5690.98,19272.36,4247.2,425.27,1518.0,0.96,431.66,3707.43,38385.12,13364.35,3375.12,19402.7,2817.56,15624.46,16133.13,7350.25,15159.94,7533.04,6290.0,7566.14,18431.22,7038.81,189.9,5889.19,1191.07,17085.13,389.5,22178.95,12313.05,53693.82,19997.69,14917.21,10404.26,2460.44,3031.34,2334.3,29.92,4978.6,31106.33,9585.43,3466.56,36998.78,42111.51,8553.49,33790.96,27972.96,138231.7,129.78,25763.56,15797.28,18208.49,250.58,16463.02,4939.2,12171.49,43619.74,936.89,6440.43,3066.46,11250.54,17002.54,8485.9,1714.33,33452.0,46119.33,49214.06,8689.64,15078.97,14750.44,16192.52,155.82,15102.74,11784.56,14052.99,54033.43,20158.76,3150.69,61348.27,13238.46,99.0,1086.6,2761.77,8484.7,1349.05,10015.07,69018.51,112921.59,315.25,17866.35,7621.53,9047.99,3419.08,4807.21,25.5,14432.65,12181.4,93.46,413.6,32666.46,4995.7,20.0,1807.5,4928.49,1226.77,2190.05,3309.39,3610.37,9100.15,9618.94,2.5,795.0,1086.77,17427.95,15061.67,9421.3,7077.58,20.76,1212.82,18707.12,42086.59,9743.28,9485.02,83079.7,84957.21,47110.39,446.21,2705.52,1168.89,667.0,5887.66,3679.9,1361.76,4672.91,4545.53,13782.41,7435.47,7499.38,24149.61,7.12,5389.9,731.31,11647.24,10866.03,8334.85,3894.55,4752.66,5707.04,240.1,38256.98,2833.06,11471.37,50437.61,16949.92,34407.17,59089.11,16764.0,5523.13,57904.05,31217.5,6558.37,14182.51,10443.92,2071.79,113.66,32807.65,7350.77,9889.17,639.53,271.5,2191.0,17687.19,35160.93,4225.11,18087.32,6771.5,7861.01,-198.0,6692.15,13966.31,19826.13,249.19,3409.46,52209.39,18679.32,6071.54,8994.36,17603.96,69792.6,8302.38,9762.87,571.5,62105.36,38533.7,23866.18,319.73,20539.21,47802.31,3594.47,4422.77,33092.16,6165.6,19724.47,8448.13,4976.16,51599.08,837.66,1179.0,1475.73,5923.14,1113.3,6825.8,16090.8,302.56,314.0,105.6,28468.34,14.0,61133.99,1932.97,28909.33,13668.72,113450.37,10396.8,10083.91,5663.87,4619.85,890.95,66340.84,4515.49,11802.59,6222.22,965.54,49.88,10909.8,3364.52,7242.71,5308.57,24406.19,33.64,19825.24,31996.84,2445.57,61173.28,667.66,1230.06,33375.11,5.0,33147.86,3636.4,7249.0,10961.11,35600.15,5565.3,5.0,74539.51,8026.52,38984.63,19982.05,43.8,2115.0,12167.3,6372.77,45645.54,18306.24,12317.99,26496.38,13601.81,13875.23,8456.38,3470.46,385.96,2928.44,5775.17,7725.94,3671.02,17660.76,533.09,21873.66,80.56,7367.73,7.5,552.42,24390.26,11933.91,1239.15,170.81,7571.99,1849.91,378.4,1402.22,76890.52,58127.1,2945.63,103.16,2705.0,8775.97,9833.74,8455.43,8146.36,636.09,94732.0,12591.87,106890.41,23736.6,31342.67,4633.3,221.5,20976.6,853.38,17515.48,9884.6,6071.54,395.64,5260.67,21673.66,19318.35,59.0,1343.6,11061.05,18526.71,22.37,21629.58,30244.48,11691.02,543.0,2783.54,6520.79,7390.12,14672.17,42619.01,3307.53,1341.94,17430.76,1513.0,44634.75,104.7,4264.19,67781.56,51806.8,1190.51,74994.24,22855.26,50956.5,2343.69,12113.23,31557.58,19851.41,14056.87,10538.5,15917.84,18042.55,23060.71,105173.03,52.51,1379.92,12827.35,595.97,6590.01,10606.41,8093.86,9019.26,745.51,1734.27,309.72,7225.71,364.73,20242.72,38782.58,9242.52,9764.71,45.88,13641.21,26236.72,23638.3,7016.27,34432.62,19652.86,1329.08,17871.56,4653.23,11549.49,11745.54,15843.63,23042.32,6086.96,12403.13,8067.95,514.54,11720.56,3350.17,211.8,10126.9,25242.27,2306.66,44226.11,5042.24,15640.02,3940.35,20897.67,46492.98,324.79,26164.68,2075.44,48653.31,236468.65,2820.76,7175.32,3670.0,98420.51,2449.62,2685.73,8768.05,3782.97,2141.06,1551.93,47436.0,4490.05,9308.03,10692.82,2209.28,17457.84,5577.07,6180.82,32.79,5217.67,1101.32,2806.35,33185.48,146.58,17241.2,20980.47,809.65,20437.85,32052.08,27087.8,984.2,2830.29,15317.95,689.09,14689.85,25027.7,20332.13,30.0,2964.96,10043.07,5155.48,28101.87,7083.48,2294.9,10711.13,1784.25,21876.24,15445.76,2320.02,19.43,23635.53,685.48,35605.58,1307.96,3242.5,17711.39,3444.5,244.0,5768.52,8670.74,86.77,7155.07,18730.21,11257.6,2419.72,42432.17,42604.76,58250.89,22004.14,800.76,130704.17,29977.97,63245.0,7351.75,8228.15,7727.91,13803.45,6055.32,9.94,6047.46,2532.64,152.0,810.0,2178.36,203.12,4006.63,42511.34,8811.72,16166.8,14160.7,5087.55,2384.34,17870.31,6269.14,9065.14,64893.74,88.36,7868.11,4293.6,27067.12,1640.0,7418.68,3944.98,4004.19,2531.55,34731.04,15512.22,2421.26,54395.87,6458.98,1421.74,457.6,22.5,20752.29,19293.17,8476.0,47508.32,16187.53,5.96,21410.67,7432.75,2196.18,7301.48,76175.22,6738.56,23587.33,68385.07,2690.2,16209.08,1133.49,48493.7,2030.76,28464.04,13194.01,684.28,16782.63,11687.82,454.63,15.0,8814.03,12.0,6031.21,5404.0,404.8,6322.64,24997.16,2818.0,6429.74,502.3,23951.88,6484.6,5153.35,3795.36,15627.66,32955.88,4350.39,1600.51,955.47,39218.92,65571.23,2531.12,4005.47,15734.75,6485.78,43512.27,202.4,4071.44,4593.54,27500.93,11681.01,511.62,29.95,1448.16,26518.54,3925.26,14194.63,39.0,1250.59,6889.43,31590.27,51352.42,6974.81,68642.16,1259.76,1883.11,3958.95,318.5,3565.09,3547.13,8950.14,20.0,1520.34,1331.46,33462.75,196.03,57535.96,252.0,30204.01,4771.72,40128.68,18458.95,1876.15,12154.07,24070.28,765.88,4826.56,2345.21,10.88,4792.21,6015.66,1381.56,2868.77,4263.23,46.56,5707.65,207.13,176252.46,38708.06,700.56,5907.41,199.23,53.52,4564.64,8792.95,5101.56,3971.19,8895.13,9988.74,768.0,12976.2,4611.0,802.46,49714.58,17.55,76359.26,4911.86,384.15,4418.85,1427.0,31882.98,7480.55,9375.9,2056.02,17330.71,5484.49,2426.3,16873.32,4071.95,29308.63,8926.4,8584.58,26389.39,24014.25,49471.8,17446.6,8688.0,419.0,17.28,39620.18,6670.69,121.0,1941.5,5841.25,7901.76,12058.33,17109.89,3201.52,2314.3,5541.7,7919.71,308.5,2133.55,1778.43,6658.58,50671.41,3610.72,33340.63,4938.91,31374.99,16777.53,4990.8,15592.54,215.97,74337.31,27596.02,2387.06,5824.41,310.39,52.62,32494.96,360.0,152.33,4081.71,13665.06,1969.51,33039.23,6038.77,7322.82,8194.23,84563.51,93.2,299.3,16853.66,38122.39,38584.09,3006.96,4752.46,13726.46,651.31,6851.64,15692.11,21545.03,43166.28,60.16,15907.11,8868.18,8659.8,7033.69,2930.0,6221.24,18820.29,11262.38,23497.36,167.2,8017.21,63639.01,31507.85,56194.53,443.99,5518.04,9029.82,6790.84,28140.9,83.8,6180.0,44279.83,27786.98,7109.73,1473.35,1215.83,20739.8,41822.49,2076.5,12059.87,42595.49,3212.19,8637.28,7184.26,4.31,27482.49,16369.09,37698.18,3975.95,4077.31,5853.22,30804.0,1551.48,35625.58,11871.28,25707.09,399.0,4666.22,7683.11,8725.18,2781.44,2070.4,7820.4,4822.89,4172.43,23966.54,408.13,17744.72,81217.33,1617.0,11039.88,2393.62,10266.75,12101.1,552.0,1319.02,1988.0,3447.71,12675.01,48826.38,19986.34,59.4,1451.4,3261.0,53.51,61487.85,72921.8,31193.33,10292.68,5744.84,7283.1,27723.18,1201.29,1243.22,13254.64,16264.6,1530.71,35233.82,4823.32,17592.76,28697.57,14273.91,471.5,14571.49,6642.07,4046.09,46268.29,3614.08,57410.78,3088.88,413.52,28517.9,3552.0],\"yaxis\":\"y\",\"type\":\"scattergl\"}],                        {\"template\":{\"data\":{\"bar\":[{\"error_x\":{\"color\":\"#2a3f5f\"},\"error_y\":{\"color\":\"#2a3f5f\"},\"marker\":{\"line\":{\"color\":\"#E5ECF6\",\"width\":0.5},\"pattern\":{\"fillmode\":\"overlay\",\"size\":10,\"solidity\":0.2}},\"type\":\"bar\"}],\"barpolar\":[{\"marker\":{\"line\":{\"color\":\"#E5ECF6\",\"width\":0.5},\"pattern\":{\"fillmode\":\"overlay\",\"size\":10,\"solidity\":0.2}},\"type\":\"barpolar\"}],\"carpet\":[{\"aaxis\":{\"endlinecolor\":\"#2a3f5f\",\"gridcolor\":\"white\",\"linecolor\":\"white\",\"minorgridcolor\":\"white\",\"startlinecolor\":\"#2a3f5f\"},\"baxis\":{\"endlinecolor\":\"#2a3f5f\",\"gridcolor\":\"white\",\"linecolor\":\"white\",\"minorgridcolor\":\"white\",\"startlinecolor\":\"#2a3f5f\"},\"type\":\"carpet\"}],\"choropleth\":[{\"colorbar\":{\"outlinewidth\":0,\"ticks\":\"\"},\"type\":\"choropleth\"}],\"contour\":[{\"colorbar\":{\"outlinewidth\":0,\"ticks\":\"\"},\"colorscale\":[[0.0,\"#0d0887\"],[0.1111111111111111,\"#46039f\"],[0.2222222222222222,\"#7201a8\"],[0.3333333333333333,\"#9c179e\"],[0.4444444444444444,\"#bd3786\"],[0.5555555555555556,\"#d8576b\"],[0.6666666666666666,\"#ed7953\"],[0.7777777777777778,\"#fb9f3a\"],[0.8888888888888888,\"#fdca26\"],[1.0,\"#f0f921\"]],\"type\":\"contour\"}],\"contourcarpet\":[{\"colorbar\":{\"outlinewidth\":0,\"ticks\":\"\"},\"type\":\"contourcarpet\"}],\"heatmap\":[{\"colorbar\":{\"outlinewidth\":0,\"ticks\":\"\"},\"colorscale\":[[0.0,\"#0d0887\"],[0.1111111111111111,\"#46039f\"],[0.2222222222222222,\"#7201a8\"],[0.3333333333333333,\"#9c179e\"],[0.4444444444444444,\"#bd3786\"],[0.5555555555555556,\"#d8576b\"],[0.6666666666666666,\"#ed7953\"],[0.7777777777777778,\"#fb9f3a\"],[0.8888888888888888,\"#fdca26\"],[1.0,\"#f0f921\"]],\"type\":\"heatmap\"}],\"heatmapgl\":[{\"colorbar\":{\"outlinewidth\":0,\"ticks\":\"\"},\"colorscale\":[[0.0,\"#0d0887\"],[0.1111111111111111,\"#46039f\"],[0.2222222222222222,\"#7201a8\"],[0.3333333333333333,\"#9c179e\"],[0.4444444444444444,\"#bd3786\"],[0.5555555555555556,\"#d8576b\"],[0.6666666666666666,\"#ed7953\"],[0.7777777777777778,\"#fb9f3a\"],[0.8888888888888888,\"#fdca26\"],[1.0,\"#f0f921\"]],\"type\":\"heatmapgl\"}],\"histogram\":[{\"marker\":{\"pattern\":{\"fillmode\":\"overlay\",\"size\":10,\"solidity\":0.2}},\"type\":\"histogram\"}],\"histogram2d\":[{\"colorbar\":{\"outlinewidth\":0,\"ticks\":\"\"},\"colorscale\":[[0.0,\"#0d0887\"],[0.1111111111111111,\"#46039f\"],[0.2222222222222222,\"#7201a8\"],[0.3333333333333333,\"#9c179e\"],[0.4444444444444444,\"#bd3786\"],[0.5555555555555556,\"#d8576b\"],[0.6666666666666666,\"#ed7953\"],[0.7777777777777778,\"#fb9f3a\"],[0.8888888888888888,\"#fdca26\"],[1.0,\"#f0f921\"]],\"type\":\"histogram2d\"}],\"histogram2dcontour\":[{\"colorbar\":{\"outlinewidth\":0,\"ticks\":\"\"},\"colorscale\":[[0.0,\"#0d0887\"],[0.1111111111111111,\"#46039f\"],[0.2222222222222222,\"#7201a8\"],[0.3333333333333333,\"#9c179e\"],[0.4444444444444444,\"#bd3786\"],[0.5555555555555556,\"#d8576b\"],[0.6666666666666666,\"#ed7953\"],[0.7777777777777778,\"#fb9f3a\"],[0.8888888888888888,\"#fdca26\"],[1.0,\"#f0f921\"]],\"type\":\"histogram2dcontour\"}],\"mesh3d\":[{\"colorbar\":{\"outlinewidth\":0,\"ticks\":\"\"},\"type\":\"mesh3d\"}],\"parcoords\":[{\"line\":{\"colorbar\":{\"outlinewidth\":0,\"ticks\":\"\"}},\"type\":\"parcoords\"}],\"pie\":[{\"automargin\":true,\"type\":\"pie\"}],\"scatter\":[{\"marker\":{\"colorbar\":{\"outlinewidth\":0,\"ticks\":\"\"}},\"type\":\"scatter\"}],\"scatter3d\":[{\"line\":{\"colorbar\":{\"outlinewidth\":0,\"ticks\":\"\"}},\"marker\":{\"colorbar\":{\"outlinewidth\":0,\"ticks\":\"\"}},\"type\":\"scatter3d\"}],\"scattercarpet\":[{\"marker\":{\"colorbar\":{\"outlinewidth\":0,\"ticks\":\"\"}},\"type\":\"scattercarpet\"}],\"scattergeo\":[{\"marker\":{\"colorbar\":{\"outlinewidth\":0,\"ticks\":\"\"}},\"type\":\"scattergeo\"}],\"scattergl\":[{\"marker\":{\"colorbar\":{\"outlinewidth\":0,\"ticks\":\"\"}},\"type\":\"scattergl\"}],\"scattermapbox\":[{\"marker\":{\"colorbar\":{\"outlinewidth\":0,\"ticks\":\"\"}},\"type\":\"scattermapbox\"}],\"scatterpolar\":[{\"marker\":{\"colorbar\":{\"outlinewidth\":0,\"ticks\":\"\"}},\"type\":\"scatterpolar\"}],\"scatterpolargl\":[{\"marker\":{\"colorbar\":{\"outlinewidth\":0,\"ticks\":\"\"}},\"type\":\"scatterpolargl\"}],\"scatterternary\":[{\"marker\":{\"colorbar\":{\"outlinewidth\":0,\"ticks\":\"\"}},\"type\":\"scatterternary\"}],\"surface\":[{\"colorbar\":{\"outlinewidth\":0,\"ticks\":\"\"},\"colorscale\":[[0.0,\"#0d0887\"],[0.1111111111111111,\"#46039f\"],[0.2222222222222222,\"#7201a8\"],[0.3333333333333333,\"#9c179e\"],[0.4444444444444444,\"#bd3786\"],[0.5555555555555556,\"#d8576b\"],[0.6666666666666666,\"#ed7953\"],[0.7777777777777778,\"#fb9f3a\"],[0.8888888888888888,\"#fdca26\"],[1.0,\"#f0f921\"]],\"type\":\"surface\"}],\"table\":[{\"cells\":{\"fill\":{\"color\":\"#EBF0F8\"},\"line\":{\"color\":\"white\"}},\"header\":{\"fill\":{\"color\":\"#C8D4E3\"},\"line\":{\"color\":\"white\"}},\"type\":\"table\"}]},\"layout\":{\"annotationdefaults\":{\"arrowcolor\":\"#2a3f5f\",\"arrowhead\":0,\"arrowwidth\":1},\"autotypenumbers\":\"strict\",\"coloraxis\":{\"colorbar\":{\"outlinewidth\":0,\"ticks\":\"\"}},\"colorscale\":{\"diverging\":[[0,\"#8e0152\"],[0.1,\"#c51b7d\"],[0.2,\"#de77ae\"],[0.3,\"#f1b6da\"],[0.4,\"#fde0ef\"],[0.5,\"#f7f7f7\"],[0.6,\"#e6f5d0\"],[0.7,\"#b8e186\"],[0.8,\"#7fbc41\"],[0.9,\"#4d9221\"],[1,\"#276419\"]],\"sequential\":[[0.0,\"#0d0887\"],[0.1111111111111111,\"#46039f\"],[0.2222222222222222,\"#7201a8\"],[0.3333333333333333,\"#9c179e\"],[0.4444444444444444,\"#bd3786\"],[0.5555555555555556,\"#d8576b\"],[0.6666666666666666,\"#ed7953\"],[0.7777777777777778,\"#fb9f3a\"],[0.8888888888888888,\"#fdca26\"],[1.0,\"#f0f921\"]],\"sequentialminus\":[[0.0,\"#0d0887\"],[0.1111111111111111,\"#46039f\"],[0.2222222222222222,\"#7201a8\"],[0.3333333333333333,\"#9c179e\"],[0.4444444444444444,\"#bd3786\"],[0.5555555555555556,\"#d8576b\"],[0.6666666666666666,\"#ed7953\"],[0.7777777777777778,\"#fb9f3a\"],[0.8888888888888888,\"#fdca26\"],[1.0,\"#f0f921\"]]},\"colorway\":[\"#636efa\",\"#EF553B\",\"#00cc96\",\"#ab63fa\",\"#FFA15A\",\"#19d3f3\",\"#FF6692\",\"#B6E880\",\"#FF97FF\",\"#FECB52\"],\"font\":{\"color\":\"#2a3f5f\"},\"geo\":{\"bgcolor\":\"white\",\"lakecolor\":\"white\",\"landcolor\":\"#E5ECF6\",\"showlakes\":true,\"showland\":true,\"subunitcolor\":\"white\"},\"hoverlabel\":{\"align\":\"left\"},\"hovermode\":\"closest\",\"mapbox\":{\"style\":\"light\"},\"paper_bgcolor\":\"white\",\"plot_bgcolor\":\"#E5ECF6\",\"polar\":{\"angularaxis\":{\"gridcolor\":\"white\",\"linecolor\":\"white\",\"ticks\":\"\"},\"bgcolor\":\"#E5ECF6\",\"radialaxis\":{\"gridcolor\":\"white\",\"linecolor\":\"white\",\"ticks\":\"\"}},\"scene\":{\"xaxis\":{\"backgroundcolor\":\"#E5ECF6\",\"gridcolor\":\"white\",\"gridwidth\":2,\"linecolor\":\"white\",\"showbackground\":true,\"ticks\":\"\",\"zerolinecolor\":\"white\"},\"yaxis\":{\"backgroundcolor\":\"#E5ECF6\",\"gridcolor\":\"white\",\"gridwidth\":2,\"linecolor\":\"white\",\"showbackground\":true,\"ticks\":\"\",\"zerolinecolor\":\"white\"},\"zaxis\":{\"backgroundcolor\":\"#E5ECF6\",\"gridcolor\":\"white\",\"gridwidth\":2,\"linecolor\":\"white\",\"showbackground\":true,\"ticks\":\"\",\"zerolinecolor\":\"white\"}},\"shapedefaults\":{\"line\":{\"color\":\"#2a3f5f\"}},\"ternary\":{\"aaxis\":{\"gridcolor\":\"white\",\"linecolor\":\"white\",\"ticks\":\"\"},\"baxis\":{\"gridcolor\":\"white\",\"linecolor\":\"white\",\"ticks\":\"\"},\"bgcolor\":\"#E5ECF6\",\"caxis\":{\"gridcolor\":\"white\",\"linecolor\":\"white\",\"ticks\":\"\"}},\"title\":{\"x\":0.05},\"xaxis\":{\"automargin\":true,\"gridcolor\":\"white\",\"linecolor\":\"white\",\"ticks\":\"\",\"title\":{\"standoff\":15},\"zerolinecolor\":\"white\",\"zerolinewidth\":2},\"yaxis\":{\"automargin\":true,\"gridcolor\":\"white\",\"linecolor\":\"white\",\"ticks\":\"\",\"title\":{\"standoff\":15},\"zerolinecolor\":\"white\",\"zerolinewidth\":2}}},\"xaxis\":{\"anchor\":\"y\",\"domain\":[0.0,1.0],\"title\":{\"text\":\"Fuel_Price\"}},\"yaxis\":{\"anchor\":\"x\",\"domain\":[0.0,1.0],\"title\":{\"text\":\"Weekly_Sales\"}},\"legend\":{\"tracegroupgap\":0},\"margin\":{\"t\":60}},                        {\"responsive\": true}                    ).then(function(){\n",
       "                            \n",
       "var gd = document.getElementById('06446a87-a9b3-4b41-b91e-7172d0fb8414');\n",
       "var x = new MutationObserver(function (mutations, observer) {{\n",
       "        var display = window.getComputedStyle(gd).display;\n",
       "        if (!display || display === 'none') {{\n",
       "            console.log([gd, 'removed!']);\n",
       "            Plotly.purge(gd);\n",
       "            observer.disconnect();\n",
       "        }}\n",
       "}});\n",
       "\n",
       "// Listen for the removal of the full notebook cells\n",
       "var notebookContainer = gd.closest('#notebook-container');\n",
       "if (notebookContainer) {{\n",
       "    x.observe(notebookContainer, {childList: true});\n",
       "}}\n",
       "\n",
       "// Listen for the clearing of the current output cell\n",
       "var outputEl = gd.closest('.output');\n",
       "if (outputEl) {{\n",
       "    x.observe(outputEl, {childList: true});\n",
       "}}\n",
       "\n",
       "                        })                };                            </script>        </div>\n",
       "</body>\n",
       "</html>"
      ]
     },
     "metadata": {},
     "output_type": "display_data"
    }
   ],
   "source": [
    "px.scatter(raw_df.sample(2000), x='Fuel_Price',y='Weekly_Sales')"
   ]
  },
  {
   "cell_type": "markdown",
   "metadata": {
    "id": "UM74YSBx503g"
   },
   "source": [
    "Insights:\n",
    "Between fuel price and the sales there doesn't seem to exist any clear relationship"
   ]
  },
  {
   "cell_type": "code",
   "execution_count": null,
   "metadata": {
    "colab": {
     "base_uri": "https://localhost:8080/",
     "height": 542
    },
    "executionInfo": {
     "elapsed": 826,
     "status": "ok",
     "timestamp": 1667758253136,
     "user": {
      "displayName": "Pankaj Thakur",
      "userId": "05146800060821315169"
     },
     "user_tz": -330
    },
    "id": "j4TlFv-z-lMR",
    "outputId": "9a8e20d5-e248-48e8-ce72-85114e1b9f6e"
   },
   "outputs": [
    {
     "data": {
      "text/html": [
       "<html>\n",
       "<head><meta charset=\"utf-8\" /></head>\n",
       "<body>\n",
       "    <div>            <script src=\"https://cdnjs.cloudflare.com/ajax/libs/mathjax/2.7.5/MathJax.js?config=TeX-AMS-MML_SVG\"></script><script type=\"text/javascript\">if (window.MathJax) {MathJax.Hub.Config({SVG: {font: \"STIX-Web\"}});}</script>                <script type=\"text/javascript\">window.PlotlyConfig = {MathJaxConfig: 'local'};</script>\n",
       "        <script src=\"https://cdn.plot.ly/plotly-2.8.3.min.js\"></script>                <div id=\"0a710202-3847-4185-8360-8dec26a5316f\" class=\"plotly-graph-div\" style=\"height:525px; width:100%;\"></div>            <script type=\"text/javascript\">                                    window.PLOTLYENV=window.PLOTLYENV || {};                                    if (document.getElementById(\"0a710202-3847-4185-8360-8dec26a5316f\")) {                    Plotly.newPlot(                        \"0a710202-3847-4185-8360-8dec26a5316f\",                        [{\"hovertemplate\":\"Fuel_Price=%{x}<br>Weekly_Sales=%{y}<extra></extra>\",\"legendgroup\":\"\",\"marker\":{\"color\":\"#636efa\",\"symbol\":\"circle\"},\"mode\":\"markers\",\"name\":\"\",\"showlegend\":false,\"x\":[2.783,2.82,3.638,3.022,3.827,4.134,3.862,3.784,2.784,3.663,3.48,3.536,3.083,3.542,3.065,3.814,3.523,3.505,3.988,3.757,3.966,3.299,3.737,2.608,3.227,3.416,3.742,4.056,2.637,2.619,3.523,3.891,3.811,3.638,3.633,3.393,2.802,3.595,2.598,3.346,3.406,3.288,3.617,3.389,3.044,3.732,3.693,3.493,3.669,3.585,3.872,3.524,2.849,2.717,3.494,3.772,3.13,2.989,3.187,3.717,3.409,2.548,2.958,4.169,3.625,3.523,3.452,3.129,3.065,3.033,4.294,3.353,3.985,3.737,2.934,2.989,3.644,2.711,3.821,3.393,3.575,3.077,3.688,3.257,3.689,2.886,2.718,3.308,2.574,3.459,3.742,3.973,2.625,2.962,3.735,3.594,3.717,2.854,2.78,3.548,3.646,3.047,4.087,2.561,3.084,2.715,2.623,3.638,3.452,3.428,2.619,3.688,3.82,3.867,3.355,3.409,2.963,3.547,4.187,3.899,3.921,2.933,3.815,3.186,3.616,3.592,2.82,2.784,3.2,3.103,3.81,2.719,3.509,2.976,3.062,3.734,2.802,3.818,2.667,2.784,3.215,3.948,3.381,3.493,2.771,3.666,3.555,3.845,2.793,4.078,2.828,3.651,2.98,2.729,3.12,3.61,3.64,3.637,4.029,3.459,3.683,3.809,3.506,2.728,2.725,3.129,2.841,3.72,2.64,3.82,2.55,2.728,3.827,3.36,2.706,3.236,3.871,3.829,2.669,3.585,3.988,3.236,2.723,2.72,2.625,3.07,3.903,3.205,4.038,2.78,3.667,3.348,2.784,3.891,2.843,3.821,3.891,2.748,3.741,3.77,3.682,3.763,2.78,2.706,2.586,4.056,2.77,3.732,3.734,2.619,2.625,3.848,3.112,3.93,2.826,3.63,2.621,2.78,3.542,2.72,3.698,3.29,3.752,3.972,3.014,3.109,3.03,3.891,3.393,3.919,3.906,2.925,3.417,3.899,3.814,2.784,2.773,2.87,2.608,3.526,3.132,2.707,3.505,4.192,3.828,3.63,2.793,2.716,3.81,2.625,3.618,3.407,2.989,3.991,3.697,2.727,3.763,2.815,3.563,3.57,2.812,3.049,3.372,2.766,3.769,3.044,2.514,3.743,3.81,3.807,2.773,2.692,3.311,3.669,3.752,3.119,2.999,2.608,3.308,2.711,3.096,2.939,3.301,2.983,3.05,3.771,3.353,2.762,4.029,2.624,3.162,4.044,3.722,3.827,3.43,2.642,3.342,3.57,2.899,3.193,3.769,3.475,3.51,4.301,3.95,3.016,3.022,2.948,3.498,2.935,3.648,2.771,3.647,3.617,2.921,3.951,3.459,2.654,2.919,3.693,2.899,2.935,3.738,3.743,2.637,3.661,2.762,3.509,2.77,3.008,3.711,2.64,3.506,3.255,2.882,3.675,3.157,2.805,3.119,3.567,3.062,2.668,3.63,2.561,2.577,2.868,3.807,4.277,3.01,3.112,3.29,4.277,3.452,3.629,3.353,2.642,3.764,3.738,4.034,2.717,2.514,3.065,3.921,4.192,2.805,3.409,3.936,3.793,4.151,3.417,2.653,4.0,2.808,3.886,2.755,3.348,3.723,3.022,2.836,2.637,2.623,3.297,3.647,3.256,3.297,2.771,3.551,2.796,3.051,3.538,3.514,3.988,3.63,4.308,3.735,3.129,3.903,3.193,2.819,3.787,3.62,3.332,3.437,2.771,2.689,3.638,4.273,3.995,4.273,3.01,3.72,3.362,2.857,2.819,2.708,3.583,3.411,2.692,3.809,2.805,3.809,3.288,3.459,3.095,3.638,3.605,3.129,3.638,3.288,2.836,3.065,2.989,2.514,3.644,3.862,3.498,2.669,2.619,3.74,2.78,2.913,3.948,3.288,4.133,3.556,4.095,3.592,4.192,3.526,2.764,2.577,3.53,3.38,4.027,3.811,2.548,3.757,3.735,3.937,3.809,4.046,3.538,3.877,2.572,3.63,2.808,3.489,3.286,3.804,3.495,3.88,3.633,3.022,2.771,3.698,3.256,4.273,2.878,3.286,3.452,2.85,2.671,3.595,3.807,3.877,3.494,3.988,2.573,2.59,3.037,3.962,3.651,3.807,3.711,3.057,3.933,2.921,3.045,2.561,3.286,3.604,2.983,3.567,3.336,2.565,3.738,3.917,3.236,3.328,3.893,3.526,4.062,3.638,3.473,4.103,3.527,3.542,3.409,2.841,3.237,3.288,3.494,3.268,3.898,3.256,2.938,3.646,3.989,2.619,3.561,2.921,3.63,2.716,2.847,2.963,3.866,3.313,2.83,4.178,3.842,3.141,3.988,3.499,3.617,3.972,2.671,3.848,3.575,2.812,3.24,3.274,2.664,3.705,2.723,2.668,3.058,2.887,3.951,3.686,2.843,2.812,2.735,2.847,3.256,2.87,2.624,2.701,3.409,3.407,3.647,3.734,2.653,3.892,3.506,3.765,2.766,3.309,4.25,3.915,3.08,3.985,3.157,3.554,3.779,3.406,3.158,3.009,3.443,2.961,3.727,2.627,4.133,3.57,3.815,3.744,3.651,3.684,3.63,2.54,3.891,2.64,3.796,2.91,3.749,3.0,3.95,4.186,3.784,3.805,3.634,2.936,3.022,2.941,3.693,2.708,3.723,2.989,2.837,3.756,3.735,3.721,2.765,4.163,3.827,2.973,3.618,3.008,3.723,4.0,3.891,3.727,3.747,2.983,3.721,2.808,2.603,3.798,3.017,3.594,2.786,3.962,3.022,3.793,3.63,2.565,3.046,2.942,3.179,4.186,3.523,3.669,3.526,3.991,3.281,4.143,3.049,3.907,3.538,3.538,4.222,3.648,2.942,2.689,3.684,3.749,2.81,2.619,3.594,3.049,3.798,3.542,2.826,3.81,4.025,3.162,3.256,2.728,3.227,3.538,3.545,2.869,3.203,3.842,3.804,2.728,2.971,3.433,3.031,2.77,2.667,2.784,3.848,3.159,3.158,3.689,2.64,4.056,3.346,4.186,3.638,3.763,3.842,2.961,3.524,3.378,2.792,4.088,2.735,3.872,3.14,3.763,3.671,3.816,4.17,3.697,3.703,3.162,3.815,3.29,3.682,4.301,3.688,3.132,2.868,3.505,3.087,3.873,2.771,3.341,3.651,3.693,2.642,3.605,3.351,2.793,3.046,2.869,3.874,3.845,3.915,3.232,3.742,4.0,3.953,3.828,3.36,3.227,3.311,3.617,2.608,3.564,3.613,4.301,3.601,3.501,3.874,2.845,3.489,4.203,3.4,3.413,3.66,3.752,3.331,3.688,2.973,4.055,3.583,2.711,3.704,3.666,3.346,3.587,3.919,3.309,3.524,3.875,2.514,2.667,3.874,3.57,4.171,3.747,2.854,3.906,3.942,3.624,3.886,3.148,2.692,3.597,3.735,3.794,2.735,4.144,3.618,2.976,3.283,3.409,3.759,2.86,3.637,3.752,3.807,3.701,3.637,3.757,2.766,3.57,3.705,3.633,3.899,2.846,3.796,2.731,2.85,3.571,3.786,3.119,3.842,3.798,4.192,4.111,3.828,3.749,3.951,3.105,3.417,4.202,3.63,3.288,3.331,3.533,3.049,2.748,3.077,2.828,3.558,3.567,4.187,3.509,3.622,3.699,3.989,2.561,3.274,4.294,3.985,3.742,2.582,2.72,3.058,3.899,2.706,3.907,3.682,2.654,3.132,3.787,3.633,2.759,3.744,3.848,3.743,4.002,3.748,3.112,3.717,2.572,3.973,4.034,3.407,2.902,3.554,3.996,4.308,3.493,3.15,3.709,4.088,3.445,3.391,3.996,3.684,3.764,3.047,2.917,2.653,3.659,3.684,4.193,2.784,3.486,3.045,3.488,3.692,2.764,3.022,3.105,3.706,3.232,3.793,3.981,3.751,3.022,3.533,4.254,4.061,3.877,3.964,2.869,3.046,3.393,4.031,4.025,3.477,3.372,3.991,3.022,2.826,3.332,2.565,3.203,3.636,3.523,3.722,3.654,2.83,3.796,3.236,3.179,3.737,2.624,3.823,2.85,3.75,3.64,3.759,3.631,3.567,3.227,3.82,2.784,3.786,3.57,3.748,3.989,3.61,3.109,3.827,3.473,3.232,3.684,4.186,3.633,3.353,2.64,3.481,2.837,3.997,4.055,3.548,2.792,3.237,3.963,3.81,2.764,3.647,3.2,3.567,2.514,3.132,3.802,3.0,2.784,3.73,3.827,3.813,3.407,3.452,4.004,2.826,3.789,3.575,3.735,3.744,4.282,3.501,3.735,3.353,3.595,3.827,3.274,3.467,3.01,3.268,3.868,3.675,3.038,3.634,3.701,3.764,3.668,3.737,2.627,3.57,3.682,3.62,2.778,3.353,3.596,3.112,3.148,4.101,3.699,4.062,2.732,3.308,3.834,2.793,3.523,2.802,2.924,3.899,3.995,2.869,2.796,3.9,2.868,3.721,2.779,3.848,3.01,3.054,3.546,2.871,3.84,3.864,2.766,4.134,3.15,3.669,2.608,2.909,2.653,2.815,3.008,2.58,3.308,3.022,3.648,3.558,3.112,2.692,2.771,3.439,3.677,3.709,3.229,3.488,3.51,3.127,3.355,3.966,3.75,3.63,3.81,3.889,3.688,3.87,3.917,3.699,3.767,3.831,3.084,3.176,3.737,3.077,3.274,2.668,3.555,3.948,2.773,2.637,3.546,3.692,3.772,3.638,3.342,2.766,2.939,4.014,3.617,2.725,2.72,3.807,2.921,3.523,3.103,2.783,3.312,2.706,3.734,3.893,2.86,2.796,3.581,3.312,3.595,3.796,2.623,3.255,3.268,3.331,3.13,2.664,3.898,3.561,2.742,2.577,3.571,3.488,3.807,2.868,3.527,2.653,3.236,3.499,3.301,3.688,3.526,3.051,3.601,3.73,2.87,3.374,2.95,3.907,3.186,4.069,2.962,3.109,3.404,2.745,3.58,4.254,2.72,3.016,3.686,3.907,3.285,3.563,3.4,2.825,3.043,3.669,4.044,2.561,3.784,3.473,3.646,3.798,3.459,3.749,3.381,3.936,3.81,3.567,3.898,3.172,3.285,2.976,2.548,3.523,3.851,3.353,3.767,3.899,3.881,3.682,3.826,3.667,3.561,3.864,2.925,3.022,3.682,4.202,3.513,3.492,3.526,3.55,3.372,3.274,3.459,3.119,4.02,2.732,3.723,3.575,3.346,3.172,3.77,3.826,2.938,2.976,3.646,2.711,4.029,2.81,3.917,3.899,3.123,3.919,3.452,2.666,3.874,3.891,2.699,3.287,3.582,3.01,3.62,2.877,3.892,2.843,2.831,3.772,3.934,3.467,3.034,3.622,2.935,3.711,3.699,3.637,3.528,3.619,2.94,3.232,3.698,3.261,3.62,2.826,2.854,2.812,2.684,4.192,3.255,3.533,3.193,3.571,3.771,2.72,3.028,3.494,3.732,2.831,4.101,3.42,3.129,3.433,3.891,2.797,4.027,3.81,3.605,3.407,3.103,3.05,2.829,3.698,2.909,3.538,3.132,3.236,3.433,3.129,3.561,3.148,3.193,3.717,3.81,3.236,3.054,3.889,3.129,3.879,3.881,3.311,3.355,3.513,2.762,2.728,2.85,3.428,2.759,3.735,2.86,3.13,2.699,2.958,3.537,3.805,3.227,2.705,3.618,3.72,2.818,3.538,2.841,2.667,3.767,2.623,3.778,3.574,3.892,2.809,3.232,2.77,3.058,3.721,3.087,3.524,3.821,3.699,2.72,2.773,2.792,4.0,3.892,4.095,2.841,2.582,3.417,2.77,3.82,3.286,3.618,2.963,3.646,3.561,3.651,3.688,4.056,2.83,2.983,3.815,2.664,4.124,3.686,3.764,3.81,3.802,3.031,4.294,2.716,3.353,3.417,3.541,3.796,2.961,3.62,3.129,3.805,2.623,2.976,3.84,3.882,2.98,3.655,3.016,3.231,2.939,3.605,3.158,2.917,3.724,3.459,3.132,2.941,3.15,2.713,3.617,2.868,3.186,2.69,3.787,3.749,4.003,3.046,4.089,3.76,2.886,3.937,2.961,2.758,3.837,3.898,3.514,3.625,2.689,3.927,3.603,2.572,3.533,3.038,3.141,2.62,3.796,3.882,3.141,3.571,3.473,2.637,3.606,2.8,2.728,3.501,3.917,3.227,3.873,3.793,3.461,3.899,2.725,2.717,4.029,2.85,3.577,2.705,2.717,3.541,3.065,3.705,3.827,2.748,3.787,3.297,2.572,3.245,2.717,3.157,2.793,2.776,3.47,2.572,4.294,3.75,3.863,3.424,2.795,2.77,3.36,3.651,3.701,2.936,3.53,3.467,3.775,3.758,3.693,3.779,3.816,3.506,3.6,3.285,3.263,3.613,2.745,3.129,2.654,2.64,3.305,3.695,4.25,3.697,3.734,3.566,3.255,2.759,3.501,2.85,3.532,3.205,3.749,2.784,3.851,3.42,3.899,2.725,3.638,3.769,3.82,3.727,3.684,2.725,3.723,2.983,4.294,3.538,3.2,3.723,2.771,3.215,3.571,4.093,2.667,3.69,3.261,2.58,2.85,3.735,3.842,3.634,4.029,2.98,3.734,2.908,2.792,3.781,3.705,2.548,2.77,4.02,3.845,2.846,4.044,3.215,4.134,2.64,3.586,3.148,3.191,3.767,2.766,3.286,2.664,2.842,2.825,3.487,2.72,3.809,2.637,3.416,3.494,3.01,2.765,2.973,3.622,2.604,4.018,2.766,2.795,2.699,3.93,3.784,2.847,3.236,3.891,3.988,3.288,3.587,4.038,2.78,3.105,3.784,3.638,3.158,3.467,3.417,3.651,3.703,3.684,3.875,3.851,3.551,3.62,3.722,2.847,3.734,3.329,3.62,3.601,2.623,2.64,3.577,2.844,3.554,3.065,3.787,3.558,3.402,2.812,3.688,3.617,3.554,2.642,3.622,2.869,3.617,2.707,3.29,3.845,3.004,2.831,3.919,2.716,2.77,4.025,3.717,3.684,2.767,2.78,3.638,3.872,3.692,3.537,2.795,3.554,2.684,2.735,2.689,3.695,3.668,3.743,3.666,3.505,3.867,3.794,2.938,3.266,2.72,3.669,3.12,3.692,4.088,3.737,2.781,2.987,2.55,3.742,3.274,3.842,3.63,3.663,3.781,3.699,3.526,2.69,3.309,3.804,3.534,3.895,2.781,4.134,3.445,2.77,3.617,3.417,3.36,2.612,2.841,2.942,2.736,2.81,3.006,3.26,3.706,4.018,3.61,3.619,3.008,3.796,2.624,2.992,4.0,3.261,2.857,2.642,3.811,3.815,3.524,2.999,3.636,3.937,3.24,2.771,3.843,3.917,2.745,2.899,3.674,2.705,4.066,2.91,2.732,3.058,3.811,4.17,3.065,3.709,2.625,2.784,2.978,4.171,3.286,2.742,3.953,3.268,3.743,3.683,2.64,3.158,2.753,2.797,3.789,3.872,2.725,3.641,3.501,3.62,3.772,3.506,4.038,2.77,3.802,2.776,3.54,3.378,3.638,2.82,3.523,3.659,2.691,2.86,3.61,3.874,3.533,3.087,4.027,2.58,4.144,3.787,3.936,3.743,3.268,3.601,3.61,3.127,3.972,4.046,2.732,2.642,3.103,3.793,2.75,3.159,2.795,2.755,2.992,3.305,3.877,3.82,3.022,3.789,3.1,4.038,3.477,2.895,3.286,2.771,3.727,3.697,4.25,3.256,2.624,2.837,2.802,2.582,2.758,3.683,2.624,3.01,4.018,3.566,3.577,2.717,2.692,3.845,3.989,3.915,3.705,2.771,2.776,3.587,3.743,2.728,3.684,3.372,2.792,2.624,3.637,3.701,3.863,3.812,4.034,3.603,3.906,2.83,2.919,3.413,3.722,2.625,3.193,2.623,3.119,2.577,3.203,3.596,2.903,3.554,3.398,3.786,2.981,2.781,2.743,3.406,3.022,2.847,3.008,2.903,3.439,3.348,3.793,3.119,3.159,3.72,2.689,3.193,3.488,3.561,3.877,2.983,3.988,3.698,3.812,2.619,2.784,3.624,2.808,3.805,3.554,3.187,3.638,2.958,3.816,2.732,2.857,3.651,2.706,3.891,2.869,3.722,3.648,2.82,2.843,2.642,3.288,3.62,3.564,3.789,3.688,3.911,3.892,3.524,3.889,2.837,2.999,3.526,3.701,4.031,3.634,2.633,2.972,4.151,3.523,3.016,3.922,3.786,2.976,3.592,2.96,2.77,3.581,3.139,2.637,3.892,3.608,3.03,3.84,2.808,3.047,3.407,3.245,3.796,3.511,2.64,2.572,3.699,4.021,2.708,3.001,3.501,3.179,2.911,4.163,2.718,3.989,2.86,3.698,3.722,3.95,3.045,3.892,2.718,3.583,2.715,3.145,2.754,3.85,3.489,2.826,3.654,3.554,3.57,4.098,2.514,3.81,2.747,3.636,3.297,3.734,3.297,3.815,3.231,3.646,3.916,3.283,3.716,3.845,3.863,3.561,2.793,3.489,2.669,3.051,3.795,3.63,2.982,2.784,2.825,3.633,2.699,2.791,3.828,2.691,3.311,2.981,2.815,2.81,3.646,3.786,2.54,3.506,3.48,2.654,2.711,3.285,3.567,3.876,4.151,4.004,3.624,2.86,2.754,3.717,3.76,4.055,2.962,3.055,3.786,3.662,2.796,2.936,3.681,3.105,3.735,2.81,3.917],\"xaxis\":\"x\",\"y\":[8404.38,788.55,31383.62,5044.23,6973.09,97340.66,3137.71,3515.77,2425.3,8536.85,272.8,1615.63,6535.76,19849.0,5518.62,24628.51,7098.91,7597.45,11463.55,7636.72,385.41,6880.03,3250.08,2615.5,348.98,27714.41,4667.57,58203.35,2879.44,20574.48,9328.97,9845.6,13439.67,14102.43,309.37,32898.46,20130.68,31442.93,11574.09,1104.73,4588.29,18932.19,10205.27,18544.98,125.0,36685.33,31417.18,32555.32,6864.03,11552.36,785.05,5953.41,4648.8,50734.4,108.8,7611.0,91.38,4159.78,5773.94,2901.7,251.61,5106.76,2590.74,14121.51,24730.58,2982.45,9733.53,41798.77,1109.99,1397.43,32781.3,63.34,19432.86,42884.2,16.75,15459.0,15430.24,751.89,9190.78,10670.36,7134.86,17415.13,1437.15,5186.86,2128.35,45.82,4779.07,7317.17,1374.96,7646.75,423.18,1.05,148427.67,3160.97,1589.16,10640.94,25843.43,9120.33,48575.8,4893.0,43959.95,5477.93,30279.01,71243.49,42465.93,91403.85,15558.85,1970.23,118573.49,5876.51,48739.12,6263.55,45345.45,8009.82,9899.05,5.0,21867.22,16602.53,20.0,48526.89,3014.2,2324.0,10640.34,115.42,77631.72,7515.06,10064.23,11650.39,51512.8,1329.5,2988.0,63316.38,1519.71,7820.58,1059.7,3891.75,3615.83,13180.18,11348.25,746.5,2961.13,3489.7,132.25,71729.47,13667.3,270.42,23030.33,197.37,19726.09,-2.48,62.51,15384.73,120.6,859.23,7303.41,7995.01,6339.37,20619.22,1561.02,8339.72,4530.11,2091.79,8775.52,4240.82,3374.08,23.84,3642.74,12288.1,30.43,8494.04,122.54,6661.6,5840.99,431.93,3763.24,449.06,33492.05,1950.0,72107.47,1286.0,17468.17,12580.96,3608.55,3003.07,2855.76,130.48,19672.91,4020.53,24192.79,21831.64,10.0,11793.37,7176.94,1543.96,1249.21,8744.96,28965.21,4071.01,5526.91,6884.25,19543.31,59543.53,60401.16,6067.26,1867.8,14102.73,518.0,2274.35,5518.88,58303.29,408.23,0.3,20316.72,13817.24,39337.4,29.55,2789.13,3315.7,14235.7,513.0,2833.57,743.36,3751.47,144.5,17887.68,59098.6,11193.9,31276.39,6467.1,10236.76,37603.7,14556.05,7384.92,3448.08,43602.83,14214.1,49665.14,5767.4,3.97,1491.3,8387.67,9052.19,49510.17,16212.25,39179.02,24509.36,17064.4,3866.0,9898.48,16445.28,77.79,6887.86,176.0,11119.98,420.87,3311.22,13116.82,36484.52,12923.23,1338.37,55263.19,12569.99,620.39,74400.93,3060.09,1591.5,0.78,214.75,651.41,10026.16,28757.99,9084.64,3534.5,617.31,3457.89,37651.82,11208.99,784.1,1636.03,1663.5,5626.78,15290.21,19337.01,1002.92,1577.58,18856.79,15.0,6221.6,2125.62,8387.18,37.9,6710.54,1421.06,3011.54,3822.2,17635.35,6380.94,15177.47,510.4,13751.43,170.75,7776.77,26648.03,181.01,8347.66,801.53,10599.18,7349.83,127610.29,21999.42,814.12,24410.86,5109.48,18869.02,7870.5,9400.68,15025.51,11403.91,15449.05,1204.56,6248.36,8800.32,19266.88,12215.21,39165.29,1285.46,26.4,8655.67,7122.13,728.39,13906.21,26699.34,41615.24,23573.97,5.5,3775.9,770.97,4400.78,4108.88,3050.0,13921.37,131995.0,10351.96,38138.36,106.0,2546.46,1587.3,25071.14,64710.05,18972.23,672.18,35.0,4578.67,-1.5,17254.0,34721.25,44956.91,7345.16,27310.72,7673.48,38.77,70.37,6564.12,120224.59,1212.96,6717.84,32630.47,1024.88,28344.02,670.43,24041.36,4261.15,18280.19,22027.47,36349.64,5658.14,2065.12,22621.82,1996.0,12855.55,6771.48,34493.04,2877.59,16860.26,1360.0,48166.65,69190.4,2630.13,4307.93,8769.35,23704.32,8713.36,90232.68,5017.58,19092.32,28973.6,14495.71,47719.31,5952.22,61187.38,58889.54,1193.71,86758.53,4689.84,12803.33,410.0,3131.93,23812.49,59531.79,5693.99,2645.66,6059.51,4981.46,31215.13,4243.62,3768.23,14090.31,3936.8,13149.11,11825.45,21887.74,7697.46,791.32,3261.0,6977.38,15354.91,14149.88,7650.61,2081.82,762.0,145.54,10804.61,16502.25,27033.48,13635.18,9461.37,24082.54,5174.33,152.81,12969.95,4535.49,11437.84,273.0,12324.78,13931.78,3245.68,24119.21,3495.02,71049.64,3382.0,11.47,14314.26,23742.36,2021.16,10395.08,19002.81,23190.05,4698.88,2974.01,35.2,8227.34,3187.82,388.0,20523.7,1644.18,14325.6,16152.78,26262.46,30588.99,110.72,15809.9,20416.19,26803.78,2246.96,1846.33,4741.66,12276.43,2171.38,35176.81,19667.54,16084.83,18995.9,81708.9,91111.7,1558.57,37.58,13391.49,75382.31,259.0,14254.06,20953.38,12.78,8693.4,2308.65,6964.12,2721.17,4086.24,26498.6,9269.51,526.11,37341.11,5041.34,7065.03,86684.83,21354.45,2180.26,6625.81,934.95,14152.94,3645.24,53224.07,55275.41,3676.32,14687.2,50750.27,394.83,16672.3,3076.75,28470.16,20594.21,3013.97,3457.53,31327.75,962.86,44219.23,5723.0,566.0,14043.65,12403.24,1011.88,19.64,5477.0,-15.0,43502.74,7950.54,8832.71,17066.38,770.43,20128.74,6287.66,43044.56,7472.13,4860.22,1379.92,35271.56,29406.4,39981.05,503.35,4391.7,13546.91,43719.19,19608.18,519.2,33210.88,58.0,6047.01,1049.02,4416.68,2893.68,8951.17,1490.0,2048.98,40994.89,10014.95,4560.7,572.0,64878.92,45.42,5.47,9519.18,4572.72,23222.13,17855.27,59287.86,6425.38,14014.39,1718.05,44180.23,22312.72,26473.78,4720.08,5.44,1090.0,5848.39,17804.13,88189.79,40447.52,18898.35,972.0,4449.54,8708.45,522.0,2531.25,3708.01,3822.95,5169.35,31694.83,6089.21,4040.48,7842.24,20915.95,1216.43,20014.22,2457.47,17105.65,409.4,9274.48,6089.36,598.77,41492.45,7807.92,2447.6,50037.45,43374.51,1007.91,8079.89,7142.9,606.31,66027.14,4858.15,489.42,12053.76,6128.86,114.4,553.43,69264.67,28217.15,43374.75,11619.81,398.12,28.44,4580.3,6223.6,333.0,4013.38,3216.86,67.68,10191.19,69799.97,11969.15,1001.27,45571.32,15922.27,14338.7,21932.39,10483.75,5195.92,5807.12,13890.81,511.44,532.5,5484.77,15923.17,33775.38,18204.76,3659.63,87.76,1351.15,30906.24,25043.24,14590.99,7703.83,2732.98,1020.31,210.5,2034.32,32991.81,19644.78,61.6,7268.35,2427.76,2511.1,5957.74,10368.09,383.35,1185.09,1722.81,11.97,6603.24,21631.48,12.0,17884.34,90822.08,38688.86,15046.64,41764.39,10934.49,1514.54,22109.73,85516.83,33408.02,554.34,2.0,8220.88,118277.53,1650.6,24111.43,16023.59,49200.29,33520.02,10257.92,15908.15,73.0,4456.35,1920.88,4505.5,2775.0,76677.26,16410.34,20743.31,11413.87,2163.0,7616.69,28213.08,3268.6,14596.0,16459.9,19358.07,915.75,5817.4,12.41,21316.18,8979.85,183.76,123.2,51899.18,3468.25,951.61,4940.04,28465.89,3786.74,13554.51,15852.88,5888.77,2561.59,12061.25,12001.15,28872.79,63914.41,438.09,9811.71,19922.0,42086.68,1768.33,3740.78,68992.94,41690.52,8195.86,29620.75,30319.88,52306.57,0.1,30.9,698.11,7841.15,71.72,1035.45,1925.0,4388.04,916.0,1623.93,9156.52,9214.53,2884.9,93.95,6500.94,12877.79,2447.46,5885.21,1222.0,14855.95,332.88,795.0,1016.76,7621.77,9752.12,18534.43,38717.6,1100.5,59461.52,29903.63,14.88,4334.03,18107.27,2591.56,3954.67,48611.54,7716.16,25126.34,3890.5,8932.48,3195.78,4452.13,339700.62,4942.24,2913.17,990.77,1928.91,31595.22,341.8,71924.29,1103.68,3708.94,3018.73,5463.11,8204.21,36616.53,3569.26,18362.39,45734.29,1631.41,3327.23,30796.63,7415.96,2665.04,29504.22,10293.23,20807.73,16645.05,21750.07,9398.01,1159.0,30308.46,4745.0,20483.08,17373.86,6485.17,2661.76,18925.09,3350.67,6304.14,23144.52,20799.18,1282.11,5616.72,7087.65,101.96,18111.15,520.58,20.0,7209.22,17010.28,4387.89,6162.43,3915.01,43904.12,7370.32,6519.89,2972.67,43583.12,13768.83,33154.15,560.16,10778.5,11463.53,499.58,433.0,44057.76,886.08,5696.0,3094.15,183.65,10431.33,2449.35,15101.16,40437.75,6816.04,13525.47,823.96,63818.42,32265.34,10146.25,8884.17,10059.37,26007.99,33.76,5657.01,3128.1,1655.84,20168.81,2028.93,6831.46,5542.68,8504.73,14308.15,8113.3,71288.26,78611.46,70553.69,1684.48,11870.4,61959.75,28615.06,3563.87,12695.01,8001.64,28446.73,5728.32,111.24,10577.37,68583.7,7.94,31306.02,21497.68,803.4,4700.0,58371.58,2037.14,39.3,31151.14,30712.87,55807.84,5634.92,43946.53,10287.43,1138.22,6723.85,10070.24,25199.35,10697.08,15480.75,51686.54,4523.54,3506.37,87.87,23174.91,8529.25,2034.0,75984.54,12947.94,121237.23,27481.6,2305.74,7824.52,28397.5,11214.11,1612.26,98837.46,3448.37,1795.88,13017.87,29469.92,77210.43,11067.51,3817.06,1005.98,4576.6,63.78,10814.0,31286.73,2097.47,18673.55,4337.46,33223.15,28924.85,12913.77,18348.69,30.09,4331.95,3508.03,250.88,12762.7,10299.56,18345.52,29557.46,7450.22,10866.03,6279.7,3894.2,11248.94,3266.26,47590.9,1018.64,4866.54,30625.69,26895.99,997.16,355.52,3825.13,145.25,6046.88,719.4,5200.57,3345.25,785.4,1319.59,14.0,6244.03,1544.61,13293.83,16.0,14664.53,28588.89,2854.73,1736.5,10744.54,21544.76,17917.93,348.2,2677.59,19.79,4480.87,3537.08,3510.47,5431.57,12980.96,12265.76,36131.88,28470.23,21298.85,1152.59,9252.43,2453.0,5357.5,7983.41,32036.17,3520.75,8511.4,48682.4,680.5,15985.29,28770.53,31832.27,3538.04,19616.49,15001.62,8740.96,22.22,24429.06,1088.25,20996.8,17760.02,36959.61,17166.89,30223.9,3264.79,40924.32,50282.04,6992.33,15130.7,27107.5,19499.27,129.32,10768.83,7108.06,8559.81,2237.11,211.97,165.44,7084.98,6196.59,46999.61,992.59,3830.38,3419.92,7919.07,1230.71,4463.83,61464.45,12465.25,2354.0,1903.68,34173.84,50018.6,4321.5,1646.19,26164.72,1368.03,3405.54,1698.0,62950.8,4962.34,5442.49,807.59,119.46,4546.92,4210.95,13521.03,20467.37,6842.7,8891.63,3944.81,49657.69,35041.88,28140.37,22813.65,37689.25,1976.44,23486.05,14991.88,9884.24,23772.0,1777.34,11153.46,13909.95,12471.64,2557.54,35316.91,70346.57,450.9,9574.86,97963.91,9873.14,42.48,1373.99,5405.09,23.08,374.0,12634.62,4843.85,1865.0,12654.31,5830.42,3025.4,1783.68,8231.16,1975.5,34412.58,48.0,1521.65,29221.52,42.59,64475.37,22979.32,4395.71,6695.62,395.92,15679.02,51622.28,5389.2,15086.81,6392.71,4237.45,4778.0,721.6,2250.9,934.96,8547.72,31673.84,1234.13,38851.26,10113.72,4158.96,26607.99,20.0,1213.57,10160.05,37.0,3041.05,12511.66,5775.61,31139.57,1640.93,25118.05,36046.03,48275.27,95731.12,85841.96,10229.37,8734.81,5.47,-12.03,1.56,331.09,5430.08,85004.25,10915.11,800.8,28315.52,64402.51,3828.69,639.5,9185.19,4210.06,6654.21,4664.37,5765.71,6167.31,2460.0,66620.43,6121.03,1960.0,10095.07,10169.68,173.84,84.23,5310.52,12330.28,573.2,11797.34,1380.42,94992.81,3070.6,5497.41,7.44,297.94,11745.74,2001.47,26106.22,837.36,18808.97,30734.52,647.27,77686.91,5500.24,2615.74,1411.01,17458.17,9210.22,37.0,3257.48,2183.81,867.42,38618.35,270.0,121.5,16391.79,1097.25,9709.91,709.21,498.0,9775.84,20550.0,33143.03,13907.56,1761.57,3993.72,4355.49,270.0,509.01,15507.29,8407.98,32109.71,2319.52,2223.29,-28.92,4566.77,10496.93,170.0,18444.11,3604.95,855.24,3297.33,41847.9,26568.32,35159.06,20262.36,25893.32,14807.87,19972.2,4955.3,13609.5,6130.15,42091.51,274.05,52274.09,13124.22,3531.09,730.75,9422.87,22058.22,8174.6,34932.12,45914.21,2268.91,11042.08,1487.0,43538.73,49678.31,89543.01,379.0,50.68,33640.22,6340.29,3433.24,25733.14,736.38,23048.39,7212.5,40.09,2768.68,13100.35,179.28,27774.91,5984.41,4098.07,2094.28,10102.01,734.86,19657.52,1612.18,62105.36,8434.94,6372.57,3052.88,343.2,1221.4,13719.12,749.89,31562.08,1613.0,65775.66,149193.75,4922.61,3620.72,8326.97,14949.38,21315.32,16813.43,19427.35,22999.43,22228.17,9523.06,8230.86,11397.76,39789.0,11546.78,26851.79,597.18,7494.12,1268.72,17164.51,50450.88,2812.64,45778.88,4079.84,5.56,11461.29,11235.77,15042.64,36.62,22336.9,18.18,7103.77,7866.58,31396.1,5.0,7854.96,26707.28,2394.5,144750.97,42097.06,18727.48,38885.33,1150.09,6680.57,8967.11,4787.5,2353.44,2775.47,110741.63,3739.92,60293.7,27142.55,14318.12,131.6,7288.85,24952.78,4578.34,6272.39,668.57,33907.73,1144.05,17833.0,14486.92,7012.96,15139.05,604.61,2486.5,593.28,5178.02,9641.7,6287.65,18550.24,5403.62,49818.68,110069.22,15118.86,17523.22,53254.65,47669.75,5755.52,10.0,-12.97,1168.82,826.83,1957.3,32919.52,8450.56,55298.75,5986.56,8270.36,3285.82,1586.44,18092.18,3390.5,7683.46,5953.16,23201.11,32093.5,6234.69,5300.18,24547.97,33663.26,3569.91,2327.3,3431.03,29162.09,17796.85,2265.51,59852.68,154.8,7526.6,418.5,888.8,445.03,47606.58,160.52,25281.09,25.31,33324.64,38088.75,116.76,413.6,21040.55,4420.86,3838.87,49785.67,16339.49,53131.45,31794.27,8459.8,43000.39,1662.8,46162.09,31435.81,9238.87,3957.39,344.55,310.0,3212.24,6278.08,3262.54,7049.03,5464.24,5627.8,1794.27,77.83,1227.23,3308.86,8310.04,8486.0,210.73,246.23,67544.61,2220.94,25101.89,29418.94,419.46,12949.7,29510.22,889.55,1450.04,11378.17,19095.31,24061.92,768.0,815.0,869.18,16496.0,28.0,18594.79,16704.78,27590.78,1725.5,2.0,4598.86,4832.54,51607.5,11209.64,11186.46,125.56,27673.38,27680.84,1485.43,14582.59,6898.06,22853.28,9278.89,46878.11,12742.0,14770.95,18.2,32855.29,16406.0,75819.38,3826.43,33527.06,9980.6,25.55,21648.3,1951.1,36065.36,21677.14,2745.18,7255.68,4187.09,479.0,12261.35,39826.54,16971.05,46254.75,1572.41,4549.29,701.54,2437.09,632.64,24891.33,7570.09,24751.15,2685.22,56220.15,240.0,629.0,3213.84,19146.89,346.38,17180.46,9413.7,10203.49,1296.31,231.04,3991.68,258.13,4493.93,7612.63,66087.18,37294.48,1965.04,75904.32,2729.66,43248.95,5628.42,5308.91,11566.17,13123.7,2453.07,8494.56,4107.88,7486.59,3230.82,29156.56,5203.71,2859.16,36369.71,3644.87,197.03,2119.46,9528.26,50241.03,43876.08,106.94,8979.43,3232.82,13948.4,4484.96,10708.62,41.0,1749.04,28445.23,10818.12,90778.09,3172.74,22606.21,37419.29,6813.25,77378.61,1774.05,21825.79,8830.63,8903.59,37911.06,20252.61,8756.67,2435.99,4412.0,6901.49,10103.38,32707.8,19891.44,9414.93,12731.47,4851.92,11028.56,2.0,12833.99,484.0,25.0,40.76,3309.0,4347.36,77368.78,4999.01,8660.06,30293.31,35837.52,2736.92,1321.12,66778.48,284.18,11825.61,1434.29,70883.76,129.5,17231.34,2281.0,606.0,911.1,9551.89,12890.22,15171.26,18617.52,5216.37,16061.89,46914.32,278.41,15118.19,28579.75,91549.17,436.99,10849.17,16176.25,67777.2,26484.05,12494.73,17944.53,65237.08,60.72,13707.85,9711.89,6029.54,20143.22,20394.55,103050.1,17955.73,65340.01,239.07,8267.0,7696.13,1518.38,16514.89,26382.87,11062.42,7844.61,897.96,39792.06,268877.83,15247.61,17579.98,32794.21,12320.57,6323.99,7605.82,198.0,39413.26,33306.54,2.5,4.0,15395.5,6189.49,53.46,32136.26,4.76,2.5,140.14,5335.87,13053.75,82.24,997.98,30.75,38701.51,105.6,9238.66,964.69,4177.72,24293.49,6202.08,1050.0,28.76,12381.77,572.76,21133.07,11354.93,45498.28,23775.89,19983.39,17823.07,33961.65,8178.72,2033.41,930.0,347.73,9469.87,3454.22,529.9,644.54,5841.0,6779.61,6611.84,12652.39,20101.83,7734.26,12044.17,3509.61,3364.5,40071.04,73208.99,35853.99,51461.43,475.2,182.42,4.97,117.0,3285.67,127.47,7888.43,4395.79,5529.95,4200.41,35.64,29149.96,1744.94,18658.4,2361.69,3126.65,36615.17,35824.41,15486.13,2893.92,2996.53,33830.58,5965.04,6308.98,5659.94,12748.09,9285.69,37818.11,11163.71,71043.9,69072.72,5408.72,7566.08,6977.85,5939.19,14384.42,44265.07,12.94,1210.24,11970.75,3692.71,7850.1,65980.37,5016.24,12808.99,2262.75,18680.92,11700.42,679.05,7018.41,53924.92,1565.0,19735.57,481.3,33696.16,19688.41,65225.27,647.92,5053.0,804.52,4861.52,108840.64,1031.0,1216.27,31718.76,3048.19,600.0,14524.86,4460.24,625.09,4731.62,25368.57,13979.9,8186.9,1396.0,2392.12,5201.51,431.83,28005.97,87.43,59276.11,7488.85,331.37,71459.63,15234.46,10607.78,368.48,978.48,80777.37,7899.01,425.36,12635.24,42369.15,7917.19,25964.87,7837.15,13923.97,3976.76,6649.25,9917.39,11605.48,5885.91,3749.46,6559.72,29905.95,2167.72,38820.59,9386.79,785.0,117.38,13338.77,8046.16,1551.5,70090.8,968.32,15.84,20802.76,37798.51,7715.64,18942.57,29671.96,17685.3,22540.27,6144.19,3808.65,16960.79,102.14,9241.59,5772.56,12.96,7241.83,26412.16,45.26,3834.31,175792.76,1271.54,1605.0,4876.76,17706.18,2797.17,34193.04,2988.34,768.9,14284.64,158.29,8753.88,14710.4,4139.6,14321.78,50789.38,22726.57,25478.41,1582.66,79738.44,15387.26,23965.92,788.79,2861.51,1974.09,11002.33,7439.68,1237.74,9386.65,27251.76,11414.81,14469.4,3548.02,35.91,901.49,42428.32,8694.37,1044.58,660.35,317.19,42348.88,2990.04,181905.35,58467.88,18299.2,1890.07,10833.3,2750.0,1676.3,716.62,11727.33,95055.71,18389.11,5131.82,7895.2,7785.61,93.09,12395.11,26322.46,12.0,14580.47,218.84,897.0,388.31,2640.13,8077.55,45340.22,6642.18,11.06,20666.0,24104.8,8413.77,2381.5,3104.47,4782.0,19622.39,1665.6,81.84,48.51,48921.67,40561.64,140.8,81054.15,61.8,7100.94,237.6,10834.68,5042.12,16106.93,24035.1,7628.74,4231.78,4067.38,38346.17,24.24,3495.84,6184.24,24231.92,9933.27,15023.16,10106.63,9836.4,818.0,576.57,17768.27,4547.26,16970.55,29594.04,72011.34,3708.68,683.62,39560.25,646.89,2.26,1653.56,255.45,90714.16,78.0,4439.04,2581.86,32497.59,7032.21,13832.72,1984.32,3362.52,15332.92,12933.18,13208.06,3628.49,3491.35,469.53,11.47,4709.72,3868.75,12852.44,10051.46,2789.4,4409.0,149.6,5562.24,1703.5,9166.26,13148.25,7904.7,5316.26,28960.34,82259.61],\"yaxis\":\"y\",\"type\":\"scattergl\"}],                        {\"template\":{\"data\":{\"bar\":[{\"error_x\":{\"color\":\"#2a3f5f\"},\"error_y\":{\"color\":\"#2a3f5f\"},\"marker\":{\"line\":{\"color\":\"#E5ECF6\",\"width\":0.5},\"pattern\":{\"fillmode\":\"overlay\",\"size\":10,\"solidity\":0.2}},\"type\":\"bar\"}],\"barpolar\":[{\"marker\":{\"line\":{\"color\":\"#E5ECF6\",\"width\":0.5},\"pattern\":{\"fillmode\":\"overlay\",\"size\":10,\"solidity\":0.2}},\"type\":\"barpolar\"}],\"carpet\":[{\"aaxis\":{\"endlinecolor\":\"#2a3f5f\",\"gridcolor\":\"white\",\"linecolor\":\"white\",\"minorgridcolor\":\"white\",\"startlinecolor\":\"#2a3f5f\"},\"baxis\":{\"endlinecolor\":\"#2a3f5f\",\"gridcolor\":\"white\",\"linecolor\":\"white\",\"minorgridcolor\":\"white\",\"startlinecolor\":\"#2a3f5f\"},\"type\":\"carpet\"}],\"choropleth\":[{\"colorbar\":{\"outlinewidth\":0,\"ticks\":\"\"},\"type\":\"choropleth\"}],\"contour\":[{\"colorbar\":{\"outlinewidth\":0,\"ticks\":\"\"},\"colorscale\":[[0.0,\"#0d0887\"],[0.1111111111111111,\"#46039f\"],[0.2222222222222222,\"#7201a8\"],[0.3333333333333333,\"#9c179e\"],[0.4444444444444444,\"#bd3786\"],[0.5555555555555556,\"#d8576b\"],[0.6666666666666666,\"#ed7953\"],[0.7777777777777778,\"#fb9f3a\"],[0.8888888888888888,\"#fdca26\"],[1.0,\"#f0f921\"]],\"type\":\"contour\"}],\"contourcarpet\":[{\"colorbar\":{\"outlinewidth\":0,\"ticks\":\"\"},\"type\":\"contourcarpet\"}],\"heatmap\":[{\"colorbar\":{\"outlinewidth\":0,\"ticks\":\"\"},\"colorscale\":[[0.0,\"#0d0887\"],[0.1111111111111111,\"#46039f\"],[0.2222222222222222,\"#7201a8\"],[0.3333333333333333,\"#9c179e\"],[0.4444444444444444,\"#bd3786\"],[0.5555555555555556,\"#d8576b\"],[0.6666666666666666,\"#ed7953\"],[0.7777777777777778,\"#fb9f3a\"],[0.8888888888888888,\"#fdca26\"],[1.0,\"#f0f921\"]],\"type\":\"heatmap\"}],\"heatmapgl\":[{\"colorbar\":{\"outlinewidth\":0,\"ticks\":\"\"},\"colorscale\":[[0.0,\"#0d0887\"],[0.1111111111111111,\"#46039f\"],[0.2222222222222222,\"#7201a8\"],[0.3333333333333333,\"#9c179e\"],[0.4444444444444444,\"#bd3786\"],[0.5555555555555556,\"#d8576b\"],[0.6666666666666666,\"#ed7953\"],[0.7777777777777778,\"#fb9f3a\"],[0.8888888888888888,\"#fdca26\"],[1.0,\"#f0f921\"]],\"type\":\"heatmapgl\"}],\"histogram\":[{\"marker\":{\"pattern\":{\"fillmode\":\"overlay\",\"size\":10,\"solidity\":0.2}},\"type\":\"histogram\"}],\"histogram2d\":[{\"colorbar\":{\"outlinewidth\":0,\"ticks\":\"\"},\"colorscale\":[[0.0,\"#0d0887\"],[0.1111111111111111,\"#46039f\"],[0.2222222222222222,\"#7201a8\"],[0.3333333333333333,\"#9c179e\"],[0.4444444444444444,\"#bd3786\"],[0.5555555555555556,\"#d8576b\"],[0.6666666666666666,\"#ed7953\"],[0.7777777777777778,\"#fb9f3a\"],[0.8888888888888888,\"#fdca26\"],[1.0,\"#f0f921\"]],\"type\":\"histogram2d\"}],\"histogram2dcontour\":[{\"colorbar\":{\"outlinewidth\":0,\"ticks\":\"\"},\"colorscale\":[[0.0,\"#0d0887\"],[0.1111111111111111,\"#46039f\"],[0.2222222222222222,\"#7201a8\"],[0.3333333333333333,\"#9c179e\"],[0.4444444444444444,\"#bd3786\"],[0.5555555555555556,\"#d8576b\"],[0.6666666666666666,\"#ed7953\"],[0.7777777777777778,\"#fb9f3a\"],[0.8888888888888888,\"#fdca26\"],[1.0,\"#f0f921\"]],\"type\":\"histogram2dcontour\"}],\"mesh3d\":[{\"colorbar\":{\"outlinewidth\":0,\"ticks\":\"\"},\"type\":\"mesh3d\"}],\"parcoords\":[{\"line\":{\"colorbar\":{\"outlinewidth\":0,\"ticks\":\"\"}},\"type\":\"parcoords\"}],\"pie\":[{\"automargin\":true,\"type\":\"pie\"}],\"scatter\":[{\"marker\":{\"colorbar\":{\"outlinewidth\":0,\"ticks\":\"\"}},\"type\":\"scatter\"}],\"scatter3d\":[{\"line\":{\"colorbar\":{\"outlinewidth\":0,\"ticks\":\"\"}},\"marker\":{\"colorbar\":{\"outlinewidth\":0,\"ticks\":\"\"}},\"type\":\"scatter3d\"}],\"scattercarpet\":[{\"marker\":{\"colorbar\":{\"outlinewidth\":0,\"ticks\":\"\"}},\"type\":\"scattercarpet\"}],\"scattergeo\":[{\"marker\":{\"colorbar\":{\"outlinewidth\":0,\"ticks\":\"\"}},\"type\":\"scattergeo\"}],\"scattergl\":[{\"marker\":{\"colorbar\":{\"outlinewidth\":0,\"ticks\":\"\"}},\"type\":\"scattergl\"}],\"scattermapbox\":[{\"marker\":{\"colorbar\":{\"outlinewidth\":0,\"ticks\":\"\"}},\"type\":\"scattermapbox\"}],\"scatterpolar\":[{\"marker\":{\"colorbar\":{\"outlinewidth\":0,\"ticks\":\"\"}},\"type\":\"scatterpolar\"}],\"scatterpolargl\":[{\"marker\":{\"colorbar\":{\"outlinewidth\":0,\"ticks\":\"\"}},\"type\":\"scatterpolargl\"}],\"scatterternary\":[{\"marker\":{\"colorbar\":{\"outlinewidth\":0,\"ticks\":\"\"}},\"type\":\"scatterternary\"}],\"surface\":[{\"colorbar\":{\"outlinewidth\":0,\"ticks\":\"\"},\"colorscale\":[[0.0,\"#0d0887\"],[0.1111111111111111,\"#46039f\"],[0.2222222222222222,\"#7201a8\"],[0.3333333333333333,\"#9c179e\"],[0.4444444444444444,\"#bd3786\"],[0.5555555555555556,\"#d8576b\"],[0.6666666666666666,\"#ed7953\"],[0.7777777777777778,\"#fb9f3a\"],[0.8888888888888888,\"#fdca26\"],[1.0,\"#f0f921\"]],\"type\":\"surface\"}],\"table\":[{\"cells\":{\"fill\":{\"color\":\"#EBF0F8\"},\"line\":{\"color\":\"white\"}},\"header\":{\"fill\":{\"color\":\"#C8D4E3\"},\"line\":{\"color\":\"white\"}},\"type\":\"table\"}]},\"layout\":{\"annotationdefaults\":{\"arrowcolor\":\"#2a3f5f\",\"arrowhead\":0,\"arrowwidth\":1},\"autotypenumbers\":\"strict\",\"coloraxis\":{\"colorbar\":{\"outlinewidth\":0,\"ticks\":\"\"}},\"colorscale\":{\"diverging\":[[0,\"#8e0152\"],[0.1,\"#c51b7d\"],[0.2,\"#de77ae\"],[0.3,\"#f1b6da\"],[0.4,\"#fde0ef\"],[0.5,\"#f7f7f7\"],[0.6,\"#e6f5d0\"],[0.7,\"#b8e186\"],[0.8,\"#7fbc41\"],[0.9,\"#4d9221\"],[1,\"#276419\"]],\"sequential\":[[0.0,\"#0d0887\"],[0.1111111111111111,\"#46039f\"],[0.2222222222222222,\"#7201a8\"],[0.3333333333333333,\"#9c179e\"],[0.4444444444444444,\"#bd3786\"],[0.5555555555555556,\"#d8576b\"],[0.6666666666666666,\"#ed7953\"],[0.7777777777777778,\"#fb9f3a\"],[0.8888888888888888,\"#fdca26\"],[1.0,\"#f0f921\"]],\"sequentialminus\":[[0.0,\"#0d0887\"],[0.1111111111111111,\"#46039f\"],[0.2222222222222222,\"#7201a8\"],[0.3333333333333333,\"#9c179e\"],[0.4444444444444444,\"#bd3786\"],[0.5555555555555556,\"#d8576b\"],[0.6666666666666666,\"#ed7953\"],[0.7777777777777778,\"#fb9f3a\"],[0.8888888888888888,\"#fdca26\"],[1.0,\"#f0f921\"]]},\"colorway\":[\"#636efa\",\"#EF553B\",\"#00cc96\",\"#ab63fa\",\"#FFA15A\",\"#19d3f3\",\"#FF6692\",\"#B6E880\",\"#FF97FF\",\"#FECB52\"],\"font\":{\"color\":\"#2a3f5f\"},\"geo\":{\"bgcolor\":\"white\",\"lakecolor\":\"white\",\"landcolor\":\"#E5ECF6\",\"showlakes\":true,\"showland\":true,\"subunitcolor\":\"white\"},\"hoverlabel\":{\"align\":\"left\"},\"hovermode\":\"closest\",\"mapbox\":{\"style\":\"light\"},\"paper_bgcolor\":\"white\",\"plot_bgcolor\":\"#E5ECF6\",\"polar\":{\"angularaxis\":{\"gridcolor\":\"white\",\"linecolor\":\"white\",\"ticks\":\"\"},\"bgcolor\":\"#E5ECF6\",\"radialaxis\":{\"gridcolor\":\"white\",\"linecolor\":\"white\",\"ticks\":\"\"}},\"scene\":{\"xaxis\":{\"backgroundcolor\":\"#E5ECF6\",\"gridcolor\":\"white\",\"gridwidth\":2,\"linecolor\":\"white\",\"showbackground\":true,\"ticks\":\"\",\"zerolinecolor\":\"white\"},\"yaxis\":{\"backgroundcolor\":\"#E5ECF6\",\"gridcolor\":\"white\",\"gridwidth\":2,\"linecolor\":\"white\",\"showbackground\":true,\"ticks\":\"\",\"zerolinecolor\":\"white\"},\"zaxis\":{\"backgroundcolor\":\"#E5ECF6\",\"gridcolor\":\"white\",\"gridwidth\":2,\"linecolor\":\"white\",\"showbackground\":true,\"ticks\":\"\",\"zerolinecolor\":\"white\"}},\"shapedefaults\":{\"line\":{\"color\":\"#2a3f5f\"}},\"ternary\":{\"aaxis\":{\"gridcolor\":\"white\",\"linecolor\":\"white\",\"ticks\":\"\"},\"baxis\":{\"gridcolor\":\"white\",\"linecolor\":\"white\",\"ticks\":\"\"},\"bgcolor\":\"#E5ECF6\",\"caxis\":{\"gridcolor\":\"white\",\"linecolor\":\"white\",\"ticks\":\"\"}},\"title\":{\"x\":0.05},\"xaxis\":{\"automargin\":true,\"gridcolor\":\"white\",\"linecolor\":\"white\",\"ticks\":\"\",\"title\":{\"standoff\":15},\"zerolinecolor\":\"white\",\"zerolinewidth\":2},\"yaxis\":{\"automargin\":true,\"gridcolor\":\"white\",\"linecolor\":\"white\",\"ticks\":\"\",\"title\":{\"standoff\":15},\"zerolinecolor\":\"white\",\"zerolinewidth\":2}}},\"xaxis\":{\"anchor\":\"y\",\"domain\":[0.0,1.0],\"title\":{\"text\":\"Fuel_Price\"}},\"yaxis\":{\"anchor\":\"x\",\"domain\":[0.0,1.0],\"title\":{\"text\":\"Weekly_Sales\"}},\"legend\":{\"tracegroupgap\":0},\"margin\":{\"t\":60}},                        {\"responsive\": true}                    ).then(function(){\n",
       "                            \n",
       "var gd = document.getElementById('0a710202-3847-4185-8360-8dec26a5316f');\n",
       "var x = new MutationObserver(function (mutations, observer) {{\n",
       "        var display = window.getComputedStyle(gd).display;\n",
       "        if (!display || display === 'none') {{\n",
       "            console.log([gd, 'removed!']);\n",
       "            Plotly.purge(gd);\n",
       "            observer.disconnect();\n",
       "        }}\n",
       "}});\n",
       "\n",
       "// Listen for the removal of the full notebook cells\n",
       "var notebookContainer = gd.closest('#notebook-container');\n",
       "if (notebookContainer) {{\n",
       "    x.observe(notebookContainer, {childList: true});\n",
       "}}\n",
       "\n",
       "// Listen for the clearing of the current output cell\n",
       "var outputEl = gd.closest('.output');\n",
       "if (outputEl) {{\n",
       "    x.observe(outputEl, {childList: true});\n",
       "}}\n",
       "\n",
       "                        })                };                            </script>        </div>\n",
       "</body>\n",
       "</html>"
      ]
     },
     "metadata": {},
     "output_type": "display_data"
    }
   ],
   "source": [
    "px.scatter(raw_df.sample(2000), x='Fuel_Price',y='Weekly_Sales')"
   ]
  },
  {
   "cell_type": "markdown",
   "metadata": {
    "id": "T50BwUDJ6BtP"
   },
   "source": [
    "### Holiday vs Sales"
   ]
  },
  {
   "cell_type": "code",
   "execution_count": null,
   "metadata": {
    "colab": {
     "base_uri": "https://localhost:8080/",
     "height": 413
    },
    "executionInfo": {
     "elapsed": 17649,
     "status": "ok",
     "timestamp": 1667758272429,
     "user": {
      "displayName": "Pankaj Thakur",
      "userId": "05146800060821315169"
     },
     "user_tz": -330
    },
    "id": "yEMU1PIXAMN5",
    "outputId": "9371e769-395b-4d9d-867d-02fbf145e7d2"
   },
   "outputs": [
    {
     "data": {
      "text/plain": [
       "<matplotlib.axes._subplots.AxesSubplot at 0x7fe2987f0a10>"
      ]
     },
     "execution_count": 42,
     "metadata": {},
     "output_type": "execute_result"
    },
    {
     "data": {
      "image/png": "[encoded data removed]",
      "text/plain": [
       "<Figure size 720x432 with 1 Axes>"
      ]
     },
     "metadata": {
      "needs_background": "light"
     },
     "output_type": "display_data"
    }
   ],
   "source": [
    "sns.barplot(data=raw_df, x='IsHoliday', y='Weekly_Sales')"
   ]
  },
  {
   "cell_type": "markdown",
   "metadata": {
    "id": "VG71HA6-6J55"
   },
   "source": [
    "Insights:\n",
    "From the chart we can see there is more sales on holiday than usual days"
   ]
  },
  {
   "cell_type": "code",
   "execution_count": null,
   "metadata": {
    "colab": {
     "base_uri": "https://localhost:8080/",
     "height": 413
    },
    "executionInfo": {
     "elapsed": 6450,
     "status": "ok",
     "timestamp": 1667758278844,
     "user": {
      "displayName": "Pankaj Thakur",
      "userId": "05146800060821315169"
     },
     "user_tz": -330
    },
    "id": "DIK6OWBgA3GR",
    "outputId": "a66968dd-49ef-4618-e601-ceaa4e43246e"
   },
   "outputs": [
    {
     "data": {
      "text/plain": [
       "<matplotlib.axes._subplots.AxesSubplot at 0x7fe2981917d0>"
      ]
     },
     "execution_count": 43,
     "metadata": {},
     "output_type": "execute_result"
    },
    {
     "data": {
      "image/png": "[encoded data removed]",
      "text/plain": [
       "<Figure size 720x432 with 1 Axes>"
      ]
     },
     "metadata": {
      "needs_background": "light"
     },
     "output_type": "display_data"
    }
   ],
   "source": [
    "sns.barplot(data=raw_df, x='Year', y='Weekly_Sales')"
   ]
  },
  {
   "cell_type": "code",
   "execution_count": null,
   "metadata": {
    "colab": {
     "base_uri": "https://localhost:8080/",
     "height": 413
    },
    "executionInfo": {
     "elapsed": 7829,
     "status": "ok",
     "timestamp": 1667758286660,
     "user": {
      "displayName": "Pankaj Thakur",
      "userId": "05146800060821315169"
     },
     "user_tz": -330
    },
    "id": "iWB6Jc_nksK5",
    "outputId": "0b07ced0-6e4d-4dfd-8839-bd3d1625be78"
   },
   "outputs": [
    {
     "data": {
      "text/plain": [
       "<matplotlib.axes._subplots.AxesSubplot at 0x7fe298112490>"
      ]
     },
     "execution_count": 44,
     "metadata": {},
     "output_type": "execute_result"
    },
    {
     "data": {
      "image/png": "[encoded data removed]",
      "text/plain": [
       "<Figure size 720x432 with 1 Axes>"
      ]
     },
     "metadata": {
      "needs_background": "light"
     },
     "output_type": "display_data"
    }
   ],
   "source": [
    "sns.barplot(data=raw_df, x='Week', y='Weekly_Sales')"
   ]
  },
  {
   "cell_type": "code",
   "execution_count": null,
   "metadata": {
    "colab": {
     "base_uri": "https://localhost:8080/",
     "height": 413
    },
    "executionInfo": {
     "elapsed": 5611,
     "status": "ok",
     "timestamp": 1667758292263,
     "user": {
      "displayName": "Pankaj Thakur",
      "userId": "05146800060821315169"
     },
     "user_tz": -330
    },
    "id": "r_rJ2fdtk8uf",
    "outputId": "16a6daa7-e259-4fa2-fdfd-109c2c9efb63"
   },
   "outputs": [
    {
     "data": {
      "text/plain": [
       "<matplotlib.axes._subplots.AxesSubplot at 0x7fe297f36510>"
      ]
     },
     "execution_count": 45,
     "metadata": {},
     "output_type": "execute_result"
    },
    {
     "data": {
      "image/png": "[encoded data removed]",
      "text/plain": [
       "<Figure size 720x432 with 1 Axes>"
      ]
     },
     "metadata": {
      "needs_background": "light"
     },
     "output_type": "display_data"
    }
   ],
   "source": [
    "sns.barplot(data=raw_df, x='Month', y='Weekly_Sales')"
   ]
  },
  {
   "cell_type": "code",
   "execution_count": null,
   "metadata": {
    "colab": {
     "base_uri": "https://localhost:8080/",
     "height": 88
    },
    "executionInfo": {
     "elapsed": 3256,
     "status": "ok",
     "timestamp": 1667758295505,
     "user": {
      "displayName": "Pankaj Thakur",
      "userId": "05146800060821315169"
     },
     "user_tz": -330
    },
    "id": "RFK7Pjqhlc2U",
    "outputId": "2cac8eab-b0c7-4483-e268-fe63ca29b623"
   },
   "outputs": [
    {
     "name": "stdout",
     "output_type": "stream",
     "text": [
      "[jovian] Detected Colab notebook...\u001b[0m\n",
      "[jovian] Uploading colab notebook to Jovian...\u001b[0m\n",
      "Committed successfully! https://jovian.ai/pankajthakur3999/machine-learning-project\n"
     ]
    },
    {
     "data": {
      "application/vnd.google.colaboratory.intrinsic+json": {
       "type": "string"
      },
      "text/plain": [
       "'https://jovian.ai/pankajthakur3999/machine-learning-project'"
      ]
     },
     "execution_count": 46,
     "metadata": {},
     "output_type": "execute_result"
    }
   ],
   "source": [
    "jovian.commit()"
   ]
  },
  {
   "cell_type": "markdown",
   "metadata": {
    "id": "muivfotQmKvj"
   },
   "source": [
    "### Extract Inputs and Outputs"
   ]
  },
  {
   "cell_type": "code",
   "execution_count": null,
   "metadata": {
    "id": "7KLHzFFuOF-O"
   },
   "outputs": [],
   "source": [
    "raw_df = raw_df.drop(['Date', 'Temperature','Fuel_Price', 'Type', 'MarkDown1', 'MarkDown2', 'MarkDown3',\n",
    "             'MarkDown4', 'MarkDown5', 'CPI', 'Unemployment', 'Month', 'Day' ], axis=1)\n",
    "\n",
    "test_df = test_df.drop(['Date', 'Temperature','Fuel_Price', 'Type', 'MarkDown1', 'MarkDown2', 'MarkDown3',\n",
    "             'MarkDown4', 'MarkDown5', 'CPI', 'Unemployment', 'Month', 'Day' ], axis=1)"
   ]
  },
  {
   "cell_type": "code",
   "execution_count": null,
   "metadata": {
    "id": "rwCxxlCfON5K"
   },
   "outputs": [],
   "source": [
    "# Identify input and target columns\n",
    "\n",
    "input_cols = raw_df.columns.to_list()\n",
    "input_cols.remove('Weekly_Sales')\n",
    "target_col = 'Weekly_Sales'\n",
    "\n",
    "inputs_df = raw_df[input_cols].copy()\n",
    "targets = raw_df[target_col].copy()"
   ]
  },
  {
   "cell_type": "code",
   "execution_count": null,
   "metadata": {
    "id": "x8UvdyL8qGEd"
   },
   "outputs": [],
   "source": [
    "!pip install numpy --quiet"
   ]
  },
  {
   "cell_type": "code",
   "execution_count": null,
   "metadata": {
    "id": "QIfNVC1wqIAB"
   },
   "outputs": [],
   "source": [
    "import numpy as np"
   ]
  },
  {
   "cell_type": "code",
   "execution_count": null,
   "metadata": {
    "id": "e1oASYGMNN4F"
   },
   "outputs": [],
   "source": [
    "# Scale the values\n",
    "\n",
    "from sklearn.preprocessing import MinMaxScaler\n",
    "\n",
    "scaler = MinMaxScaler().fit(raw_df[input_cols])\n",
    "\n",
    "inputs_df[input_cols] = scaler.transform(inputs_df[input_cols])\n",
    "test_df[input_cols] = scaler.transform(test_df[input_cols])"
   ]
  },
  {
   "cell_type": "code",
   "execution_count": null,
   "metadata": {
    "id": "YVfqMKbpOySm"
   },
   "outputs": [],
   "source": [
    "# Create training and validation sets\n",
    "\n",
    "from sklearn.model_selection import train_test_split\n",
    "\n",
    "train_inputs, val_inputs, train_targets, val_targets = train_test_split(\n",
    "    inputs_df, targets, test_size=0.3, random_state=42)"
   ]
  },
  {
   "cell_type": "markdown",
   "metadata": {
    "id": "vQnrolddb_Y5"
   },
   "source": [
    "### Evaluation\n",
    "The competition is evaluated on the weighted mean absolute error(WMAE), so we will define a function which calculates this error for the evaluation of different machine learning models\n",
    "![](https://i.imgur.com/Yzk3dow.png)"
   ]
  },
  {
   "cell_type": "code",
   "execution_count": null,
   "metadata": {
    "id": "w5MzejkPDnE8"
   },
   "outputs": [],
   "source": [
    "# Define the function to evaluate the models\n",
    "\n",
    "def WMAE(df, targets, predictions):\n",
    "    weights = df.IsHoliday.apply(lambda x: 5 if x else 1)\n",
    "    return np.round(np.sum(weights*abs(targets-predictions))/(np.sum(weights)), 2)"
   ]
  },
  {
   "cell_type": "markdown",
   "metadata": {
    "id": "ohv94cH_6Szp"
   },
   "source": [
    "### Linear Regression using Scikit-learn\n",
    "\n",
    "In practice, you'll never need to implement either of the above methods yourself. You can use a library like `scikit-learn` to do this for you. "
   ]
  },
  {
   "cell_type": "code",
   "execution_count": null,
   "metadata": {
    "id": "fX9pMMhT6-CH"
   },
   "outputs": [],
   "source": [
    "!pip install scikit-learn --quiet"
   ]
  },
  {
   "cell_type": "code",
   "execution_count": null,
   "metadata": {
    "colab": {
     "base_uri": "https://localhost:8080/"
    },
    "executionInfo": {
     "elapsed": 41,
     "status": "ok",
     "timestamp": 1667759822582,
     "user": {
      "displayName": "Pankaj Thakur",
      "userId": "05146800060821315169"
     },
     "user_tz": -330
    },
    "id": "7CrySr39Epc9",
    "outputId": "2cb22085-7fb3-4902-8881-77a9ae9447e2"
   },
   "outputs": [
    {
     "name": "stdout",
     "output_type": "stream",
     "text": [
      "The WMAE loss for the training set is  15867.95.\n",
      "The WMAE loss for the validation set is  15995.4.\n"
     ]
    }
   ],
   "source": [
    "from sklearn.linear_model import LinearRegression\n",
    "\n",
    "# Create and train the model\n",
    "model = LinearRegression().fit(X_train, train_targets)\n",
    "\n",
    "# Generate predictions on training data\n",
    "train_preds = model.predict(X_train)\n",
    "\n",
    "# Compute WMAE on traing data\n",
    "train_wmae = WMAE(X_train, train_targets, train_preds)\n",
    "print('The WMAE loss for the training set is  {}.'.format(train_wmae))\n",
    "\n",
    "# Generate predictions on validation data\n",
    "val_preds = model.predict(X_val)\n",
    "\n",
    "# Compute WMAE on validation data\n",
    "val_wmae = WMAE(X_val, val_targets, val_preds)\n",
    "print('The WMAE loss for the validation set is  {}.'.format(val_wmae))"
   ]
  },
  {
   "cell_type": "markdown",
   "metadata": {
    "id": "QY7XjzvEQYOb"
   },
   "source": [
    "## Decisison Tree"
   ]
  },
  {
   "cell_type": "code",
   "execution_count": null,
   "metadata": {
    "colab": {
     "base_uri": "https://localhost:8080/"
    },
    "executionInfo": {
     "elapsed": 1640,
     "status": "ok",
     "timestamp": 1667760242589,
     "user": {
      "displayName": "Pankaj Thakur",
      "userId": "05146800060821315169"
     },
     "user_tz": -330
    },
    "id": "FLBRLKuGQXhW",
    "outputId": "7e1a1bcd-543d-4e4b-c352-485bad489448"
   },
   "outputs": [
    {
     "name": "stdout",
     "output_type": "stream",
     "text": [
      "The WMAE loss for the training set is  13886.47.\n",
      "The WMAE loss for the validation set is  14595.64.\n"
     ]
    }
   ],
   "source": [
    "from sklearn.tree import DecisionTreeRegressor\n",
    "\n",
    "tree = DecisionTreeRegressor()\n",
    "\n",
    "tree.fit(train_inputs, train_targets)\n",
    "\n",
    "tree_train_preds = tree.predict(train_inputs)\n",
    "\n",
    "# Compute WMAE on traing data\n",
    "tree_train_wmae = WMAE(train_inputs, train_targets, tree_train_preds)\n",
    "print('The WMAE loss for the training set is  {}.'.format(tree_train_wmae))\n",
    "\n",
    "\n",
    "# Compute WMAE on validation data\n",
    "tree_val_preds = tree.predict(val_inputs)\n",
    "tree_val_wmae = WMAE(val_inputs, val_targets, tree_val_preds)\n",
    "print('The WMAE loss for the validation set is  {}.'.format(tree_val_wmae))"
   ]
  },
  {
   "cell_type": "code",
   "execution_count": null,
   "metadata": {
    "colab": {
     "base_uri": "https://localhost:8080/",
     "height": 634
    },
    "executionInfo": {
     "elapsed": 1096,
     "status": "ok",
     "timestamp": 1667760267372,
     "user": {
      "displayName": "Pankaj Thakur",
      "userId": "05146800060821315169"
     },
     "user_tz": -330
    },
    "id": "deWukV-zQhG1",
    "outputId": "147f3548-1d07-4086-ca75-17f7f03073ef"
   },
   "outputs": [
    {
     "data": {
      "image/png": "[encoded data removed]",
      "text/plain": [
       "<Figure size 1152x720 with 1 Axes>"
      ]
     },
     "metadata": {
      "needs_background": "light"
     },
     "output_type": "display_data"
    }
   ],
   "source": [
    "importance_df = pd.DataFrame({\n",
    "    'feature': train_inputs.columns,\n",
    "    'importance': tree.feature_importances_\n",
    "}).sort_values('importance', ascending=False)\n",
    "\n",
    "plt.figure(figsize=(16,10))\n",
    "plt.title('Feature Importance')\n",
    "sns.barplot(data=importance_df, x='importance', y='feature');"
   ]
  },
  {
   "cell_type": "markdown",
   "metadata": {
    "id": "adYDXHTeQpNs"
   },
   "source": [
    "## Random Forest"
   ]
  },
  {
   "cell_type": "code",
   "execution_count": null,
   "metadata": {
    "colab": {
     "base_uri": "https://localhost:8080/"
    },
    "executionInfo": {
     "elapsed": 56016,
     "status": "ok",
     "timestamp": 1667760362388,
     "user": {
      "displayName": "Pankaj Thakur",
      "userId": "05146800060821315169"
     },
     "user_tz": -330
    },
    "id": "7mhQ7_IUQoYW",
    "outputId": "a06d1b55-edff-48e1-81d4-48bd6424142e"
   },
   "outputs": [
    {
     "name": "stdout",
     "output_type": "stream",
     "text": [
      "The WMAE loss for the training set is  13065.94.\n",
      "The WMAE loss for the validation set is  13967.86.\n"
     ]
    }
   ],
   "source": [
    "from sklearn.ensemble import RandomForestRegressor\n",
    "\n",
    "# Create the model\n",
    "rf1 = RandomForestRegressor(n_jobs=-1, random_state=42)\n",
    "\n",
    "# Fit the model\n",
    "rf1.fit(train_inputs, train_targets)\n",
    "\n",
    "rf1_train_preds = rf1.predict(train_inputs)\n",
    "\n",
    "# Compute WMAE on traing data\n",
    "rf1_train_wmae = WMAE(train_inputs, train_targets, rf1_train_preds)\n",
    "print('The WMAE loss for the training set is  {}.'.format(rf1_train_wmae))\n",
    "\n",
    "rf1_val_preds = rf1.predict(val_inputs)\n",
    "\n",
    "# Compute WMAE on validation data\n",
    "rf1_val_wmae = WMAE(val_inputs, val_targets, rf1_val_preds)\n",
    "print('The WMAE loss for the validation set is  {}.'.format(rf1_val_wmae))"
   ]
  },
  {
   "cell_type": "code",
   "execution_count": null,
   "metadata": {
    "colab": {
     "base_uri": "https://localhost:8080/",
     "height": 634
    },
    "executionInfo": {
     "elapsed": 27,
     "status": "ok",
     "timestamp": 1667760362390,
     "user": {
      "displayName": "Pankaj Thakur",
      "userId": "05146800060821315169"
     },
     "user_tz": -330
    },
    "id": "0AH85xGAQuP1",
    "outputId": "b50efb09-dbaa-4b0f-bd54-ea788bed4ec2"
   },
   "outputs": [
    {
     "data": {
      "image/png": "[encoded data removed]",
      "text/plain": [
       "<Figure size 1152x720 with 1 Axes>"
      ]
     },
     "metadata": {
      "needs_background": "light"
     },
     "output_type": "display_data"
    }
   ],
   "source": [
    "importance_df = pd.DataFrame({\n",
    "    'feature': train_inputs.columns,\n",
    "    'importance': rf1.feature_importances_\n",
    "}).sort_values('importance', ascending=False)\n",
    "\n",
    "plt.figure(figsize=(16,10))\n",
    "plt.title('Feature Importance')\n",
    "sns.barplot(data=importance_df, x='importance', y='feature');"
   ]
  },
  {
   "cell_type": "markdown",
   "metadata": {
    "id": "70lip5LvRzhU"
   },
   "source": [
    "## Tunning of Random Forest\n",
    "Let's define two functions which assist the tuning of hyper parameters.\n",
    "\n",
    "'test_params' takes the parameters of Random Forest and train the model. After that it make predictions of the training and validation and return weighted mean averaged error for the traing and validation data.\n",
    "\n",
    "'test_param_and_plot' takes the parameter name and the range of values to be tested. For these values 'test_params' is called inside the funtion to train and evaluate the model. Finally the training and validation errors are plotted against the tested values."
   ]
  },
  {
   "cell_type": "code",
   "execution_count": null,
   "metadata": {
    "id": "fktB5DLBR7I0"
   },
   "outputs": [],
   "source": [
    "def test_params(**params):  \n",
    "    model = RandomForestRegressor(random_state=42, n_jobs=-1, **params).fit(train_inputs, train_targets)\n",
    "    train_wmae = WMAE(train_inputs, train_targets, model.predict(train_inputs))\n",
    "    val_wmae = WMAE(val_inputs, val_targets, model.predict(val_inputs))\n",
    "    return train_wmae, val_wmae"
   ]
  },
  {
   "cell_type": "code",
   "execution_count": null,
   "metadata": {
    "id": "Lylozqi1R-iV"
   },
   "outputs": [],
   "source": [
    "def test_param_and_plot(param_name, param_values):\n",
    "    train_errors, val_errors = [], [] \n",
    "    for value in param_values:\n",
    "        params = {param_name: value}\n",
    "        train_wmae, val_wmae = test_params(**params)\n",
    "        train_errors.append(train_wmae)\n",
    "        val_errors.append(val_wmae)\n",
    "    plt.figure(figsize=(16,8))\n",
    "    plt.title('Overfitting curve: ' + param_name)\n",
    "    plt.plot(param_values, train_errors, 'b-o')\n",
    "    plt.plot(param_values, val_errors, 'r-o')\n",
    "    plt.xlabel(param_name)\n",
    "    plt.ylabel('WMAE')\n",
    "    plt.legend(['Training', 'Validation'])"
   ]
  },
  {
   "cell_type": "code",
   "execution_count": null,
   "metadata": {
    "colab": {
     "base_uri": "https://localhost:8080/",
     "height": 525
    },
    "executionInfo": {
     "elapsed": 305805,
     "status": "ok",
     "timestamp": 1667760966199,
     "user": {
      "displayName": "Pankaj Thakur",
      "userId": "05146800060821315169"
     },
     "user_tz": -330
    },
    "id": "6WlMQz6NSBJc",
    "outputId": "9ad8d5f4-fdcb-4356-932d-576829075381"
   },
   "outputs": [
    {
     "data": {
      "image/png": "[encoded data removed]",
      "text/plain": [
       "<Figure size 1152x576 with 1 Axes>"
      ]
     },
     "metadata": {
      "needs_background": "light"
     },
     "output_type": "display_data"
    }
   ],
   "source": [
    "test_param_and_plot('max_depth', [5, 10, 15, 20, 25, 30, 35])"
   ]
  },
  {
   "cell_type": "code",
   "execution_count": null,
   "metadata": {
    "colab": {
     "base_uri": "https://localhost:8080/",
     "height": 525
    },
    "executionInfo": {
     "elapsed": 477911,
     "status": "ok",
     "timestamp": 1667761444091,
     "user": {
      "displayName": "Pankaj Thakur",
      "userId": "05146800060821315169"
     },
     "user_tz": -330
    },
    "id": "WvJLSGrlSBMV",
    "outputId": "473d1737-db30-4484-8216-a34e6aeb7ea4"
   },
   "outputs": [
    {
     "data": {
      "image/png": "[encoded data removed]",
      "text/plain": [
       "<Figure size 1152x576 with 1 Axes>"
      ]
     },
     "metadata": {
      "needs_background": "light"
     },
     "output_type": "display_data"
    }
   ],
   "source": [
    "test_param_and_plot('min_samples_split', [2, 3, 4, 5, 6, 7, 8, 9, 10])"
   ]
  },
  {
   "cell_type": "code",
   "execution_count": null,
   "metadata": {
    "colab": {
     "base_uri": "https://localhost:8080/",
     "height": 525
    },
    "executionInfo": {
     "elapsed": 132311,
     "status": "ok",
     "timestamp": 1667761576390,
     "user": {
      "displayName": "Pankaj Thakur",
      "userId": "05146800060821315169"
     },
     "user_tz": -330
    },
    "id": "LcKGywg1SBQn",
    "outputId": "04f0d7c8-a782-41ee-ad50-88da525a89ed"
   },
   "outputs": [
    {
     "data": {
      "image/png": "[encoded data removed]",
      "text/plain": [
       "<Figure size 1152x576 with 1 Axes>"
      ]
     },
     "metadata": {
      "needs_background": "light"
     },
     "output_type": "display_data"
    }
   ],
   "source": [
    "test_param_and_plot('max_samples', [0.2, 0.4, 0.6, 0.8, 1])"
   ]
  },
  {
   "cell_type": "markdown",
   "metadata": {
    "id": "yBQAlNnLSelM"
   },
   "source": [
    "From the above testing of parameters, the follwoing values of parameters were found to be the best which minimizes the validation error.\n",
    "\n",
    "max_depth: 30\n",
    "\n",
    "min_samples_split: 2\n",
    "\n",
    "max_samples: 0.8"
   ]
  },
  {
   "cell_type": "markdown",
   "metadata": {
    "id": "7qc5KrexSlnU"
   },
   "source": [
    "These parameters were tuned one at a time but they are somehow interrelated and effect eachother but from this I got a rough idea where the optimal values lie. Further after simultaneously varying the parameters by making some educated guesses, I found the following parameters which give better performance than the untuned base model\n",
    "\n",
    "max_depth: 30\n",
    "\n",
    "min_samples_split: 2\n",
    "\n",
    "max_samples: 0.95"
   ]
  },
  {
   "cell_type": "code",
   "execution_count": null,
   "metadata": {
    "colab": {
     "base_uri": "https://localhost:8080/"
    },
    "executionInfo": {
     "elapsed": 61187,
     "status": "ok",
     "timestamp": 1667761637549,
     "user": {
      "displayName": "Pankaj Thakur",
      "userId": "05146800060821315169"
     },
     "user_tz": -330
    },
    "id": "duzgGHvqSkyv",
    "outputId": "ada5dc53-0447-45c6-9c53-df992b66f8d2"
   },
   "outputs": [
    {
     "name": "stdout",
     "output_type": "stream",
     "text": [
      "The WMAE loss for the training set is  13064.13.\n",
      "The WMAE loss for the validation set is  13963.6.\n"
     ]
    }
   ],
   "source": [
    "from sklearn.ensemble import RandomForestRegressor\n",
    "\n",
    "# Create the model\n",
    "rf1 = RandomForestRegressor(n_jobs=-1, max_depth=30, min_samples_split=2, max_samples=0.95,  random_state=42)\n",
    "\n",
    "# Fit the model\n",
    "rf1.fit(train_inputs, train_targets)\n",
    "\n",
    "rf1_train_preds = rf1.predict(train_inputs)\n",
    "\n",
    "# Compute WMAE on traing data\n",
    "rf1_train_wmae = WMAE(train_inputs, train_targets, rf1_train_preds)\n",
    "print('The WMAE loss for the training set is  {}.'.format(rf1_train_wmae))\n",
    "\n",
    "rf1_val_preds = rf1.predict(val_inputs)\n",
    "\n",
    "# Compute WMAE on validation data\n",
    "rf1_val_wmae = WMAE(val_inputs, val_targets, rf1_val_preds)\n",
    "print('The WMAE loss for the validation set is  {}.'.format(rf1_val_wmae))"
   ]
  },
  {
   "cell_type": "markdown",
   "metadata": {
    "id": "os-7C9T_Unn9"
   },
   "source": [
    "## Make Predictions and Submit to Kaggle\n",
    "\n",
    "- Make predictions for test set\n",
    "- Generate submissions CSV\n",
    "- Submit to Kaggle\n",
    "- Record in experiment tracking sheet"
   ]
  },
  {
   "cell_type": "code",
   "execution_count": null,
   "metadata": {
    "id": "tI97qjgjyH1D"
   },
   "outputs": [],
   "source": [
    "test_preds = rf1.predict(test_df)\n",
    "test_df['Weekly_Sales'] = test_preds"
   ]
  },
  {
   "cell_type": "code",
   "execution_count": null,
   "metadata": {
    "id": "A3z3pE6sT3pH"
   },
   "outputs": [],
   "source": [
    "submission = pd.read_csv('./walmart-recruiting-store-sales-forecasting/sampleSubmission.csv')\n",
    "submission['Weekly_Sales'] = test_preds\n",
    "submission.to_csv('submission.csv',index=False)"
   ]
  },
  {
   "cell_type": "markdown",
   "metadata": {
    "id": "f9zhB3XHB_eJ"
   },
   "source": [
    "![](https://i.imgur.com/aJ7pNJD.png)"
   ]
  },
  {
   "cell_type": "markdown",
   "metadata": {
    "colab": {
     "base_uri": "https://localhost:8080/",
     "height": 88
    },
    "executionInfo": {
     "elapsed": 3535,
     "status": "ok",
     "timestamp": 1667806982584,
     "user": {
      "displayName": "Pankaj Thakur",
      "userId": "05146800060821315169"
     },
     "user_tz": -330
    },
    "id": "d0hQmh0rCQ2Q",
    "outputId": "9100dee8-efa9-4abe-bd82-39d39fd0addb"
   },
   "source": [
    "## Conclusion\n",
    "\n",
    "- In terms of sales, type A stores are superior than other two types\n",
    "- we can see there is more sales on holiday than usual days\n",
    "- There seems to be no relatiobship between the temperature in the region and weekly sales of the stores. At low and very high temperatures the sales seems to dip a bit but in general there doesn't exist a clear relationship\n",
    "- Between fuel price and the sales there doesn't seem to exist any clear relationship"
   ]
  },
  {
   "cell_type": "markdown",
   "metadata": {},
   "source": [
    "## References\n",
    "\n",
    "- Linear Regression with Scikit-Learn [Jovian Aakash N S ](https://jovian.ai/learn/zero-to-data-analyst-bootcamp/lesson/linear-regression-with-scikit-learn)  \n",
    "- How to approach Machine Learning Problems [Jovian Aakash N S](https://jovian.ai/learn/zero-to-data-analyst-bootcamp/lesson/how-to-approach-machine-learning-problems)   \n",
    " \n",
    "- Scikit Learn Supervised Learning [documentation](https://scikit-learn.org/stable/supervised_learning.html#supervised-learning) \n",
    "- Kaggle.com"
   ]
  },
  {
   "cell_type": "code",
   "execution_count": null,
   "metadata": {},
   "outputs": [
    {
     "data": {
      "application/javascript": [
       "window.require && require([\"base/js/namespace\"],function(Jupyter){Jupyter.notebook.save_checkpoint()})"
      ],
      "text/plain": [
       "<IPython.core.display.Javascript object>"
      ]
     },
     "metadata": {},
     "output_type": "display_data"
    }
   ],
   "source": [
    "jovian.commit()"
   ]
  },
  {
   "cell_type": "code",
   "execution_count": null,
   "metadata": {},
   "outputs": [],
   "source": []
  }
 ],
 "metadata": {
  "colab": {
   "provenance": []
  },
  "language_info": {
   "codemirror_mode": {
    "name": "ipython",
    "version": 3
   },
   "file_extension": ".py",
   "mimetype": "text/x-python",
   "name": "python",
   "nbconvert_exporter": "python",
   "pygments_lexer": "ipython3",
   "version": "3.9.6"
  }
 },
 "nbformat": 4,
 "nbformat_minor": 1
}